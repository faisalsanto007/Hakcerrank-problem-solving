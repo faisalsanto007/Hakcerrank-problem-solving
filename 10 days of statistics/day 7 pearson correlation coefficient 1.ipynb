{
 "cells": [
  {
   "cell_type": "code",
   "execution_count": null,
   "metadata": {},
   "outputs": [],
   "source": [
    "import statistics as st\n",
    "\n",
    "def correlation_coefficient(n, dt_x, dt_y):\n",
    "    mean_x = st.mean(dt_x)\n",
    "    mean_y = st.mean(dt_y)\n",
    "    std_x = st.pstdev(dt_x)\n",
    "    std_y = st.pstdev(dt_y)\n",
    "    c = 0\n",
    "    for i in range(n):\n",
    "        c = c + (dt_x[i] - mean_x) * (dt_y[i] - mean_y)\n",
    "    return c / (n * std_x * std_y)\n",
    "\n",
    "n = int(float(input()))\n",
    "data_set_x = list(map(float, input().split()))\n",
    "data_set_y = list(map(float, input().split()))\n",
    "\n",
    "print (round(correlation_coefficient(n, data_set_x, data_set_y), 3))"
   ]
  }
 ],
 "metadata": {
  "kernelspec": {
   "display_name": "Python 3",
   "language": "python",
   "name": "python3"
  },
  "language_info": {
   "codemirror_mode": {
    "name": "ipython",
    "version": 3
   },
   "file_extension": ".py",
   "mimetype": "text/x-python",
   "name": "python",
   "nbconvert_exporter": "python",
   "pygments_lexer": "ipython3",
   "version": "3.7.4"
  }
 },
 "nbformat": 4,
 "nbformat_minor": 2
}
