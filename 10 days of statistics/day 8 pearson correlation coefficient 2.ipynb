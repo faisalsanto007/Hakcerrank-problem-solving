{
 "cells": [
  {
   "cell_type": "code",
   "execution_count": 1,
   "metadata": {},
   "outputs": [
    {
     "name": "stdout",
     "output_type": "stream",
     "text": [
      "Result is: -0.75\n"
     ]
    }
   ],
   "source": [
    "\"\"\"\n",
    "Pearson Correlation Coefficient II\n",
    "\n",
    "\n",
    "regression X:\n",
    "3x + 4y + 8 = 0\n",
    "- 4y = 3x + 8\n",
    "-y = 3x/4 + 8/4\n",
    "-y = 3x/4 + 4 (reverse signal)\n",
    "y = -3x/4 - 4\n",
    "bx = -3/4\n",
    "\n",
    "regression Y:\n",
    "4x + 3y + 7 = 0\n",
    "-4y = 3y + 7\n",
    "-x = 3x/4 + 7/4 (reverse signal)\n",
    "y =  -3x/4 - 7/4\n",
    "by = -3/4\n",
    "r² = bx * by\n",
    "r² = -3/4 * -3/4\n",
    "r² = 9/16\n",
    "r +/- 3/4\n",
    "if bx = by then\n",
    "  r = -3/4\n",
    "\"\"\"\n",
    "\n",
    "print (f\"Result is: {-3/4}\")"
   ]
  },
  {
   "cell_type": "code",
   "execution_count": null,
   "metadata": {},
   "outputs": [],
   "source": []
  }
 ],
 "metadata": {
  "kernelspec": {
   "display_name": "Python 3",
   "language": "python",
   "name": "python3"
  },
  "language_info": {
   "codemirror_mode": {
    "name": "ipython",
    "version": 3
   },
   "file_extension": ".py",
   "mimetype": "text/x-python",
   "name": "python",
   "nbconvert_exporter": "python",
   "pygments_lexer": "ipython3",
   "version": "3.7.4"
  }
 },
 "nbformat": 4,
 "nbformat_minor": 2
}
