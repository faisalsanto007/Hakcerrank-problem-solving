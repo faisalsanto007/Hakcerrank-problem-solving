{
 "cells": [
  {
   "cell_type": "code",
   "execution_count": null,
   "metadata": {},
   "outputs": [],
   "source": [
    "# Set data\n",
    "dice1 = [1,2,3,4,5,6]\n",
    "dice2 = [1,2,3,4,5,6]\n",
    "total = len(dice1) * len(dice2)\n",
    "total_possibilities = 0\n",
    "\n",
    "# Verify possibilities\n",
    "for i in range(len(dice1)):\n",
    "    for j in range(len(dice2)):\n",
    "        if (dice1[j] + dice1[i]) <= 9:\n",
    "            total_possibilities = total_possibilities + 1\n",
    "            print(\"{0} + {1} = {2}\".format(dice1[i], dice2[j], (dice1[j] + dice1[i])))\n",
    "\n",
    "# Get probability\n",
    "probability = total_possibilities / total\n",
    "print(\"Probability: {0}/{1} = {2}\".format(total_possibilities,total,probability))"
   ]
  }
 ],
 "metadata": {
  "kernelspec": {
   "display_name": "Python 3",
   "language": "python",
   "name": "python3"
  },
  "language_info": {
   "codemirror_mode": {
    "name": "ipython",
    "version": 3
   },
   "file_extension": ".py",
   "mimetype": "text/x-python",
   "name": "python",
   "nbconvert_exporter": "python",
   "pygments_lexer": "ipython3",
   "version": "3.7.4"
  }
 },
 "nbformat": 4,
 "nbformat_minor": 2
}
