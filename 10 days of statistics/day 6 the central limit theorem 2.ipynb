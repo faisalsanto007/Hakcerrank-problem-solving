{
 "cells": [
  {
   "cell_type": "code",
   "execution_count": null,
   "metadata": {},
   "outputs": [],
   "source": [
    "import math\n",
    "\n",
    "def cumulative(mean, std, value):\n",
    "    return 0.5 * (1 + math.erf((value - mean) / (std * (2 ** 0.5))))\n",
    "\n",
    "# Set data\n",
    "max_weight = float(input())\n",
    "n = float(input())\n",
    "mean = float(input())\n",
    "std = float(input())\n",
    "\n",
    "new_mean = mean * n\n",
    "new_std = math.sqrt(n) * std\n",
    "\n",
    "# Gets the result and show on the screen\n",
    "print (round(cumulative(new_mean, new_std, max_weight),4))"
   ]
  },
  {
   "cell_type": "code",
   "execution_count": null,
   "metadata": {},
   "outputs": [],
   "source": [
    "# slightly different\n",
    "\n",
    "import math\n",
    "\n",
    "\n",
    "def cdf(x, mean, std):\n",
    "    return 1/2*(1+math.erf((x-mean) / std / 2**(1/2)))\n",
    "\n",
    "# inputs\n",
    "mean = 2.4\n",
    "std = 2\n",
    "n = 100\n",
    "target = 250\n",
    "\n",
    "# characteristics of sum\n",
    "mean_s = n * mean\n",
    "std_s = std * n**(1/2)\n",
    "\n",
    "# Find the probability that sum <= 250\n",
    "print(round(cdf(target, mean_s, std_s), 4))"
   ]
  }
 ],
 "metadata": {
  "kernelspec": {
   "display_name": "Python 3",
   "language": "python",
   "name": "python3"
  },
  "language_info": {
   "codemirror_mode": {
    "name": "ipython",
    "version": 3
   },
   "file_extension": ".py",
   "mimetype": "text/x-python",
   "name": "python",
   "nbconvert_exporter": "python",
   "pygments_lexer": "ipython3",
   "version": "3.7.4"
  }
 },
 "nbformat": 4,
 "nbformat_minor": 2
}
