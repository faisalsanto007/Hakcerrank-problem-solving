{
 "cells": [
  {
   "cell_type": "code",
   "execution_count": null,
   "metadata": {},
   "outputs": [],
   "source": [
    "import math\n",
    "\n",
    "# Set data\n",
    "n = float(input())\n",
    "mean = float(input())\n",
    "std = float(input())\n",
    "percent_ci = float(input())\n",
    "value_ci = float(input())\n",
    "\n",
    "# Formula CI\n",
    "ci = value_ci * (std / math.sqrt(n))\n",
    "\n",
    "# Gets the result and show on the screen\n",
    "print(round(mean - ci, 2))\n",
    "print(round(mean + ci, 2))"
   ]
  },
  {
   "cell_type": "code",
   "execution_count": null,
   "metadata": {},
   "outputs": [],
   "source": [
    "# direct approach\n",
    "\n",
    "mean = 500\n",
    "std = 80\n",
    "n = 100\n",
    "z = 1.96\n",
    "\n",
    "# characteristics of sample\n",
    "mean = mean\n",
    "std = std / n**(1/2)\n",
    "\n",
    "# Find the 95% interval\n",
    "print(round(mean - std * z, 2))\n",
    "print(round(mean + std * z, 2))"
   ]
  }
 ],
 "metadata": {
  "kernelspec": {
   "display_name": "Python 3",
   "language": "python",
   "name": "python3"
  },
  "language_info": {
   "codemirror_mode": {
    "name": "ipython",
    "version": 3
   },
   "file_extension": ".py",
   "mimetype": "text/x-python",
   "name": "python",
   "nbconvert_exporter": "python",
   "pygments_lexer": "ipython3",
   "version": "3.7.4"
  }
 },
 "nbformat": 4,
 "nbformat_minor": 2
}
