{
 "cells": [
  {
   "cell_type": "code",
   "execution_count": null,
   "metadata": {},
   "outputs": [],
   "source": [
    "import math\n",
    "\n",
    "\n",
    "def cdf(x, mean, std):\n",
    "    return 1/2*(1+math.erf((x-mean) / std / 2**(1/2)))\n",
    "\n",
    "\n",
    "mean = 20\n",
    "std = 2\n",
    "\n",
    "# Less than 19.5 hours\n",
    "print(round(cdf(19.5, mean, std), 3))\n",
    "# Between 20 and 22 hours\n",
    "print(round(cdf(22, mean, std) - cdf(20, mean, std), 3))"
   ]
  },
  {
   "cell_type": "code",
   "execution_count": null,
   "metadata": {},
   "outputs": [],
   "source": [
    "# another way\n",
    "\n",
    "import math\n",
    "\n",
    "def cumulative(mean, std, value):\n",
    "    return 0.5 * (1 + math.erf((value - mean) / (std * (2 ** 0.5))))\n",
    "\n",
    "initial_values = list(map(float, input().split()))\n",
    "mean = initial_values[0]\n",
    "std = initial_values[1]\n",
    "less_period = float(input())\n",
    "between_period = list(map(float, input().split()))\n",
    "\n",
    "print (round(cumulative(mean, std, less_period),3))\n",
    "print (round(cumulative(mean, std, between_period[1]) - cumulative(mean, std, between_period[0]), 3))"
   ]
  }
 ],
 "metadata": {
  "kernelspec": {
   "display_name": "Python 3",
   "language": "python",
   "name": "python3"
  },
  "language_info": {
   "codemirror_mode": {
    "name": "ipython",
    "version": 3
   },
   "file_extension": ".py",
   "mimetype": "text/x-python",
   "name": "python",
   "nbconvert_exporter": "python",
   "pygments_lexer": "ipython3",
   "version": "3.7.4"
  }
 },
 "nbformat": 4,
 "nbformat_minor": 2
}
