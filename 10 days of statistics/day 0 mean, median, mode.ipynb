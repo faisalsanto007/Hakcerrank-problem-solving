{
 "cells": [
  {
   "cell_type": "code",
   "execution_count": 3,
   "metadata": {},
   "outputs": [
    {
     "name": "stdout",
     "output_type": "stream",
     "text": [
      "3\n",
      "6\n",
      "4\n",
      "5\n",
      "mean=  5.0\n",
      "median= 5.0\n"
     ]
    }
   ],
   "source": [
    "n = int(input())\n",
    "    \n",
    "b = [int(input()) for i in range(n)]\n",
    "    \n",
    "mean = (sum(b))/n\n",
    "\n",
    "b.sort()\n",
    "if n%2==0:\n",
    "    a = (n//2)-1 # integer ashbe output\n",
    "    median = (b[a] + b[a+1])/2\n",
    "else:\n",
    "    a = ((n+1)//2)-1\n",
    "    median = b[a]\n",
    "\n",
    "print(f'mean= {mean: 0.1f}')\n",
    "\n",
    "print(f'median= {median:0.1f}')"
   ]
  },
  {
   "cell_type": "code",
   "execution_count": null,
   "metadata": {},
   "outputs": [],
   "source": [
    "# almost my way/ python 2\n",
    "\n",
    "n = raw_input()\n",
    "\n",
    "elements = raw_input()\n",
    "int_elements = []\n",
    "# Store elements string into an array where each number is a spot in the array\n",
    "for elem in elements.split(' '):\n",
    "    int_elements.append(int(elem))\n",
    "\n",
    "    \n",
    "sum_of_elements = sum(int_elements)\n",
    "mean = sum_of_elements / float(n)\n",
    "print mean\n",
    "\n",
    "sorted_elements = sorted(int_elements)\n",
    "\n",
    "middle_elements = [sorted_elements[int(n)/2], sorted_elements[int(n)/2 - 1]]\n",
    "\n",
    "median_of_elements = sum(middle_elements) / 2.0\n",
    "\n",
    "print float(median_of_elements)\n",
    "\n",
    "highest_freq, highest_freq_elem = 0, 0\n",
    "for elem in sorted_elements:\n",
    "    current_count = sorted_elements.count(elem)\n",
    "    if (current_count > highest_freq):\n",
    "        highest_freq = current_count\n",
    "        highest_freq_elem = elem\n",
    "        \n",
    "mode = highest_freq_elem\n",
    "print mode"
   ]
  },
  {
   "cell_type": "code",
   "execution_count": null,
   "metadata": {},
   "outputs": [],
   "source": [
    "# another soln\n",
    "\n",
    "import numpy as np\n",
    "from scipy import stats\n",
    "\n",
    "size = int(input())\n",
    "numbers = list(map(int, input().split()))\n",
    "print(np.mean(numbers))\n",
    "print(np.median(numbers))\n",
    "print(int(stats.mode(numbers)[0]))"
   ]
  }
 ],
 "metadata": {
  "kernelspec": {
   "display_name": "Python 3",
   "language": "python",
   "name": "python3"
  },
  "language_info": {
   "codemirror_mode": {
    "name": "ipython",
    "version": 3
   },
   "file_extension": ".py",
   "mimetype": "text/x-python",
   "name": "python",
   "nbconvert_exporter": "python",
   "pygments_lexer": "ipython3",
   "version": "3.7.4"
  }
 },
 "nbformat": 4,
 "nbformat_minor": 2
}
