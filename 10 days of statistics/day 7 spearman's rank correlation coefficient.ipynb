{
 "cells": [
  {
   "cell_type": "code",
   "execution_count": null,
   "metadata": {},
   "outputs": [],
   "source": [
    "def rank(dt):\n",
    "    rank = {}\n",
    "    sort = sorted(dt)\n",
    "    for i in range(len(dt)):\n",
    "        for j in range(len(sort)):\n",
    "            if dt[i] == sort[j]:\n",
    "                rank[dt[i]] = j + 1\n",
    "    return rank\n",
    "\n",
    "def spearman(x, y, rx, ry, n):\n",
    "    diff_rank = 0\n",
    "    for i in range(n):\n",
    "        if rx[x[i]] != ry[y[i]]:\n",
    "            diff_rank = diff_rank + ((rx[x[i]] - ry[y[i]]) ** 2)\n",
    "    return (6 * diff_rank) / (n ** 3 - n)\n",
    "\n",
    "n = int(float(input()))\n",
    "data_set_x = list(map(float, input().split()))\n",
    "data_set_y = list(map(float, input().split()))\n",
    "\n",
    "rank_x = rank(data_set_x)\n",
    "rank_y = rank(data_set_y)\n",
    "\n",
    "s = spearman(data_set_x, data_set_y, rank_x, rank_y, n)\n",
    "print(round(1 - s, 3))"
   ]
  }
 ],
 "metadata": {
  "kernelspec": {
   "display_name": "Python 3",
   "language": "python",
   "name": "python3"
  },
  "language_info": {
   "codemirror_mode": {
    "name": "ipython",
    "version": 3
   },
   "file_extension": ".py",
   "mimetype": "text/x-python",
   "name": "python",
   "nbconvert_exporter": "python",
   "pygments_lexer": "ipython3",
   "version": "3.7.4"
  }
 },
 "nbformat": 4,
 "nbformat_minor": 2
}
