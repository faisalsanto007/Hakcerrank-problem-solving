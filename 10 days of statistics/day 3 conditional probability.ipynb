{
 "cells": [
  {
   "cell_type": "code",
   "execution_count": null,
   "metadata": {},
   "outputs": [],
   "source": [
    "#Suppose a family has 2 children, one of which is a boy.\n",
    "#What is the probability that both children are boys?\n",
    "\n",
    "\n",
    "#first children is boy and second is boy\n",
    "#first children is boy and second is girl\n",
    "#first children is girl and second is girl\n",
    "#It is three different possibilities\n",
    "\n",
    "print(1/3)"
   ]
  }
 ],
 "metadata": {
  "kernelspec": {
   "display_name": "Python 3",
   "language": "python",
   "name": "python3"
  },
  "language_info": {
   "codemirror_mode": {
    "name": "ipython",
    "version": 3
   },
   "file_extension": ".py",
   "mimetype": "text/x-python",
   "name": "python",
   "nbconvert_exporter": "python",
   "pygments_lexer": "ipython3",
   "version": "3.7.4"
  }
 },
 "nbformat": 4,
 "nbformat_minor": 2
}
