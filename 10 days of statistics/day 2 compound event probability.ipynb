{
 "cells": [
  {
   "cell_type": "code",
   "execution_count": null,
   "metadata": {},
   "outputs": [],
   "source": [
    "# Set data\n",
    "x = {\"Red\":4/7, \"Black\":3/7}\n",
    "y = {\"Red\":5/9, \"Black\":4/9}\n",
    "z = {\"Red\":4/8, \"Black\":4/8}\n",
    "\n",
    "# Get possibilities\n",
    "first_possibility = x[\"Red\"] * y[\"Red\"] * z[\"Black\"]\n",
    "second_possibility = x[\"Red\"] * y[\"Black\"] * z[\"Red\"]\n",
    "third_possibility = x[\"Black\"] * y[\"Red\"] * z[\"Red\"]\n",
    "\n",
    "# Get probability\n",
    "print(first_possibility + second_possibility + third_possibility)"
   ]
  }
 ],
 "metadata": {
  "kernelspec": {
   "display_name": "Python 3",
   "language": "python",
   "name": "python3"
  },
  "language_info": {
   "codemirror_mode": {
    "name": "ipython",
    "version": 3
   },
   "file_extension": ".py",
   "mimetype": "text/x-python",
   "name": "python",
   "nbconvert_exporter": "python",
   "pygments_lexer": "ipython3",
   "version": "3.7.4"
  }
 },
 "nbformat": 4,
 "nbformat_minor": 2
}
