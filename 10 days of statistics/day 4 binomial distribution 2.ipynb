{
 "cells": [
  {
   "cell_type": "code",
   "execution_count": null,
   "metadata": {},
   "outputs": [],
   "source": [
    "# Question: A manufacturer of metal pistons finds that, on average, 12% of the\n",
    "# pistons they manufacture are rejected because they are incorrectly sized.\n",
    "# What is the probability that a batch of 10 pistons will contain:\n",
    "\n",
    "# Define functions\n",
    "def factorial(n):\n",
    "    if n == 1 or n == 0:\n",
    "        return 1\n",
    "    if n > 1:\n",
    "        return factorial(n - 1) * n\n",
    "\n",
    "def binomial(x, n, p):\n",
    "    f = factorial(n) / (factorial(n - x) * factorial(x))\n",
    "    return (f * p**x * (1.0 - p)**(n-x))\n",
    "\n",
    "# Set data\n",
    "values = list(map(float, input().split()))\n",
    "p = (values[0] / 100)\n",
    "n = int(values[1])\n",
    "\n",
    "# First rule: No more than 2 rejects\n",
    "no_more_than_2_rejects = 0\n",
    "for i in range(n):\n",
    "    if i < 3:\n",
    "        no_more_than_2_rejects = no_more_than_2_rejects + binomial(i, n, p)\n",
    "print(round(no_more_than_2_rejects, 3))\n",
    "\n",
    "# Second rule: At least 2 rejects\n",
    "at_least_2_rejects = 0\n",
    "for i in range(n):\n",
    "    if i > 1:\n",
    "        at_least_2_rejects = at_least_2_rejects + binomial(i, n, p)\n",
    "print(round(at_least_2_rejects, 3))"
   ]
  },
  {
   "cell_type": "code",
   "execution_count": null,
   "metadata": {},
   "outputs": [],
   "source": [
    "# another way\n",
    "\n",
    "import math\n",
    "\n",
    "\n",
    "p = 0.12\n",
    "ans1 = 0\n",
    "for i in range(0, 3):\n",
    "    ans1 += math.factorial(10)/math.factorial(i)/math.factorial(10-i) * p**i * (1-p)**(10-i)\n",
    "    if i == 1:\n",
    "        ans2 = 1 - ans1\n",
    "\n",
    "print(round(ans1, 3))\n",
    "print(round(ans2, 3))"
   ]
  }
 ],
 "metadata": {
  "kernelspec": {
   "display_name": "Python 3",
   "language": "python",
   "name": "python3"
  },
  "language_info": {
   "codemirror_mode": {
    "name": "ipython",
    "version": 3
   },
   "file_extension": ".py",
   "mimetype": "text/x-python",
   "name": "python",
   "nbconvert_exporter": "python",
   "pygments_lexer": "ipython3",
   "version": "3.7.4"
  }
 },
 "nbformat": 4,
 "nbformat_minor": 2
}
