{
 "cells": [
  {
   "cell_type": "markdown",
   "metadata": {},
   "source": [
    "In the context of a regular expression (RegEx), a character class is a set of characters enclosed within square brackets that allows you to match one character in the set.\n",
    "\n",
    "A hyphen (-) inside a character class specifies a range of characters where the left and right operands are the respective lower and upper bounds of the range. For example:\n",
    "\n",
    "    [a-z] is the same as [abcdefghijklmnopqrstuvwxyz].\n",
    "    [A-Z] is the same as [ABCDEFGHIJKLMNOPQRSTUVWXYZ].\n",
    "    [0-9] is the same as [0-9].\n",
    " \n",
    "In addition, if you use a caret (^) as the first character inside a character class, it will match anything that is not in that range. For example, \n",
    "    \n",
    "    [^0-9] matches any character that is not a digit in the inclusive range from 0 to 9. \n",
    "\n",
    "It's important to note that, when used outside of (immediately preceding) a character or character class, the caret matches the first character in the string against that character or set of characters.\n",
    "\n",
    "**Task**\n",
    "\n",
    "Write a RegEx that will match a string satisfying the following conditions:\n",
    "\n",
    "    The string's length is >= 5.\n",
    "    The first character must be a lowercase English alphabetic character.\n",
    "    The second character must be a positive digit. Note that we consider zero to be neither positive nor negative.\n",
    "    The third character must not be a lowercase English alphabetic character.\n",
    "    The fourth character must not be an uppercase English alphabetic character.\n",
    "    The fifth character must be an uppercase English alphabetic character."
   ]
  },
  {
   "cell_type": "code",
   "execution_count": null,
   "metadata": {},
   "outputs": [],
   "source": [
    "import re\n",
    "\n",
    "regex_pattern = r'^[a-z][1-9][^a-z][^A-Z][A-Z]'\n",
    "\n",
    "print(str(bool(re.search(regex_pattern, input()))).lower())"
   ]
  }
 ],
 "metadata": {
  "kernelspec": {
   "display_name": "Python 3",
   "language": "python",
   "name": "python3"
  },
  "language_info": {
   "codemirror_mode": {
    "name": "ipython",
    "version": 3
   },
   "file_extension": ".py",
   "mimetype": "text/x-python",
   "name": "python",
   "nbconvert_exporter": "python",
   "pygments_lexer": "ipython3",
   "version": "3.7.4"
  }
 },
 "nbformat": 4,
 "nbformat_minor": 2
}
