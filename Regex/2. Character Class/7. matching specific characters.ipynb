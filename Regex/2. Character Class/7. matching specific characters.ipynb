{
 "cells": [
  {
   "cell_type": "markdown",
   "metadata": {},
   "source": [
    "**Task**\n",
    "\n",
    "You have a test string 'S'.\n",
    "Your task is to write a regex that will match 'S' with following conditions:\n",
    "\n",
    "    'S' must be of length: 6\n",
    "    First character: 1, 2 or 3\n",
    "    Second character: 1, 2 or 0\n",
    "    Third character: x, s or 0\n",
    "    Fourth character: 3, 0 , A or a\n",
    "    Fifth character: x, s or u\n",
    "    Sixth character: . or ,"
   ]
  },
  {
   "cell_type": "code",
   "execution_count": null,
   "metadata": {},
   "outputs": [],
   "source": [
    "regex_pattern = r'^[123][120][xs0][30Aa][xsu][.,]$'\n",
    "\n",
    "import re\n",
    "\n",
    "print(str(bool(re.search(regex_pattern, input()))).lower())"
   ]
  }
 ],
 "metadata": {
  "kernelspec": {
   "display_name": "Python 3",
   "language": "python",
   "name": "python3"
  },
  "language_info": {
   "codemirror_mode": {
    "name": "ipython",
    "version": 3
   },
   "file_extension": ".py",
   "mimetype": "text/x-python",
   "name": "python",
   "nbconvert_exporter": "python",
   "pygments_lexer": "ipython3",
   "version": "3.7.4"
  }
 },
 "nbformat": 4,
 "nbformat_minor": 2
}
