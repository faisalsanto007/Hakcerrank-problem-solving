{
 "cells": [
  {
   "cell_type": "markdown",
   "metadata": {},
   "source": [
    "**[^]**\n",
    "\n",
    "The negated character class [^] matches any character that is not in the square brackets.\n",
    "\n",
    "**Task**\n",
    "\n",
    "You have a test string 'S'.\n",
    "\n",
    "Your task is to write a regex that will match 'S' with the following conditions:\n",
    "\n",
    "    'S' must be of length 6.\n",
    "    First character should not be a digit (1,2,3,4,5,6,7,8,9 or 0).\n",
    "    Second character should not be a lowercase vowel (a,e,i,o or u).\n",
    "    Third character should not be b, c, D or F.\n",
    "    Fourth character should not be a whitespace character ( \\r, \\n, \\t, \\f or <space> ).\n",
    "    Fifth character should not be a uppercase vowel (A,E,I,O or U).\n",
    "    Sixth character should not be a . or , symbol."
   ]
  },
  {
   "cell_type": "code",
   "execution_count": null,
   "metadata": {},
   "outputs": [],
   "source": [
    "import re\n",
    "\n",
    "regex_pattern = r'^[^\\d][^aeiou][^bcDF][^\\s][^AEIOU][^.,]$'\n",
    "\n",
    "print(str(bool(re.search(regex_pattern, input()))).lower())"
   ]
  }
 ],
 "metadata": {
  "kernelspec": {
   "display_name": "Python 3",
   "language": "python",
   "name": "python3"
  },
  "language_info": {
   "codemirror_mode": {
    "name": "ipython",
    "version": 3
   },
   "file_extension": ".py",
   "mimetype": "text/x-python",
   "name": "python",
   "nbconvert_exporter": "python",
   "pygments_lexer": "ipython3",
   "version": "3.7.4"
  }
 },
 "nbformat": 4,
 "nbformat_minor": 2
}
