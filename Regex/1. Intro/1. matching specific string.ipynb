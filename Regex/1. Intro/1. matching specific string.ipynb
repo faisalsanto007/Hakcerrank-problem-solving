{
 "cells": [
  {
   "cell_type": "code",
   "execution_count": null,
   "metadata": {},
   "outputs": [],
   "source": [
    "import re\n",
    "\n",
    "Regex_Pattern = r'hackerrank'\n",
    "\n",
    "Test_String = input()\n",
    "\n",
    "match = re.findall(Regex_Pattern, Test_String)\n",
    "\n",
    "print(\"Number of matches :\", len(match))"
   ]
  }
 ],
 "metadata": {
  "kernelspec": {
   "display_name": "Python 3",
   "language": "python",
   "name": "python3"
  },
  "language_info": {
   "codemirror_mode": {
    "name": "ipython",
    "version": 3
   },
   "file_extension": ".py",
   "mimetype": "text/x-python",
   "name": "python",
   "nbconvert_exporter": "python",
   "pygments_lexer": "ipython3",
   "version": "3.7.4"
  }
 },
 "nbformat": 4,
 "nbformat_minor": 2
}
