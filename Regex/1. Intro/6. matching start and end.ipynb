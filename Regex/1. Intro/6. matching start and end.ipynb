{
 "cells": [
  {
   "cell_type": "markdown",
   "metadata": {},
   "source": [
    "The '^' symbol matches the position at the start of a string.\n",
    "\n",
    "The '$' symbol matches the position at the end of a string.\n",
    "\n",
    "**Task**\n",
    "\n",
    "    You have a test string 'S'. Your task is to match the pattern Xxxxx. \n",
    "    Here, 'x' denotes a word character, and 'X' denotes a digit.\n",
    "    'S' must start with a digit 'X' and end with '.' symbol.\n",
    "    'S' should be 6 characters long only."
   ]
  },
  {
   "cell_type": "code",
   "execution_count": null,
   "metadata": {},
   "outputs": [],
   "source": [
    "import re\n",
    "\n",
    "regex_pattern = r\"^\\d\\S{4}\\.$\"\n",
    "\n",
    "print(str(bool(re.search(regex_pattern, input()))).lower())"
   ]
  }
 ],
 "metadata": {
  "kernelspec": {
   "display_name": "Python 3",
   "language": "python",
   "name": "python3"
  },
  "language_info": {
   "codemirror_mode": {
    "name": "ipython",
    "version": 3
   },
   "file_extension": ".py",
   "mimetype": "text/x-python",
   "name": "python",
   "nbconvert_exporter": "python",
   "pygments_lexer": "ipython3",
   "version": "3.7.4"
  }
 },
 "nbformat": 4,
 "nbformat_minor": 2
}
