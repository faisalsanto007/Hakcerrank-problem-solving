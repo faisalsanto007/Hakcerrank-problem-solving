{
 "cells": [
  {
   "cell_type": "markdown",
   "metadata": {},
   "source": [
    "Parenthesis ( ) around a regular expression can group that part of regex together. This allows us to apply different quantifiers to that group.\n",
    "\n",
    "These parenthesis also create a numbered capturing. It stores the part of string matched by the part of regex inside parentheses.\n",
    "\n",
    "(?: ) can be used to create a non-capturing group. It is useful if we do not need the group to capture its match.\n",
    "\n",
    "**Task**\n",
    "\n",
    "    You have a test String 'S'.\n",
    "    Your task is to write a regex which will match 'S' with the following condition:\n",
    "    'S' should have 3 or more consecutive repetitions of ok."
   ]
  },
  {
   "cell_type": "code",
   "execution_count": null,
   "metadata": {},
   "outputs": [],
   "source": [
    "import re\n",
    "\n",
    "regex_pattern = r'(ok){3,}'\n",
    "\n",
    "print(str(bool(re.search(regex_pattern, input()))).lower())"
   ]
  }
 ],
 "metadata": {
  "kernelspec": {
   "display_name": "Python 3",
   "language": "python",
   "name": "python3"
  },
  "language_info": {
   "codemirror_mode": {
    "name": "ipython",
    "version": 3
   },
   "file_extension": ".py",
   "mimetype": "text/x-python",
   "name": "python",
   "nbconvert_exporter": "python",
   "pygments_lexer": "ipython3",
   "version": "3.7.4"
  }
 },
 "nbformat": 4,
 "nbformat_minor": 2
}
