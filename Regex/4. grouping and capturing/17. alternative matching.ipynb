{
 "cells": [
  {
   "cell_type": "markdown",
   "metadata": {},
   "source": [
    "Alternations, denoted by the | character, match a single item out of several possible items separated by the vertical bar. When used inside a character class, it will match characters; when used inside a group, it will match entire expressions (i.e., everything to the left or everything to the right of the vertical bar). We must use parentheses to limit the use of alternations.\n",
    "\n",
    "**For example:**\n",
    "\n",
    "    (Bob|Kevin|Stuart) will match either Bob or Kevin or Stuart.\n",
    "    ([a-f]|[A-F]) will match any of the following characters: a, b, c, d, e, f, A, B, C, D, E, or F.\n",
    "\n",
    "**Task**\n",
    "\n",
    "Given a test string 'S', write a RegEx that matches 'S' under the following conditions:\n",
    "\n",
    "    'S' must start with Mr., Mrs., Ms., Dr. or Er..\n",
    "    The rest of the string must contain only one or more English alphabetic letters (upper and lowercase)."
   ]
  },
  {
   "cell_type": "code",
   "execution_count": null,
   "metadata": {},
   "outputs": [],
   "source": [
    "import re\n",
    "\n",
    "regex_pattern = r'^(Mr\\.|Mrs\\.|Ms\\.|Dr\\.|Er\\.)([a-zA-Z]+)$'\n",
    "\n",
    "print(str(bool(re.search(regex_pattern, input()))).lower())"
   ]
  }
 ],
 "metadata": {
  "kernelspec": {
   "display_name": "Python 3",
   "language": "python",
   "name": "python3"
  },
  "language_info": {
   "codemirror_mode": {
    "name": "ipython",
    "version": 3
   },
   "file_extension": ".py",
   "mimetype": "text/x-python",
   "name": "python",
   "nbconvert_exporter": "python",
   "pygments_lexer": "ipython3",
   "version": "3.7.4"
  }
 },
 "nbformat": 4,
 "nbformat_minor": 2
}
