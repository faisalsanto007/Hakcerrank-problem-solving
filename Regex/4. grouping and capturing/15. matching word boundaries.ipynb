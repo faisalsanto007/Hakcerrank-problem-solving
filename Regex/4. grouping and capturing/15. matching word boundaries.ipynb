{
 "cells": [
  {
   "cell_type": "markdown",
   "metadata": {},
   "source": [
    "\\b assert position at a word boundary.\n",
    "\n",
    "Three different positions qualify for word boundaries :\n",
    "\n",
    "    ► Before the first character in the string, if the first character is a word character.\n",
    "    ► Between two characters in the string, where one is a word character and the other is not a word character.\n",
    "    ► After the last character in the string, if the last character is a word character."
   ]
  },
  {
   "cell_type": "code",
   "execution_count": null,
   "metadata": {},
   "outputs": [],
   "source": [
    "import re\n",
    "\n",
    "regex_pattern = r'\\b[aeiouAEIOU][a-zA-Z]*\\b' \n",
    "\n",
    "print(str(bool(re.search(regex_pattern, input()))).lower())"
   ]
  },
  {
   "cell_type": "markdown",
   "metadata": {},
   "source": [
    "**Task**\n",
    "\n",
    "    You have a test String 'S'.\n",
    "    Your task is to write a regex which will match word starting with vowel (a,e,i,o, u, A, E, I , O or U).\n",
    "    The matched word can be of any length. The matched word should consist of letters (lowercase and uppercase both) only.\n",
    "    The matched word must start and end with a word boundary."
   ]
  },
  {
   "cell_type": "code",
   "execution_count": null,
   "metadata": {},
   "outputs": [],
   "source": []
  }
 ],
 "metadata": {
  "kernelspec": {
   "display_name": "Python 3",
   "language": "python",
   "name": "python3"
  },
  "language_info": {
   "codemirror_mode": {
    "name": "ipython",
    "version": 3
   },
   "file_extension": ".py",
   "mimetype": "text/x-python",
   "name": "python",
   "nbconvert_exporter": "python",
   "pygments_lexer": "ipython3",
   "version": "3.7.4"
  }
 },
 "nbformat": 4,
 "nbformat_minor": 2
}
