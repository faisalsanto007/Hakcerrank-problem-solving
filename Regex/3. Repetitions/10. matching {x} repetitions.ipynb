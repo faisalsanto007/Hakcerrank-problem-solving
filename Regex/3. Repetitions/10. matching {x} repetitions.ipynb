{
 "cells": [
  {
   "cell_type": "markdown",
   "metadata": {},
   "source": [
    "**{x}**\n",
    "\n",
    "The tool {x} will match exactly 'x' repetitions of character/character class/groups.\n",
    "\n",
    "**For Example:**\n",
    "\n",
    "    w{3} : It will match the character w exactly 3 times.\n",
    "    [xyz]{5} : It will match the string of length 5 consisting of characters {x, y, z}. For example it will match xxxxx, xxxyy and xyxyz.\n",
    "    \\d{4} : It will match any digit exactly 4 times.\n",
    "\n",
    "**Task**\n",
    "\n",
    "    You have a test string 'S'.\n",
    "    Your task is to write a regex that will match 'S' using the following conditions:\n",
    "\n",
    "    'S' must be of length equal to 45.\n",
    "    The first 40 characters should consist of letters(both lowercase and uppercase), or of even digits.\n",
    "    The last 5 characters should consist of odd digits or whitespace characters."
   ]
  },
  {
   "cell_type": "code",
   "execution_count": null,
   "metadata": {},
   "outputs": [],
   "source": [
    "import re\n",
    "\n",
    "regex_pattern = r'^[a-zA-Z02468]{40}[\\s13579]{5}$' \n",
    "\n",
    "print(str(bool(re.search(regex_pattern, input()))).lower())"
   ]
  }
 ],
 "metadata": {
  "kernelspec": {
   "display_name": "Python 3",
   "language": "python",
   "name": "python3"
  },
  "language_info": {
   "codemirror_mode": {
    "name": "ipython",
    "version": 3
   },
   "file_extension": ".py",
   "mimetype": "text/x-python",
   "name": "python",
   "nbconvert_exporter": "python",
   "pygments_lexer": "ipython3",
   "version": "3.7.4"
  }
 },
 "nbformat": 4,
 "nbformat_minor": 2
}
