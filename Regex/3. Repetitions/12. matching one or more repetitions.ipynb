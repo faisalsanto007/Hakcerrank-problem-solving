{
 "cells": [
  {
   "cell_type": "markdown",
   "metadata": {},
   "source": [
    "The + tool will match one or more repetitions of character/character class/group.\n",
    "\n",
    "**For Example:**\n",
    "\n",
    "    w+ : It will match the character w 1 or more times.\n",
    "    [xyz]+ : It will match the character x, y or z 1 or more times.\n",
    "    \\d+ : It will match any digit 1 or more times.\n",
    "\n",
    "**Task**\n",
    "\n",
    "    You have a test string 'S'.\n",
    "    Your task is to write a regex that will match 'S' using the following conditions:\n",
    "\n",
    "    'S' should begin with 1 or more digits.\n",
    "    After that, 'S' should have 1 or more uppercase letters.\n",
    "    'S' should end with 1 or more lowercase letters."
   ]
  },
  {
   "cell_type": "code",
   "execution_count": null,
   "metadata": {},
   "outputs": [],
   "source": [
    "import re\n",
    "\n",
    "regex_pattern = r'^\\d+[A-Z]+[a-z]+$'\n",
    "\n",
    "print(str(bool(re.search(regex_pattern, input()))).lower())"
   ]
  }
 ],
 "metadata": {
  "kernelspec": {
   "display_name": "Python 3",
   "language": "python",
   "name": "python3"
  },
  "language_info": {
   "codemirror_mode": {
    "name": "ipython",
    "version": 3
   },
   "file_extension": ".py",
   "mimetype": "text/x-python",
   "name": "python",
   "nbconvert_exporter": "python",
   "pygments_lexer": "ipython3",
   "version": "3.7.4"
  }
 },
 "nbformat": 4,
 "nbformat_minor": 2
}
