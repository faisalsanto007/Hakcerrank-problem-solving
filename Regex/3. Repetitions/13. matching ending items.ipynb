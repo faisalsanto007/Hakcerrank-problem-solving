{
 "cells": [
  {
   "cell_type": "markdown",
   "metadata": {},
   "source": [
    "The '$' boundary matcher matches an occurrence of a character/character class/group at the end of a line.\n",
    "\n",
    "**Task**\n",
    "\n",
    "    Write a RegEx to match a test string 'S', under the following conditions:\n",
    "\n",
    "     'S' should consist of only lowercase and uppercase letters (no numbers or symbols).\n",
    "     'S' should end in s."
   ]
  },
  {
   "cell_type": "code",
   "execution_count": null,
   "metadata": {},
   "outputs": [],
   "source": [
    "import re\n",
    "\n",
    "regex_pattern = r'^[a-zA-Z]*s$'\n",
    "\n",
    "print(str(bool(re.search(regex_pattern, input()))).lower())"
   ]
  }
 ],
 "metadata": {
  "kernelspec": {
   "display_name": "Python 3",
   "language": "python",
   "name": "python3"
  },
  "language_info": {
   "codemirror_mode": {
    "name": "ipython",
    "version": 3
   },
   "file_extension": ".py",
   "mimetype": "text/x-python",
   "name": "python",
   "nbconvert_exporter": "python",
   "pygments_lexer": "ipython3",
   "version": "3.7.4"
  }
 },
 "nbformat": 4,
 "nbformat_minor": 2
}
