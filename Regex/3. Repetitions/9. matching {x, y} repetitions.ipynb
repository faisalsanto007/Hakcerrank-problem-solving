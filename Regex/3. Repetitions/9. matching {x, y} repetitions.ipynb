{
 "cells": [
  {
   "cell_type": "markdown",
   "metadata": {},
   "source": [
    "**{x, y}**\n",
    "The {x,y} tool will match between x and y (both inclusive) repetitions of character/character class/group.\n",
    "\n",
    "**For Example:**\n",
    "\n",
    "    w{3,5} : It will match the character w 3, 4 or 5 times.\n",
    "    [xyz]{5,} : It will match the character x, y or z 5 or more times.\n",
    "    \\d{1, 4} : It will match any digits 1, 2, 3 or 4 times.\n",
    "\n",
    "**Task**\n",
    "\n",
    "    You have a test string 'S'.\n",
    "    Your task is to write a regex that will match 'S' using the following conditions:\n",
    "\n",
    "    -> 'S' should begin with 1 or 2 digits.\n",
    "    -> After that, 'S' should have 3 or more letters (both lowercase and uppercase).\n",
    "    -> Then 'S' should end with up to  3 '.' symbol(s). You can end with 0 to 3 '.' symbol(s), inclusively."
   ]
  },
  {
   "cell_type": "code",
   "execution_count": null,
   "metadata": {},
   "outputs": [],
   "source": [
    "import re\n",
    "\n",
    "regex_pattern = r'^\\d{1,2}[a-zA-Z]{3,}\\.{0,3}$'\n",
    "\n",
    "print(str(bool(re.search(regex_pattern, input()))).lower())"
   ]
  }
 ],
 "metadata": {
  "kernelspec": {
   "display_name": "Python 3",
   "language": "python",
   "name": "python3"
  },
  "language_info": {
   "codemirror_mode": {
    "name": "ipython",
    "version": 3
   },
   "file_extension": ".py",
   "mimetype": "text/x-python",
   "name": "python",
   "nbconvert_exporter": "python",
   "pygments_lexer": "ipython3",
   "version": "3.7.4"
  }
 },
 "nbformat": 4,
 "nbformat_minor": 2
}
