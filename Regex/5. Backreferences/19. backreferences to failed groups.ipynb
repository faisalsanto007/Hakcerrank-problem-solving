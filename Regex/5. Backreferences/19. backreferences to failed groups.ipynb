{
 "cells": [
  {
   "cell_type": "markdown",
   "metadata": {},
   "source": [
    "    Here, b? is optional and matches nothing.\n",
    "    Thus, (b?) is successfully matched and capture nothing.\n",
    "    o is matched with o and \\1 successfully matches the nothing captured by the group.\n",
    "\n",
    "Capturing group that didn't participate in the match at all.\n",
    "\n",
    "In most regex flavors (excluding JavaScript), (b)?o\\1 fails to match o.\n",
    "\n",
    "    Here, (b) fails to match at all. Since, the whole group is optional the regex engine does proceed to match o.\n",
    "    The regex engine now arrives at \\1 which references a group that did not participate in the match attempt at all.\n",
    "    Thus, the backreference fails to match at all.\n",
    "    \n",
    "**Task**\n",
    "\n",
    "You have a test string 'S'.\n",
    "Your task is to write a regex which will match 'S', with following condition(s):\n",
    "\n",
    "     'S' consists of 8 digits.\n",
    "     'S' may have \"-\" separator such that string 'S' gets divided in 4 parts, with each part having exactly two digits. (Eg. 12-34-56-78)\n",
    "     \n",
    "**Valid 'S'**\n",
    "\n",
    "    12345678\n",
    "    12-34-56-87\n",
    "\n",
    "**Invalid 'S'**\n",
    "\n",
    "    1-234-56-78\n",
    "    12-45-7810"
   ]
  },
  {
   "cell_type": "code",
   "execution_count": null,
   "metadata": {},
   "outputs": [],
   "source": [
    "import re\n",
    "\n",
    "regex_pattern = r\"^\\d{2}(-?)\\d{2}\\1\\d{2}\\1\\d{2}$\"\n",
    "\n",
    "print(str(bool(re.search(regex_pattern, input()))).lower())"
   ]
  }
 ],
 "metadata": {
  "kernelspec": {
   "display_name": "Python 3",
   "language": "python",
   "name": "python3"
  },
  "language_info": {
   "codemirror_mode": {
    "name": "ipython",
    "version": 3
   },
   "file_extension": ".py",
   "mimetype": "text/x-python",
   "name": "python",
   "nbconvert_exporter": "python",
   "pygments_lexer": "ipython3",
   "version": "3.7.4"
  }
 },
 "nbformat": 4,
 "nbformat_minor": 2
}
