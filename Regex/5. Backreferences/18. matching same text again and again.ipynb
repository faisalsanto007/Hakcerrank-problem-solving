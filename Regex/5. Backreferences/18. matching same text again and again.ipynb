{
 "cells": [
  {
   "cell_type": "markdown",
   "metadata": {},
   "source": [
    "**\\group_number**\n",
    "\n",
    "This tool (\\1 references the first capturing group) matches the same text as previously matched by the capturing group.\n",
    "\n",
    "**For Example:**\n",
    "\n",
    "(\\d)\\1: It can match 00, 11, 22, 33, 44, 55, 66, 77, 88 or 99.\n",
    "\n",
    "**Task**\n",
    "\n",
    "\n",
    "     'S' must be of length: 20\n",
    "     1st character: lowercase letter.\n",
    "     2nd character: word character.\n",
    "     3rd character: whitespace character.\n",
    "     4th character: non word character.\n",
    "     5th character: digit.\n",
    "     6th character: non digit.\n",
    "     7th character: uppercase letter.\n",
    "     8th character: letter (either lowercase or uppercase).\n",
    "     9th character: vowel (a, e, i , o , u, A, E, I, O or U).\n",
    "     10th character: non whitespace character.\n",
    "     11th character: should be same as 1st character.\n",
    "     12th character: should be same as 2nd character.\n",
    "     13th character: should be same as 3rd character.\n",
    "     14th character: should be same as 4th character.\n",
    "     15th character: should be same as 5th character.\n",
    "     16th character: should be same as 6th character.\n",
    "     17th character: should be same as 7th character.\n",
    "     18th character: should be same as 8th character.\n",
    "     19th character: should be same as 9th character.\n",
    "     20th character: should be same as 10th character."
   ]
  },
  {
   "cell_type": "code",
   "execution_count": null,
   "metadata": {},
   "outputs": [],
   "source": [
    "import re\n",
    "\n",
    "regex_pattern = r'^([a-z]\\w\\s\\W\\d\\D[A-Z][a-zA-Z][aieouAEIOU]\\S)\\1$'\n",
    "\n",
    "# another ^([a-z])(\\w)(\\s)(\\W)(\\d)(\\D)([A-Z])([a-zA-Z])([aeiouAEIOU])(\\S)(\\1)(\\2)(\\3)(\\4)(\\5)(\\6)(\\7)(\\8)(\\9)(\\10)$\n",
    "\n",
    "print(str(bool(re.search(regex_pattern, input()))).lower())"
   ]
  }
 ],
 "metadata": {
  "kernelspec": {
   "display_name": "Python 3",
   "language": "python",
   "name": "python3"
  },
  "language_info": {
   "codemirror_mode": {
    "name": "ipython",
    "version": 3
   },
   "file_extension": ".py",
   "mimetype": "text/x-python",
   "name": "python",
   "nbconvert_exporter": "python",
   "pygments_lexer": "ipython3",
   "version": "3.7.4"
  }
 },
 "nbformat": 4,
 "nbformat_minor": 2
}
