{
 "cells": [
  {
   "cell_type": "markdown",
   "metadata": {},
   "source": [
    "**regex_1(?=regex_2)**\n",
    "\n",
    "The positive lookahead (?=) asserts regex_1 to be immediately followed by regex_2. The lookahead is excluded from the match. It does not return matches of regex_2. The lookahead only asserts whether a match is possible or not.\n",
    "\n",
    "**Task**\n",
    "\n",
    "You have a test string 'S'.\n",
    "Write a regex that can match all occurrences of o followed immediately by oo in 'S'."
   ]
  },
  {
   "cell_type": "code",
   "execution_count": null,
   "metadata": {},
   "outputs": [],
   "source": [
    "import re\n",
    "\n",
    "Regex_Pattern = r'o(?=oo)'\n",
    "\n",
    "Test_String = input()\n",
    "\n",
    "match = re.findall(Regex_Pattern, Test_String)\n",
    "\n",
    "print(\"Number of matches :\", len(match))"
   ]
  }
 ],
 "metadata": {
  "kernelspec": {
   "display_name": "Python 3",
   "language": "python",
   "name": "python3"
  },
  "language_info": {
   "codemirror_mode": {
    "name": "ipython",
    "version": 3
   },
   "file_extension": ".py",
   "mimetype": "text/x-python",
   "name": "python",
   "nbconvert_exporter": "python",
   "pygments_lexer": "ipython3",
   "version": "3.7.4"
  }
 },
 "nbformat": 4,
 "nbformat_minor": 2
}
