{
 "cells": [
  {
   "cell_type": "markdown",
   "metadata": {},
   "source": [
    "**regex_1(?!regex_2)**\n",
    "\n",
    "The negative lookahead (?!) asserts regex_1 not to be immediately followed by regex_2. Lookahead is excluded from the match (do not consume matches of regex_2), but only assert whether a match is possible or not.\n",
    "\n",
    "**Task**\n",
    "\n",
    "    You have a test String 'S'.\n",
    "    Write a regex which can match all characters which are not immediately followed by that same character.\n",
    "\n",
    "Example\n",
    "\n",
    "    If 'S' = goooo, then regex should match goooo. Because the first g is not follwed by g and the last o is not followed by o."
   ]
  },
  {
   "cell_type": "code",
   "execution_count": null,
   "metadata": {},
   "outputs": [],
   "source": [
    "import re\n",
    "\n",
    "Regex_Pattern = r\"(\\S)(?!\\1)\"\n",
    "\n",
    "Test_String = input()\n",
    "\n",
    "match = re.findall(Regex_Pattern, Test_String)\n",
    "\n",
    "print(\"Number of matches :\", len(match))"
   ]
  }
 ],
 "metadata": {
  "kernelspec": {
   "display_name": "Python 3",
   "language": "python",
   "name": "python3"
  },
  "language_info": {
   "codemirror_mode": {
    "name": "ipython",
    "version": 3
   },
   "file_extension": ".py",
   "mimetype": "text/x-python",
   "name": "python",
   "nbconvert_exporter": "python",
   "pygments_lexer": "ipython3",
   "version": "3.7.4"
  }
 },
 "nbformat": 4,
 "nbformat_minor": 2
}
