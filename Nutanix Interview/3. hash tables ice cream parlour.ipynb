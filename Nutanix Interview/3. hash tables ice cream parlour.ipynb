{
 "cells": [
  {
   "cell_type": "markdown",
   "metadata": {},
   "source": [
    "Each time Sunny and Johnny take a trip to the Ice Cream Parlor, they pool their money to buy ice cream. On any given day, the parlor offers a line of flavors. Each flavor has a cost associated with it.\n",
    "\n",
    "Given the value of money and the cost of each flavor for 't' trips to the Ice Cream Parlor, help Sunny and Johnny choose two distinct flavors such that they spend their entire pool of money during each visit. ID numbers are the 1- based index number associated with a cost. For each trip to the parlor, print the ID numbers for the two types of ice cream that Sunny and Johnny purchase as two space-separated integers on a new line. You must print the smaller ID first and the larger ID second.\n",
    "\n",
    "For example, there are n = 5 flavors having cost = [2,1,3,5,6]. Together they have money = 5 to spend. They would purchase flavor ID's 1 and 3 for a cost of 2+3=5. Use 1 based indexing for your response."
   ]
  },
  {
   "cell_type": "code",
   "execution_count": null,
   "metadata": {},
   "outputs": [],
   "source": [
    "# soln 1 (accepted)\n",
    "\n",
    "def whatFlavors(cost, money):\n",
    "    cost_dict = {}\n",
    "    for i,icost in enumerate(cost):\n",
    "        if money-icost in cost_dict:\n",
    "            print(str(cost_dict[money-icost]+1) + ' ' + str(i+1))\n",
    "            return \n",
    "        else:\n",
    "            cost_dict[icost] = i\n",
    "            "
   ]
  },
  {
   "cell_type": "code",
   "execution_count": null,
   "metadata": {},
   "outputs": [],
   "source": [
    "# soln 2\n",
    "\n",
    "t = int(input())\n",
    "for i in range(t):\n",
    "    money = int(input())\n",
    "    n = int(input())\n",
    "    arr = list(map(int, input().split()))\n",
    "\n",
    "    saved_values = {}\n",
    "    for counter, value in enumerate(arr):\n",
    "        if money-value in saved_values:\n",
    "            print(saved_values[money-value] + 1, counter + 1)\n",
    "        elif value not in saved_values:\n",
    "            saved_values[value] = counter"
   ]
  },
  {
   "cell_type": "code",
   "execution_count": null,
   "metadata": {},
   "outputs": [],
   "source": [
    "# another soln\n",
    "\n",
    "from collections import Counter\n",
    "\n",
    "def icecreamParlor(m, arr):\n",
    "    \n",
    "    costs = Counter(arr)\n",
    "    half = m/2\n",
    "    combos = set()\n",
    "    \n",
    "    for cost in costs:\n",
    "        if (cost!=half and m-cost in costs) or (cost==half and costs[cost]>1):\n",
    "            combos.add(cost)\n",
    "    \n",
    "    for index,cost in enumerate(arr,1):\n",
    "        if cost in combos:\n",
    "            yield index\n",
    "            \n",
    "for _ in range(int(input())):\n",
    "    \n",
    "    m,n = int(input()), int(input())\n",
    "    arr = list(map(int,(input().split())))\n",
    "    \n",
    "    print(*icecreamParlor(m, arr))"
   ]
  },
  {
   "cell_type": "markdown",
   "metadata": {},
   "source": [
    "**Sample Input**\n",
    "\n",
    "    2\n",
    "    4\n",
    "    5\n",
    "    1 4 5 3 2\n",
    "    4\n",
    "    4\n",
    "    2 2 4 3\n",
    "\n",
    "**Sample Output**\n",
    "\n",
    "    1 4\n",
    "    1 2\n",
    "\n",
    "**Explanation**\n",
    "\n",
    "Sunny and Johnny make the following two trips to the parlor:\n",
    "\n",
    "The first time, they pool together money = 4 dollars. There are five flavors available that day and flavors 1 and 4 have a total cost of 1 + 3 = 4.\n",
    "The second time, they pool together money = 4 dollars. There are four flavors available that day and flavors 1 and 2 have a total cost of 2 + 2 = 4."
   ]
  },
  {
   "cell_type": "code",
   "execution_count": null,
   "metadata": {},
   "outputs": [],
   "source": []
  }
 ],
 "metadata": {
  "kernelspec": {
   "display_name": "Python 3",
   "language": "python",
   "name": "python3"
  },
  "language_info": {
   "codemirror_mode": {
    "name": "ipython",
    "version": 3
   },
   "file_extension": ".py",
   "mimetype": "text/x-python",
   "name": "python",
   "nbconvert_exporter": "python",
   "pygments_lexer": "ipython3",
   "version": "3.7.4"
  }
 },
 "nbformat": 4,
 "nbformat_minor": 2
}
