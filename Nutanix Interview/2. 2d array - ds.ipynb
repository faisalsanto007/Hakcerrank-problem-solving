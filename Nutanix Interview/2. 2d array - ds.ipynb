{
 "cells": [
  {
   "cell_type": "markdown",
   "metadata": {},
   "source": [
    "Given a 6*6 2D Array, arr:\n",
    "\n",
    "    1 1 1 0 0 0\n",
    "    0 1 0 0 0 0\n",
    "    1 1 1 0 0 0\n",
    "    0 0 0 0 0 0\n",
    "    0 0 0 0 0 0\n",
    "    0 0 0 0 0 0\n",
    "\n",
    "An hourglass in A is a subset of values with indices falling in this pattern in arr's graphical representation:\n",
    "\n",
    "    a b c\n",
    "      d\n",
    "    e f g\n",
    "\n",
    "There are 16 hourglasses in arr. An hourglass sum is the sum of an hourglass' values. Calculate the hourglass sum for every hourglass in arr, then print the maximum hourglass sum. The array will always be 6*6.\n",
    "\n",
    "Example\n",
    "\n",
    "arr = \n",
    "    -9 -9 -9  1 1 1 \n",
    "     0 -9  0  4 3 2\n",
    "    -9 -9 -9  1 2 3\n",
    "     0  0  8  6 6 0\n",
    "     0  0  0 -2 0 0\n",
    "     0  0  1  2 4 0\n",
    "\n",
    "The 16 hourglass sums are:\n",
    "\n",
    "    -63, -34, -9, 12, \n",
    "    -10,   0, 28, 23, \n",
    "    -27, -11, -2, 10, \n",
    "      9,  17, 25, 18\n",
    "\n",
    "The highest hourglass sum is 28 from the hourglass beginning at row 1, column 2:\n",
    "\n",
    "    0 4 3\n",
    "      1\n",
    "    8 6 6"
   ]
  },
  {
   "cell_type": "code",
   "execution_count": null,
   "metadata": {},
   "outputs": [],
   "source": [
    "function hourglassSum(arr) {\n",
    "  let count = -63;\n",
    "\n",
    "  for(let i = 0; i <= 3; i++){\n",
    "    for(let j = 0; j <= 3; j++){\n",
    "      let sum = arr[i][j] + arr[i][j+1] + arr[i][j+2] + arr[i+1][j+1] \n",
    "      + arr[i+2][j] + arr[i+2][j+1] + arr[i+2][j+2]\n",
    "\n",
    "      if(sum > count){\n",
    "        count = sum\n",
    "      }\n",
    "    }\n",
    "  }\n",
    "  return count;\n",
    "};"
   ]
  },
  {
   "cell_type": "markdown",
   "metadata": {},
   "source": [
    "Let’s go step by step to make it more clear for you.\n",
    "    1. create a count variable that will hold the lowest sum of the hourglass.\n",
    "    2. ex: lowest sum will be -9 * 7 = -63 as the number goes from -9 to 9 and an hourglass is 7 elements so count will equal -63.\n",
    "    3. create a first for loop to iterate over the array.\n",
    "    4. create a second for loop to iterate over subarray.\n",
    "    5. add up each element from subarrays for a square of 3 * 3.\n",
    "    6. create a variable sum to hold the total of the added elements.\n",
    "    7. check if the total of sum is bigger than the count variable. If yes, replace count by sum. This allows us to compare the previous sum of the hourglass to the most recent one to be able to return the highest one."
   ]
  },
  {
   "cell_type": "code",
   "execution_count": null,
   "metadata": {},
   "outputs": [],
   "source": [
    "# accepted soln\n",
    "\n",
    "import sys\n",
    "\n",
    "d = sys.stdin.read().splitlines()\n",
    "d = [list(map(int,i.split())) for i in d]\n",
    "\n",
    "maxval = None\n",
    "\n",
    "for j in range(4):\n",
    "    for i in range(4):\n",
    "        \n",
    "        add = d[j][i] + d[j][i+1] + d[j][i+2] + d[j+1][i+1] + d[j+2][i] + d[j+2][i+1] + d[j+2][i+2]\n",
    "        if maxval ==None:\n",
    "            maxval=add\n",
    "        elif add>maxval:\n",
    "            maxval=add\n",
    "\n",
    "print(maxval)"
   ]
  }
 ],
 "metadata": {
  "kernelspec": {
   "display_name": "Python 3",
   "language": "python",
   "name": "python3"
  },
  "language_info": {
   "codemirror_mode": {
    "name": "ipython",
    "version": 3
   },
   "file_extension": ".py",
   "mimetype": "text/x-python",
   "name": "python",
   "nbconvert_exporter": "python",
   "pygments_lexer": "ipython3",
   "version": "3.7.4"
  }
 },
 "nbformat": 4,
 "nbformat_minor": 2
}
