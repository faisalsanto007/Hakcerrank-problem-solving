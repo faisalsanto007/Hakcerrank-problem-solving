{
 "cells": [
  {
   "cell_type": "code",
   "execution_count": null,
   "metadata": {},
   "outputs": [],
   "source": [
    "def main():\n",
    "    _, money = map(int, input().split())\n",
    "    prices = sorted(map(int, input().split()))\n",
    "    answer = 0\n",
    "\n",
    "    for price in prices:\n",
    "        if price > money:\n",
    "            break\n",
    "        money -= price\n",
    "        answer += 1\n",
    "\n",
    "    print(answer)\n",
    "\n",
    "\n",
    "if __name__ == '__main__':\n",
    "    main()"
   ]
  },
  {
   "cell_type": "code",
   "execution_count": null,
   "metadata": {},
   "outputs": [],
   "source": [
    "import math\n",
    "import os\n",
    "import random\n",
    "import re\n",
    "import sys\n",
    "\n",
    "# Complete the maximumToys function below.\n",
    "def maximumToys(prices, k):\n",
    "    prices.sort()\n",
    "    i = 0\n",
    "    while k > 0 and i < len(prices):\n",
    "        k -= prices[i]\n",
    "        i += 1\n",
    "    return i - 1\n",
    "\n",
    "if __name__ == '__main__':\n",
    "    fptr = open(os.environ['OUTPUT_PATH'], 'w')\n",
    "\n",
    "    nk = input().split()\n",
    "\n",
    "    n = int(nk[0])\n",
    "\n",
    "    k = int(nk[1])\n",
    "\n",
    "    prices = list(map(int, input().rstrip().split()))\n",
    "\n",
    "    result = maximumToys(prices, k)\n",
    "\n",
    "    fptr.write(str(result) + '\\n')\n",
    "\n",
    "    fptr.close()"
   ]
  }
 ],
 "metadata": {
  "kernelspec": {
   "display_name": "Python 3",
   "language": "python",
   "name": "python3"
  },
  "language_info": {
   "codemirror_mode": {
    "name": "ipython",
    "version": 3
   },
   "file_extension": ".py",
   "mimetype": "text/x-python",
   "name": "python",
   "nbconvert_exporter": "python",
   "pygments_lexer": "ipython3",
   "version": "3.7.4"
  }
 },
 "nbformat": 4,
 "nbformat_minor": 2
}
