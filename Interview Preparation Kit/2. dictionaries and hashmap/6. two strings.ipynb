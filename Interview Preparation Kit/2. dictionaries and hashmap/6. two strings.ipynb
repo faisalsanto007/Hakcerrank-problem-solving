{
 "cells": [
  {
   "cell_type": "code",
   "execution_count": null,
   "metadata": {},
   "outputs": [],
   "source": [
    "import os\n",
    "\n",
    "\n",
    "def main():\n",
    "    pairs = int(input())\n",
    "    answers = [False] * pairs\n",
    "\n",
    "    for pair in range(pairs):\n",
    "        s1 = input()\n",
    "        s2 = input()\n",
    "        answers[pair] = len(set(s1) & set(s2)) > 0\n",
    "\n",
    "    with open(os.environ['OUTPUT_PATH'], 'w') as f:\n",
    "        f.write('\\n'.join('YES' if answer else 'NO' for answer in answers))\n",
    "\n",
    "\n",
    "if __name__ == '__main__':\n",
    "    main()"
   ]
  },
  {
   "cell_type": "code",
   "execution_count": null,
   "metadata": {},
   "outputs": [],
   "source": [
    "import math\n",
    "import os\n",
    "import random\n",
    "import re\n",
    "import sys\n",
    "\n",
    "# Complete the twoStrings function below.\n",
    "def twoStrings(s1, s2):\n",
    "    return 'YES' if any(i in s2 for i in s1 ) else 'NO'\n",
    "    \n",
    "if __name__ == '__main__':\n",
    "    fptr = open(os.environ['OUTPUT_PATH'], 'w')\n",
    "\n",
    "    q = int(input())\n",
    "\n",
    "    for q_itr in range(q):\n",
    "        s1 = input()\n",
    "\n",
    "        s2 = input()\n",
    "\n",
    "        result = twoStrings(s1, s2)\n",
    "\n",
    "        fptr.write(result + '\\n')\n",
    "\n",
    "    fptr.close()"
   ]
  }
 ],
 "metadata": {
  "kernelspec": {
   "display_name": "Python 3",
   "language": "python",
   "name": "python3"
  },
  "language_info": {
   "codemirror_mode": {
    "name": "ipython",
    "version": 3
   },
   "file_extension": ".py",
   "mimetype": "text/x-python",
   "name": "python",
   "nbconvert_exporter": "python",
   "pygments_lexer": "ipython3",
   "version": "3.7.4"
  }
 },
 "nbformat": 4,
 "nbformat_minor": 2
}
