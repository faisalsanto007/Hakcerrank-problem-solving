{
 "cells": [
  {
   "cell_type": "code",
   "execution_count": null,
   "metadata": {},
   "outputs": [],
   "source": [
    "import math\n",
    "import os\n",
    "import random\n",
    "import re\n",
    "import sys\n",
    "from collections import Counter\n",
    "\n",
    "# Complete the countTriplets function below.\n",
    "def countTriplets(arr, r):\n",
    "    r2 = Counter()\n",
    "    r3 = Counter()\n",
    "    count = 0\n",
    "    for v in arr:\n",
    "        if v in r3:\n",
    "            count += r3[v]\n",
    "        if v in r2:\n",
    "            r3[v*r] += r2[v]\n",
    "        r2[v*r] += 1\n",
    "    return count\n",
    "\n",
    "if __name__ == '__main__':\n",
    "    fptr = open(os.environ['OUTPUT_PATH'], 'w')\n",
    "\n",
    "    nr = input().rstrip().split()\n",
    "\n",
    "    n = int(nr[0])\n",
    "\n",
    "    r = int(nr[1])\n",
    "\n",
    "    arr = list(map(int, input().rstrip().split()))\n",
    "\n",
    "    ans = countTriplets(arr, r)\n",
    "\n",
    "    fptr.write(str(ans) + '\\n')\n",
    "\n",
    "    fptr.close()"
   ]
  },
  {
   "cell_type": "code",
   "execution_count": null,
   "metadata": {},
   "outputs": [],
   "source": [
    "from collections import defaultdict\n",
    "\n",
    "\n",
    "def main():\n",
    "    _, r = map(int, input().split())\n",
    "    a = list(map(int, input().split()))\n",
    "    r2 = r * r\n",
    "    counter = defaultdict(int)\n",
    "    counter2 = defaultdict(int)\n",
    "\n",
    "    answer = 0\n",
    "\n",
    "    for x in a:\n",
    "        if r == 1:\n",
    "            n = counter[x]\n",
    "            answer += (n * (n - 1)) // 2\n",
    "        else:\n",
    "            if x % r == 0:\n",
    "                counter2[x] += counter[x // r]\n",
    "            if x % r2 == 0:\n",
    "                answer += counter2[x // r]\n",
    "        counter[x] += 1\n",
    "\n",
    "    print(answer)\n",
    "\n",
    "\n",
    "if __name__ == '__main__':\n",
    "    main()"
   ]
  },
  {
   "cell_type": "code",
   "execution_count": null,
   "metadata": {},
   "outputs": [],
   "source": []
  }
 ],
 "metadata": {
  "kernelspec": {
   "display_name": "Python 3",
   "language": "python",
   "name": "python3"
  },
  "language_info": {
   "codemirror_mode": {
    "name": "ipython",
    "version": 3
   },
   "file_extension": ".py",
   "mimetype": "text/x-python",
   "name": "python",
   "nbconvert_exporter": "python",
   "pygments_lexer": "ipython3",
   "version": "3.7.4"
  }
 },
 "nbformat": 4,
 "nbformat_minor": 2
}
