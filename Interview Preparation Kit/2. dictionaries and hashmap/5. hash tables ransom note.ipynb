{
 "cells": [
  {
   "cell_type": "markdown",
   "metadata": {},
   "source": [
    "Harold is a kidnapper who wrote a ransom note, but now he is worried it will be traced back to him through his handwriting. He found a magazine and wants to know if he can cut out whole words from it and use them to create an untraceable replica of his ransom note. The words in his note are case-sensitive and he must use only whole words available in the magazine. He cannot use substrings or concatenation to create the words he needs.\n",
    "\n",
    "Given the words in the magazine and the words in the ransom note, print Yes if he can replicate his ransom note exactly using whole words from the magazine; otherwise, print No."
   ]
  },
  {
   "cell_type": "code",
   "execution_count": null,
   "metadata": {},
   "outputs": [],
   "source": [
    "def main():\n",
    "    pairs = int(input())\n",
    "    answers = [False] * pairs\n",
    "\n",
    "    for pair in range(pairs):\n",
    "        s1 = input()\n",
    "        s2 = input()\n",
    "        answers[pair] = len(set(s1) & set(s2)) > 0\n",
    "\n",
    "    print('\\n'.join('YES' if answer else 'NO' for answer in answers))\n",
    "\n",
    "\n",
    "if __name__ == '__main__':\n",
    "    main()"
   ]
  },
  {
   "cell_type": "code",
   "execution_count": null,
   "metadata": {},
   "outputs": [],
   "source": [
    "# wrong\n",
    "\n",
    "import math\n",
    "import os\n",
    "import random\n",
    "import re\n",
    "import sys\n",
    "from collections import Counter\n",
    "\n",
    "# Complete the checkMagazine function below.\n",
    "def checkMagazine(magazine, note):\n",
    "    if (Counter(note) - Counter(magazine)) == {}:\n",
    "        print('Yes')\n",
    "    else:\n",
    "        print('No')\n",
    "\n",
    "if __name__ == '__main__':\n",
    "    mn = input().split()\n",
    "\n",
    "    m = int(mn[0])\n",
    "\n",
    "    n = int(mn[1])\n",
    "\n",
    "    magazine = input().rstrip().split()\n",
    "\n",
    "    note = input().rstrip().split()\n",
    "\n",
    "    checkMagazine(magazine, note)"
   ]
  },
  {
   "cell_type": "markdown",
   "metadata": {},
   "source": [
    "**Sample Input 0**\n",
    "\n",
    "    6 4\n",
    "    give me one grand today night\n",
    "    give one grand today\n",
    "\n",
    "**Sample Output 0**\n",
    "\n",
    "    Yes\n",
    "\n",
    "**Sample Input 1**\n",
    "\n",
    "    6 5\n",
    "    two times three is not four\n",
    "    two times two is four\n",
    "\n",
    "**Sample Output 1**\n",
    "\n",
    "    No\n",
    "\n",
    "**Explanation 1**\n",
    "\n",
    "    'two' only occurs once in the magazine.\n",
    "\n",
    "**Sample Input 2**\n",
    "\n",
    "    7 4\n",
    "    ive got a lovely bunch of coconuts\n",
    "    ive got some coconuts\n",
    "\n",
    "**Sample Output 2**\n",
    "\n",
    "    No\n",
    "\n",
    "**Explanation 2**\n",
    "\n",
    "    Harold's magazine is missing the word 'some'."
   ]
  },
  {
   "cell_type": "code",
   "execution_count": null,
   "metadata": {},
   "outputs": [],
   "source": []
  }
 ],
 "metadata": {
  "kernelspec": {
   "display_name": "Python 3",
   "language": "python",
   "name": "python3"
  },
  "language_info": {
   "codemirror_mode": {
    "name": "ipython",
    "version": 3
   },
   "file_extension": ".py",
   "mimetype": "text/x-python",
   "name": "python",
   "nbconvert_exporter": "python",
   "pygments_lexer": "ipython3",
   "version": "3.7.4"
  }
 },
 "nbformat": 4,
 "nbformat_minor": 2
}
