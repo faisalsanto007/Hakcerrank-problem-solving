{
 "cells": [
  {
   "cell_type": "markdown",
   "metadata": {},
   "source": [
    "Two strings are anagrams of each other if the letters of one string can be rearranged to form the other string. Given a string, find the number of pairs of substrings of the string that are anagrams of each other."
   ]
  },
  {
   "cell_type": "code",
   "execution_count": null,
   "metadata": {},
   "outputs": [],
   "source": [
    "import sys\n",
    "\n",
    "def sherlockAndAnagrams(s):\n",
    "    ana = { }\n",
    "    nb = 0\n",
    "    n = len(s)\n",
    "    for i in range(0, n):\n",
    "        for j in range(i + 1, n + 1):\n",
    "            a = ''.join(sorted(s[i:j]))\n",
    "            if a in ana:\n",
    "                ana[a] += 1\n",
    "                nb += ana[a]\n",
    "            else:\n",
    "                ana[a] = 0\n",
    "    return nb\n",
    "\n",
    "q = int(input().strip())\n",
    "for a0 in range(q):\n",
    "    s = input().strip()\n",
    "    result = sherlockAndAnagrams(s)\n",
    "    print(result)"
   ]
  },
  {
   "cell_type": "code",
   "execution_count": null,
   "metadata": {},
   "outputs": [],
   "source": [
    "# didn't pass\n",
    "\n",
    "import math\n",
    "import os\n",
    "import random\n",
    "import re\n",
    "import sys\n",
    "from collections import Counter\n",
    "from itertools import combinations\n",
    "\n",
    "# Complete the sherlockAndAnagrams function below.\n",
    "def sherlockAndAnagrams(s):\n",
    "    count = []\n",
    "    for i in range(1,len(s)+1):\n",
    "        a = [\"\".join(sorted(s[j:j+i])) for j in range(len(s)-i+1)]\n",
    "        b = Counter(a)\n",
    "        count.append(sum([len(list(combinations(['a']*b[j],2))) for j in b]))\n",
    "    return sum(count)\n",
    "\n",
    "if __name__ == '__main__':\n",
    "    fptr = open(os.environ['OUTPUT_PATH'], 'w')\n",
    "\n",
    "    q = int(input())\n",
    "\n",
    "    for q_itr in range(q):\n",
    "        s = input()\n",
    "\n",
    "        result = sherlockAndAnagrams(s)\n",
    "\n",
    "        fptr.write(str(result) + '\\n')\n",
    "\n",
    "    fptr.close()"
   ]
  },
  {
   "cell_type": "code",
   "execution_count": null,
   "metadata": {},
   "outputs": [],
   "source": [
    "def count(s):\n",
    "    result = 0\n",
    "    n = len(s)\n",
    "\n",
    "    for length in range(1, n):\n",
    "        for i in range(n - length):\n",
    "            substring = sorted(s[i:i + length])\n",
    "            for j in range(i + 1, n):\n",
    "                if substring == sorted(s[j:j + length]):\n",
    "                    result += 1\n",
    "\n",
    "    return result\n",
    "\n",
    "\n",
    "def main():\n",
    "    queries = int(input())\n",
    "    answers = [0] * queries\n",
    "\n",
    "    for query in range(queries):\n",
    "        s = input()\n",
    "        answers[query] = count(s)\n",
    "\n",
    "    print('\\n'.join(map(str, answers)))\n",
    "\n",
    "\n",
    "if __name__ == '__main__':\n",
    "    main()"
   ]
  }
 ],
 "metadata": {
  "kernelspec": {
   "display_name": "Python 3",
   "language": "python",
   "name": "python3"
  },
  "language_info": {
   "codemirror_mode": {
    "name": "ipython",
    "version": 3
   },
   "file_extension": ".py",
   "mimetype": "text/x-python",
   "name": "python",
   "nbconvert_exporter": "python",
   "pygments_lexer": "ipython3",
   "version": "3.7.4"
  }
 },
 "nbformat": 4,
 "nbformat_minor": 2
}
