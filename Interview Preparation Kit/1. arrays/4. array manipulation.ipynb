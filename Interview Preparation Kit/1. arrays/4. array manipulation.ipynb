{
 "cells": [
  {
   "cell_type": "markdown",
   "metadata": {},
   "source": [
    "Starting with a 1-indexed array of zeros and a list of operations, for each operation add a value to each the array element between two given indices, inclusive. Once all operations have been performed, return the maximum value in the array."
   ]
  },
  {
   "cell_type": "code",
   "execution_count": null,
   "metadata": {},
   "outputs": [],
   "source": [
    "def main():\n",
    "    n, m = map(int, input().split())\n",
    "    xs = [0] * (n + 2)\n",
    "\n",
    "    for _ in range(m):\n",
    "        a, b, k = map(int, input().split())\n",
    "        xs[a] += k\n",
    "        xs[b + 1] -= k\n",
    "\n",
    "    answer = 0\n",
    "    current = 0\n",
    "\n",
    "    for x in xs:\n",
    "        current += x\n",
    "        answer = max(answer, current)\n",
    "\n",
    "    print(answer)\n",
    "\n",
    "\n",
    "if __name__ == '__main__':\n",
    "    main()"
   ]
  },
  {
   "cell_type": "code",
   "execution_count": null,
   "metadata": {},
   "outputs": [],
   "source": [
    "import math\n",
    "import os\n",
    "import random\n",
    "import re\n",
    "import sys\n",
    "\n",
    "# Complete the arrayManipulation function below.\n",
    "def arrayManipulation(n, queries):   \n",
    "    res = [0]*(n+1)\n",
    "    for row in range(len(queries)):\n",
    "        a = queries[row][0]\n",
    "        b = queries[row][1]\n",
    "        k = queries[row][2]\n",
    "        res[a-1] += k\n",
    "        res[b] -= k\n",
    "    sm = 0\n",
    "    mx = 0\n",
    "    for i in range(len(res)):\n",
    "        sm += res[i]\n",
    "        if sm > mx:\n",
    "            mx = sm\n",
    "    return mx\n",
    "\n",
    "if __name__ == '__main__':\n",
    "    fptr = open(os.environ['OUTPUT_PATH'], 'w')\n",
    "\n",
    "    nm = input().split()\n",
    "\n",
    "    n = int(nm[0])\n",
    "\n",
    "    m = int(nm[1])\n",
    "\n",
    "    queries = []\n",
    "\n",
    "    for _ in range(m):\n",
    "        queries.append(list(map(int, input().rstrip().split())))\n",
    "\n",
    "    result = arrayManipulation(n, queries)\n",
    "\n",
    "    fptr.write(str(result) + '\\n')\n",
    "\n",
    "    fptr.close()"
   ]
  },
  {
   "cell_type": "markdown",
   "metadata": {},
   "source": [
    "**Sample Input**\n",
    "\n",
    "    5 3\n",
    "    1 2 100\n",
    "    2 5 100\n",
    "    3 4 100\n",
    "\n",
    "**Sample Output**\n",
    "\n",
    "    200\n",
    "\n",
    "**Explanation**\n",
    "\n",
    "    After the first update the list is 100 100 0 0 0.\n",
    "    After the second update list is 100 200 100 100 100.\n",
    "    After the third update list is 100 200 200 200 100.\n",
    "\n",
    "    The maximum value is 200."
   ]
  },
  {
   "cell_type": "code",
   "execution_count": null,
   "metadata": {},
   "outputs": [],
   "source": []
  }
 ],
 "metadata": {
  "kernelspec": {
   "display_name": "Python 3",
   "language": "python",
   "name": "python3"
  },
  "language_info": {
   "codemirror_mode": {
    "name": "ipython",
    "version": 3
   },
   "file_extension": ".py",
   "mimetype": "text/x-python",
   "name": "python",
   "nbconvert_exporter": "python",
   "pygments_lexer": "ipython3",
   "version": "3.7.4"
  }
 },
 "nbformat": 4,
 "nbformat_minor": 2
}
