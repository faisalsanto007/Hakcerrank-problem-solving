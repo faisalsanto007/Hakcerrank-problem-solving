{
 "cells": [
  {
   "cell_type": "markdown",
   "metadata": {},
   "source": [
    "**Transformation of Strings**\n",
    "\n",
    "    Code:\n",
    "\n",
    "    import re\n",
    "\n",
    "    #Squaring numbers\n",
    "    def square(match):\n",
    "        number = int(match.group(0))\n",
    "        return str(number**2)\n",
    "    print re.sub(r\"\\d+\", square, \"1 2 3 4 5 6 7 8 9\")\n",
    "    \n",
    "    Output:\n",
    "\n",
    "    1 4 9 16 25 36 49 64 81"
   ]
  },
  {
   "cell_type": "markdown",
   "metadata": {},
   "source": [
    "**Replacements in Strings**\n",
    "\n",
    "    Code:\n",
    "\n",
    "    import re\n",
    "\n",
    "    html = \"\"\"\n",
    "    <head>\n",
    "    <title>HTML</title>\n",
    "    </head>\n",
    "    <object type=\"application/x-flash\" \n",
    "      data=\"your-file.swf\" \n",
    "      width=\"0\" height=\"0\">\n",
    "      <!-- <param name=\"movie\"  value=\"your-file.swf\" /> -->\n",
    "      <param name=\"quality\" value=\"high\"/>\n",
    "    </object>\n",
    "    \"\"\"\n",
    "    print re.sub(\"(<!--.*?-->)\", \"\", html) #remove comment\n",
    "    \n",
    "    Output:\n",
    "\n",
    "    <head>\n",
    "    <title>HTML</title>\n",
    "    </head>\n",
    "    <object type=\"application/x-flash\" \n",
    "      data=\"your-file.swf\" \n",
    "      width=\"0\" height=\"0\">\n",
    "\n",
    "      <param name=\"quality\" value=\"high\"/>\n",
    "    </object>"
   ]
  },
  {
   "cell_type": "code",
   "execution_count": 11,
   "metadata": {},
   "outputs": [
    {
     "name": "stdout",
     "output_type": "stream",
     "text": [
      "11\n",
      "a=1;\n",
      "a=1;\n",
      "b = input()\n",
      "b = input()\n",
      "if a + b > 0 and a - b < 0:\n",
      "if a + b > 0 and a - b < 0:\n",
      "start()\n",
      "start()\n",
      "elif a*b > 10 or a/b < 1:\n",
      "elif a*b > 10 or a/b < 1:\n",
      "stop()\n",
      "stop()\n",
      "print set(list(a)) | set(list(b)) \n",
      "print set(list(a)) | set(list(b)) \n",
      "#Note do not change &&& or ||| or & or |\n",
      "#Note do not change &&& or ||| or & or |\n",
      "#Only change those '&&' which have space on both sides.\n",
      "#Only change those '&&' which have space on both sides.\n",
      "#Only change those '|| which have space on both sides. \n",
      "#Only change those '|| which have space on both sides. \n",
      ".\n",
      ".\n"
     ]
    }
   ],
   "source": [
    "import re\n",
    "\n",
    "REGEX = r'(?<= )(&&|\\|\\|)(?= )'\n",
    "FIX_AND_OR = lambda x: 'and' if x.group() == '&&' else 'or'\n",
    "\n",
    "for _ in range(int(input())):\n",
    "    line = input()\n",
    "    print(re.sub(REGEX, FIX_AND_OR, line))"
   ]
  }
 ],
 "metadata": {
  "kernelspec": {
   "display_name": "Python 3",
   "language": "python",
   "name": "python3"
  },
  "language_info": {
   "codemirror_mode": {
    "name": "ipython",
    "version": 3
   },
   "file_extension": ".py",
   "mimetype": "text/x-python",
   "name": "python",
   "nbconvert_exporter": "python",
   "pygments_lexer": "ipython3",
   "version": "3.7.4"
  }
 },
 "nbformat": 4,
 "nbformat_minor": 2
}
