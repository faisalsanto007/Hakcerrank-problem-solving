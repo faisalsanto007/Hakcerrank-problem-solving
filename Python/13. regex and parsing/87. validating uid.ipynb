{
 "cells": [
  {
   "cell_type": "markdown",
   "metadata": {},
   "source": [
    "A valid UID must follow the rules below:\n",
    "\n",
    "    It must contain at least 2 uppercase English alphabet characters.\n",
    "    It must contain at least 3 digits (0 - 9).\n",
    "    It should only contain alphanumeric characters (a - z, A - Z & 0 - 9).\n",
    "    No character should repeat.\n",
    "    There must be exactly 10 characters in a valid UID."
   ]
  },
  {
   "cell_type": "code",
   "execution_count": 7,
   "metadata": {},
   "outputs": [
    {
     "name": "stdout",
     "output_type": "stream",
     "text": [
      "2\n",
      "B1CD102354\n",
      "Invalid\n",
      "B1CDEF2354\n",
      "Valid\n"
     ]
    }
   ],
   "source": [
    "import re\n",
    "\n",
    "for _ in range(int(input())):\n",
    "    u = ''.join(sorted(input()))\n",
    "    \n",
    "    try:\n",
    "        assert re.search(r'[A-Z]{2}', u) # assert hocche condition check kore..condition vul hoile, except line er code run hobe\n",
    "        assert re.search(r'\\d\\d\\d', u)\n",
    "        assert not re.search(r'[^a-zA-Z0-9]', u) # ^ mane e character chara onno character ase kina check kora\n",
    "        assert not re.search(r'(.)\\1', u) # prottekta character shudhu 1bar e thakte parbe\n",
    "        assert len(u) == 10\n",
    "        \n",
    "    except:\n",
    "        print('Invalid')\n",
    "    else:\n",
    "        print('Valid')"
   ]
  }
 ],
 "metadata": {
  "kernelspec": {
   "display_name": "Python 3",
   "language": "python",
   "name": "python3"
  },
  "language_info": {
   "codemirror_mode": {
    "name": "ipython",
    "version": 3
   },
   "file_extension": ".py",
   "mimetype": "text/x-python",
   "name": "python",
   "nbconvert_exporter": "python",
   "pygments_lexer": "ipython3",
   "version": "3.7.4"
  }
 },
 "nbformat": 4,
 "nbformat_minor": 2
}
