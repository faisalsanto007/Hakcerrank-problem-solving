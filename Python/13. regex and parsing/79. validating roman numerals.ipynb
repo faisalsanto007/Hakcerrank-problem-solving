{
 "cells": [
  {
   "cell_type": "markdown",
   "metadata": {},
   "source": [
    "Explanation of this regex: https://stackoverflow.com/questions/267399/how-do-you-match-only-valid-roman-numerals-with-a-regular-expression"
   ]
  },
  {
   "cell_type": "markdown",
   "metadata": {},
   "source": [
    "^M{0,4}(CM|CD|D?C{0,3})(XC|XL|L?X{0,3})(IX|IV|V?I{0,3})$\n",
    "\n",
    "Breaking it down, M{0,4} specifies the thousands section and basically restrains it to between 0 and 4000. It's a relatively simple:\n",
    "\n",
    "    0: <empty>  matched by M{0}\n",
    "    1000: M        matched by M{1}\n",
    "    2000: MM       matched by M{2}\n",
    "    3000: MMM      matched by M{3}\n",
    "    4000: MMMM     matched by M{4}\n",
    "    \n",
    "You could, of course, use something like M* to allow any number (including zero) of thousands, if you want to allow bigger numbers.\n",
    "\n",
    "Next is (CM|CD|D?C{0,3}), slightly more complex, this is for the hundreds section and covers all the possibilities:\n",
    "\n",
    "    0: <empty>  matched by D?C{0} (with D not there)\n",
    "    100: C        matched by D?C{1} (with D not there)\n",
    "    200: CC       matched by D?C{2} (with D not there)\n",
    "    300: CCC      matched by D?C{3} (with D not there)\n",
    "    400: CD       matched by CD\n",
    "    500: D        matched by D?C{0} (with D there)\n",
    "    600: DC       matched by D?C{1} (with D there)\n",
    "    700: DCC      matched by D?C{2} (with D there)\n",
    "    800: DCCC     matched by D?C{3} (with D there)\n",
    "    900: CM       matched by CM\n",
    "    \n",
    "Thirdly, (XC|XL|L?X{0,3}) follows the same rules as previous section but for the tens place:\n",
    "\n",
    "     0: <empty>  matched by L?X{0} (with L not there)\n",
    "    10: X        matched by L?X{1} (with L not there)\n",
    "    20: XX       matched by L?X{2} (with L not there)\n",
    "    30: XXX      matched by L?X{3} (with L not there)\n",
    "    40: XL       matched by XL\n",
    "    50: L        matched by L?X{0} (with L there)\n",
    "    60: LX       matched by L?X{1} (with L there)\n",
    "    70: LXX      matched by L?X{2} (with L there)\n",
    "    80: LXXX     matched by L?X{3} (with L there)\n",
    "    90: XC       matched by XC\n",
    "    \n",
    "And, finally, (IX|IV|V?I{0,3}) is the units section, handling 0 through 9 and also similar to the previous two sections (Roman numerals, despite their seeming weirdness, follow some logical rules once you figure out what they are):\n",
    "\n",
    "    0: <empty>  matched by V?I{0} (with V not there)\n",
    "    1: I        matched by V?I{1} (with V not there)\n",
    "    2: II       matched by V?I{2} (with V not there)\n",
    "    3: III      matched by V?I{3} (with V not there)\n",
    "    4: IV       matched by IV\n",
    "    5: V        matched by V?I{0} (with V there)\n",
    "    6: VI       matched by V?I{1} (with V there)\n",
    "    7: VII      matched by V?I{2} (with V there)\n",
    "    8: VIII     matched by V?I{3} (with V there)\n",
    "    9: IX       matched by IX\n",
    "    \n",
    "Just keep in mind that that regex will also match an empty string. If you don't want this (and your regex engine is modern enough), you can use positive look-behind and look-ahead:\n",
    "\n",
    "    (?<=^)M{0,4}(CM|CD|D?C{0,3})(XC|XL|L?X{0,3})(IX|IV|V?I{0,3})(?=$)"
   ]
  },
  {
   "cell_type": "code",
   "execution_count": 5,
   "metadata": {},
   "outputs": [
    {
     "name": "stdout",
     "output_type": "stream",
     "text": [
      "CDXXI\n",
      "True\n"
     ]
    }
   ],
   "source": [
    "import re\n",
    "\n",
    "regex_pattern = r\"^M{0,3}(CM|CD|D?C{0,3})(XC|XL|L?X{0,3})(IX|IV|V?I{0,3})$\"\n",
    "# same: regex_pattern = r'M{0,3}(C[MD]|D?C{0,3})(X[CL]|L?X{0,3})(I[XV]|V?I{0,3})$'\n",
    "\n",
    "\n",
    "print(str(bool(re.match(regex_pattern, input()))))"
   ]
  }
 ],
 "metadata": {
  "kernelspec": {
   "display_name": "Python 3",
   "language": "python",
   "name": "python3"
  },
  "language_info": {
   "codemirror_mode": {
    "name": "ipython",
    "version": 3
   },
   "file_extension": ".py",
   "mimetype": "text/x-python",
   "name": "python",
   "nbconvert_exporter": "python",
   "pygments_lexer": "ipython3",
   "version": "3.7.4"
  }
 },
 "nbformat": 4,
 "nbformat_minor": 2
}
