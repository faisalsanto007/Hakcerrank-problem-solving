{
 "cells": [
  {
   "cell_type": "markdown",
   "metadata": {},
   "source": [
    "A valid credit card from ABCD Bank has the following characteristics:\n",
    "\n",
    "    ► It must start with a 4, 5 or 6.\n",
    "    ► It must contain exactly 16 digits.\n",
    "    ► It must only consist of digits (0-9).\n",
    "    ► It may have digits in groups of 4, separated by one hyphen \"-\".\n",
    "    ► It must NOT use any other separator like ' ' , '_', etc.\n",
    "    ► It must NOT have 4 or more consecutive repeated digits.\n",
    "    \n",
    "Examples:\n",
    "\n",
    "    Valid Credit Card Numbers:\n",
    "    4253625879615786\n",
    "    4424424424442444\n",
    "    5122-2368-7954-3214\n",
    "    \n",
    "    Invalid Credit Card Numbers:\n",
    "    42536258796157867       #17 digits in card number → Invalid \n",
    "    4424444424442444        #Consecutive digits are repeating 4 or more times → Invalid\n",
    "    5122-2368-7954 - 3214   #Separators other than '-' are used → Invalid\n",
    "    44244x4424442444        #Contains non digit characters → Invalid\n",
    "    0525362587961578        #Doesn't start with 4, 5 or 6 → Invalid"
   ]
  },
  {
   "cell_type": "markdown",
   "metadata": {},
   "source": [
    "* \"[456]\\d{3}\" matches the first 4 digits\n",
    "* \"(-?)\" matches an optional \"-\", capturing it as the first group\n",
    "* \"\\d{4}\" matches the second 4 digits\n",
    "* \"(\\1\\d{4}){2}\" matches the latest two groups of 4 digits, with or without the hyphens, depending on the first capturing group\n",
    "\n",
    "Everything between [] are characters to be matched. So it matches each of those characters:\n",
    "\n",
    "    - the literal character -\n",
    "    \\w match any word character [a-zA-Z0-9_]\n",
    "    \\d match a digit [0-9]\n",
    "    { the literal character {\n",
    "    1-3 a single character in the range between 1 and 3\n",
    "    } the literal character }\n",
    "    the 1-3 makes no sense there, as well as the \\d. Both are included in \\w Even what you would say that is correct {1,3} inside the [] makes no sense."
   ]
  },
  {
   "cell_type": "code",
   "execution_count": 9,
   "metadata": {},
   "outputs": [
    {
     "name": "stdout",
     "output_type": "stream",
     "text": [
      "6\n",
      "4123456789123456\n",
      "Valid \n",
      " 5123-4567-8912-3456\n",
      "Valid \n",
      "61234-567-8912-3456\n",
      "Invalid\n",
      " 4123356789123456\n",
      "Valid \n",
      "5133-3367-8912-3456\n",
      "Invalid\n",
      " 5123 - 3567 - 8912 - 3456\n",
      "Invalid\n"
     ]
    }
   ],
   "source": [
    "import re\n",
    "\n",
    "pattern = re.compile(\n",
    "    r'^'\n",
    "    r'(?!.*(\\d)(-?\\1){3})'\n",
    "    r'[456]\\d{3}'\n",
    "    r'(?:-?\\d{4}){3}'\n",
    "    r'$')\n",
    "\n",
    "for _ in range(int(input().strip())):\n",
    "    \n",
    "    if pattern.search(input().strip()):\n",
    "        print('Valid ')\n",
    "    else:\n",
    "        print('Invalid')"
   ]
  }
 ],
 "metadata": {
  "kernelspec": {
   "display_name": "Python 3",
   "language": "python",
   "name": "python3"
  },
  "language_info": {
   "codemirror_mode": {
    "name": "ipython",
    "version": 3
   },
   "file_extension": ".py",
   "mimetype": "text/x-python",
   "name": "python",
   "nbconvert_exporter": "python",
   "pygments_lexer": "ipython3",
   "version": "3.7.4"
  }
 },
 "nbformat": 4,
 "nbformat_minor": 2
}
