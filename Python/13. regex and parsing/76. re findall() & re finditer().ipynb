{
 "cells": [
  {
   "cell_type": "markdown",
   "metadata": {},
   "source": [
    "**re.findall()**\n",
    "The expression re.findall() returns all the non-overlapping matches of patterns in a string as a list of strings.\n",
    "Code\n",
    "\n",
    "    >>> import re\n",
    "    >>> re.findall(r'\\w','http://www.hackerrank.com/')\n",
    "    ['h', 't', 't', 'p', 'w', 'w', 'w', 'h', 'a', 'c', 'k', 'e', 'r', 'r', 'a', 'n', 'k', 'c', 'o', 'm']\n",
    "    \n",
    "    \n",
    "**re.finditer()**\n",
    "The expression re.finditer() returns an iterator yielding MatchObject instances over all non-overlapping matches for the re pattern in the string.\n",
    "Code\n",
    "\n",
    "    >>> import re\n",
    "    >>> re.finditer(r'\\w','http://www.hackerrank.com/')\n",
    "    <callable-iterator object at 0x0266C790>\n",
    "    >>> map(lambda x: x.group(),re.finditer(r'\\w','http://www.hackerrank.com/'))\n",
    "    ['h', 't', 't', 'p', 'w', 'w', 'w', 'h', 'a', 'c', 'k', 'e', 'r', 'r', 'a', 'n', 'k', 'c', 'o', 'm']"
   ]
  },
  {
   "cell_type": "code",
   "execution_count": 9,
   "metadata": {},
   "outputs": [
    {
     "name": "stdout",
     "output_type": "stream",
     "text": [
      "rabcdeefgyYhFjkIoomnpOeorteeeeet\n",
      "ee\n",
      "Ioo\n",
      "Oeo\n",
      "eeeee\n"
     ]
    }
   ],
   "source": [
    "import re\n",
    "\n",
    "vowels = '[aeiou]'\n",
    "consonants = '[bcdfghjklmnpqrstvwxyz]'\n",
    "regex = '(?<=' + consonants +')(' + vowels + '{2,})' + consonants\n",
    "\n",
    "match = re.findall(regex, input(), flags=re.I)\n",
    "print('\\n'.join(match or ['-1']))"
   ]
  }
 ],
 "metadata": {
  "kernelspec": {
   "display_name": "Python 3",
   "language": "python",
   "name": "python3"
  },
  "language_info": {
   "codemirror_mode": {
    "name": "ipython",
    "version": 3
   },
   "file_extension": ".py",
   "mimetype": "text/x-python",
   "name": "python",
   "nbconvert_exporter": "python",
   "pygments_lexer": "ipython3",
   "version": "3.7.4"
  }
 },
 "nbformat": 4,
 "nbformat_minor": 2
}
