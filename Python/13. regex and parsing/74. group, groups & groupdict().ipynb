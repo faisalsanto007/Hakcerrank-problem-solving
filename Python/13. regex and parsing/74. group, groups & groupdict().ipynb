{
 "cells": [
  {
   "cell_type": "markdown",
   "metadata": {},
   "source": [
    "### group()\n",
    "A group() expression returns one or more subgroups of the match.\n",
    "\n",
    "Code:\n",
    "\n",
    "    >>> import re\n",
    "    >>> m = re.match(r'(\\w+)@(\\w+)\\.(\\w+)','username@hackerrank.com')\n",
    "    >>> m.group(0)       # The entire match \n",
    "    'username@hackerrank.com'\n",
    "    >>> m.group(1)       # The first parenthesized subgroup.\n",
    "    'username'\n",
    "    >>> m.group(2)       # The second parenthesized subgroup.\n",
    "    'hackerrank'\n",
    "    >>> m.group(3)       # The third parenthesized subgroup.\n",
    "    'com'\n",
    "    >>> m.group(1,2,3)   # Multiple arguments give us a tuple.\n",
    "    ('username', 'hackerrank', 'com')\n",
    "    \n",
    "### groups()\n",
    "A groups() expression returns a tuple containing all the subgroups of the match.\n",
    "\n",
    "Code:\n",
    "\n",
    "    >>> import re\n",
    "    >>> m = re.match(r'(\\w+)@(\\w+)\\.(\\w+)','username@hackerrank.com')\n",
    "    >>> m.groups()\n",
    "    ('username', 'hackerrank', 'com')\n",
    "    \n",
    "### groupdict()\n",
    "A groupdict() expression returns a dictionary containing all the named subgroups of the match, keyed by the subgroup name.\n",
    "\n",
    "Code:\n",
    "\n",
    "    >>> m = re.match(r'(?P<user>\\w+)@(?P<website>\\w+)\\.(?P<extension>\\w+)','myname@hackerrank.com')\n",
    "    >>> m.groupdict()\n",
    "    {'website': 'hackerrank', 'user': 'myname', 'extension': 'com'}"
   ]
  },
  {
   "cell_type": "markdown",
   "metadata": {},
   "source": [
    "**Print the first occurrence of the repeating character. If there are no repeating characters, print -1.**"
   ]
  },
  {
   "cell_type": "code",
   "execution_count": 1,
   "metadata": {},
   "outputs": [
    {
     "name": "stdout",
     "output_type": "stream",
     "text": [
      "..12345678910111213141516171820212223\n",
      "1\n"
     ]
    }
   ],
   "source": [
    "import re\n",
    "\n",
    "line = input()\n",
    "match = re.search(r'([a-zA-Z0-9])\\1+', line)\n",
    "print(match.group(1) if match else -1)"
   ]
  },
  {
   "cell_type": "code",
   "execution_count": null,
   "metadata": {},
   "outputs": [],
   "source": []
  }
 ],
 "metadata": {
  "kernelspec": {
   "display_name": "Python 3",
   "language": "python",
   "name": "python3"
  },
  "language_info": {
   "codemirror_mode": {
    "name": "ipython",
    "version": 3
   },
   "file_extension": ".py",
   "mimetype": "text/x-python",
   "name": "python",
   "nbconvert_exporter": "python",
   "pygments_lexer": "ipython3",
   "version": "3.7.4"
  }
 },
 "nbformat": 4,
 "nbformat_minor": 2
}
