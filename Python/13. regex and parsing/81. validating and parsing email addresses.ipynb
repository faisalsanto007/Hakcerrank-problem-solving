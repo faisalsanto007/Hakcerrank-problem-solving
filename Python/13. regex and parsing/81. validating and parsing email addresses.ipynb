{
 "cells": [
  {
   "cell_type": "code",
   "execution_count": 6,
   "metadata": {},
   "outputs": [
    {
     "name": "stdout",
     "output_type": "stream",
     "text": [
      "2\n",
      "DEXTER <dexter@hotmail.com>\n",
      "DEXTER <dexter@hotmail.com>\n",
      "VIRUS <virus!@variable.:p>\n",
      "Invalid or potentially harmful!!!\n"
     ]
    }
   ],
   "source": [
    "import re\n",
    "\n",
    "pattern = r'^<[A-Za-z](\\w|-|\\.|_)+@[A-Za-z]+\\.[A-Za-z]{1,3}>$'\n",
    "         #r\"^<[a-zA-Z][\\w\\.-]*@[a-zA-Z]+\\.[a-zA-Z]{1,3}>$\" (same but ekhane _ nai)\n",
    "\n",
    "for _ in range(int(input())):\n",
    "    name, email = input().split(' ')\n",
    "    \n",
    "    matches = re.match(pattern, email)\n",
    "    \n",
    "    if matches:\n",
    "        print(name, email)\n",
    "    \n",
    "    # e 2line extra, na use korleo hobe\n",
    "    else:\n",
    "        print('Invalid or potentially harmful!!!')"
   ]
  }
 ],
 "metadata": {
  "kernelspec": {
   "display_name": "Python 3",
   "language": "python",
   "name": "python3"
  },
  "language_info": {
   "codemirror_mode": {
    "name": "ipython",
    "version": 3
   },
   "file_extension": ".py",
   "mimetype": "text/x-python",
   "name": "python",
   "nbconvert_exporter": "python",
   "pygments_lexer": "ipython3",
   "version": "3.7.4"
  }
 },
 "nbformat": 4,
 "nbformat_minor": 2
}
