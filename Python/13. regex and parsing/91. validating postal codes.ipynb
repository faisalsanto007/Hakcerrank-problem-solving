{
 "cells": [
  {
   "cell_type": "markdown",
   "metadata": {},
   "source": [
    "A valid postal code P have to fullfil both below requirements:\n",
    "\n",
    "1. P must be a number in the range from  to  inclusive.\n",
    "2. P must not contain more than one alternating repetitive digit pair.\n",
    "\n",
    "Alternating repetitive digits are digits which repeat immediately after the next digit. In other words, an alternating repetitive digit pair is formed by two equal digits that have just a single digit between them.\n",
    "\n",
    "For example:\n",
    "\n",
    "    121426 # Here, 1 is an alternating repetitive digit.\n",
    "    523563 # Here, NO digit is an alternating repetitive digit.\n",
    "    552523 # Here, both 2 and 5 are alternating repetitive digits.\n",
    "\n",
    "Your task is to provide two regular expressions regex_integer_in_range and regex_alternating_repetitive_digit_pair. Where:\n",
    "\n",
    "regex_integer_in_range should match only integers range from 100000 to 999999 inclusive\n",
    "\n",
    "regex_alternating_repetitive_digit_pair should find alternating repetitive digits pairs in a given string.\n",
    "\n",
    "Both these regular expressions will be used by the provided code template to check if the input string P is a valid postal code using the following expression:\n",
    "\n",
    "(bool(re.match(regex_integer_in_range, P)) \n",
    "and len(re.findall(regex_alternating_repetitive_digit_pair, P)) < 2)"
   ]
  },
  {
   "cell_type": "code",
   "execution_count": 11,
   "metadata": {},
   "outputs": [
    {
     "name": "stdout",
     "output_type": "stream",
     "text": [
      "110000\n",
      "False\n"
     ]
    }
   ],
   "source": [
    "import re\n",
    "\n",
    "p = input()\n",
    "\n",
    "regex_integer_in_range = r'^[1-9][\\d]{5}$'\n",
    "regex_alternating_repetitive_digit_pair = r'(\\d)(?=\\d\\1)'\n",
    "\n",
    "print(bool(re.match(regex_integer_in_range, p))\n",
    "     and len(re.findall(regex_alternating_repetitive_digit_pair, p)) < 2)"
   ]
  },
  {
   "cell_type": "markdown",
   "metadata": {},
   "source": [
    "**explanation:**\n",
    "\n",
    "1 1 0000 : (0, 0) and (0, 0) are two alternating digit pairs. Hence, it is an invalid postal code.\n",
    "\n",
    "r'(\\d)(?=\\d\\1) difference with this: r'(\\d)(?=\\d)\\1'\n",
    "\n",
    "    the first parentheses-delimited expression inside of the regex. It will return the number of alternate matching pattern which should be at max 1. SO the condition is of <2. re.findall function will take a pattern and a string. So we matches the digit \\d. (?=...) Matches if ... matches next, but doesn’t consume any of the string. This is called a lookahead assertion. For example, Isaac (?=Asimov) will match 'Isaac ' only if it’s followed by 'Asimov'."
   ]
  },
  {
   "cell_type": "markdown",
   "metadata": {},
   "source": [
    "**another solution**\n",
    "\n",
    "    import re\n",
    "\n",
    "    print(bool(re.match(\n",
    "        r'^'\n",
    "        r'(?!.*(.).\\1.*(.).\\2)'\n",
    "        r'(?!.*(.)(.)\\3\\4)'\n",
    "        r'[1-9]\\d{5}'\n",
    "        r'$', input()\n",
    "    )))\n",
    "\n",
    "Explanation:\n",
    "    bool(...) gives True if the regex matches, and False if it doesn't.\n",
    "\n",
    "    The main parts of the regex is ^(?![...])(?![...])[1-9]\\d{5}.\n",
    "\n",
    "    The ^ makes sure it is at the start of the string (Though is unnecessary, as re.match only starts from the beginning.)\n",
    "\n",
    "    (?![...]) is a negative Lookahead. It makes sure that its contents do not match.\n",
    "\n",
    "    [1-9]\\d{5} checks for a non-zero number followed by 5 digits, so it will be from 100000 to 999999.\n",
    "\n",
    "    The first negative Lookahead is .*(.).\\1.*(.).\\2. This checks for any amount of any character, followed by a captured character, followed by any character, followd by the character that was captured before. This is one of those \"alternate repeating digits\". It then checks for another one, any amount of characters later.\n",
    "\n",
    "    This doesn't check for if the alternate repeating characters are interleaved, for example 1212. For that, there is the other negative lookahead: .*(.)(.)\\3\\4. It checks for characters that match that pattern (abab).\n",
    "\n"
   ]
  },
  {
   "cell_type": "code",
   "execution_count": null,
   "metadata": {},
   "outputs": [],
   "source": []
  }
 ],
 "metadata": {
  "kernelspec": {
   "display_name": "Python 3",
   "language": "python",
   "name": "python3"
  },
  "language_info": {
   "codemirror_mode": {
    "name": "ipython",
    "version": 3
   },
   "file_extension": ".py",
   "mimetype": "text/x-python",
   "name": "python",
   "nbconvert_exporter": "python",
   "pygments_lexer": "ipython3",
   "version": "3.7.4"
  }
 },
 "nbformat": 4,
 "nbformat_minor": 2
}
