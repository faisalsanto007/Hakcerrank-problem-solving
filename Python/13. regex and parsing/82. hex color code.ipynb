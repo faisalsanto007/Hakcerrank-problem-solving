{
 "cells": [
  {
   "cell_type": "markdown",
   "metadata": {},
   "source": [
    "Specifications of HEX Color Code\n",
    "\n",
    "■ It must start with a '#' symbol.\n",
    "■ It can have 3 or 6 digits.\n",
    "■ Each digit is in the range of 0 to F. (1,2,3,4,5,6,7,8,9,0,A,B,C,D,E and F).\n",
    "■ A-F letters can be lower case. (a,b,c,d,e and f are also valid digits).\n",
    "\n",
    "Examples:\n",
    "\n",
    "    Valid Hex Color Codes\n",
    "    #FFF \n",
    "    #025 \n",
    "    #F0A1FB \n",
    "\n",
    "    Invalid Hex Color Codes\n",
    "    #fffabg\n",
    "    #abcf\n",
    "    #12365erff\n",
    "    \n",
    "CSS Code Pattern:\n",
    "\n",
    "    Selector\n",
    "    {\n",
    "        Property: Value;\n",
    "    }"
   ]
  },
  {
   "cell_type": "code",
   "execution_count": 2,
   "metadata": {},
   "outputs": [
    {
     "name": "stdout",
     "output_type": "stream",
     "text": [
      "11\n",
      "#BED\n",
      "{\n",
      "color: #FfFdF8; background-color:#aef;\n",
      "#FfFdF8\n",
      "#aef\n",
      "font-size: 123px;\n",
      "background: -webkit-linear-gradient(top, #f9f9f9, #fff);\n",
      "#f9f9f9\n",
      "#fff\n",
      "}\n",
      "#Cab\n",
      "{\n",
      "background-color: #ABC;\n",
      "#ABC\n",
      "border: 2px dashed #fff;\n",
      "#fff\n",
      "}\n"
     ]
    }
   ],
   "source": [
    "import re\n",
    "\n",
    "pattern = r'[\\s:](#[a-f\\d]{3,6})'\n",
    "\n",
    "for _ in range(int(input())):\n",
    "    line = input()\n",
    "    matches = re.findall(pattern, line, re.IGNORECASE)\n",
    "    if matches:\n",
    "        print(\"\\n\".join(matches))"
   ]
  },
  {
   "cell_type": "markdown",
   "metadata": {},
   "source": [
    "**#BED and #Cab satisfy the Hex Color Code criteria, but they are used as selectors and not as color codes in the given CSS**"
   ]
  },
  {
   "cell_type": "code",
   "execution_count": null,
   "metadata": {},
   "outputs": [],
   "source": []
  }
 ],
 "metadata": {
  "kernelspec": {
   "display_name": "Python 3",
   "language": "python",
   "name": "python3"
  },
  "language_info": {
   "codemirror_mode": {
    "name": "ipython",
    "version": 3
   },
   "file_extension": ".py",
   "mimetype": "text/x-python",
   "name": "python",
   "nbconvert_exporter": "python",
   "pygments_lexer": "ipython3",
   "version": "3.7.4"
  }
 },
 "nbformat": 4,
 "nbformat_minor": 2
}
