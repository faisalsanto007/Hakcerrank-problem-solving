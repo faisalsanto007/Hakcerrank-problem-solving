{
 "cells": [
  {
   "cell_type": "markdown",
   "metadata": {},
   "source": [
    "**.handle_comment(data)**\n",
    "\n",
    "This method is called when a comment is encountered (e.g. <!--comment-->).\n",
    "The data argument is the content inside the comment tag:\n",
    "\n",
    "    from HTMLParser import HTMLParser\n",
    "\n",
    "    class MyHTMLParser(HTMLParser):\n",
    "        def handle_comment(self, data):\n",
    "              print \"Comment  :\", data\n",
    "\n",
    "\n",
    "**.handle_data(data)**\n",
    "\n",
    "This method is called to process arbitrary data (e.g. text nodes and the content of <script>...</script> and <style>...</style>).\n",
    "\n",
    "The data argument is the text content of HTML.\n",
    "\n",
    "    from HTMLParser import HTMLParser\n",
    "\n",
    "    class MyHTMLParser(HTMLParser):\n",
    "        def handle_data(self, data):\n",
    "            print \"Data     :\", data"
   ]
  },
  {
   "cell_type": "code",
   "execution_count": 12,
   "metadata": {},
   "outputs": [
    {
     "name": "stdout",
     "output_type": "stream",
     "text": [
      "4\n",
      "<!--[if IE 9]>IE9-specific content\n",
      "<![endif]-->\n",
      "<div> Welcome to HackerRank</div>\n",
      "<!--[if IE 9]>IE9-specific content<![endif]-->\n",
      ">>> Multi-line Comment\n",
      "[if IE 9]>IE9-specific content\n",
      "<![endif]\n",
      ">>> Data\n",
      " Welcome to HackerRank\n",
      " Single-line Comment\n",
      "[if IE 9]>IE9-specific content<![endif]\n"
     ]
    }
   ],
   "source": [
    "from html.parser import HTMLParser\n",
    "\n",
    "class MyHTMLParser(HTMLParser):\n",
    "    \n",
    "    def handle_comment(self, comment):\n",
    "        \n",
    "        if '\\n' in comment:\n",
    "            print('>>> Multi-line Comment')\n",
    "        else:\n",
    "            print(' Single-line Comment')\n",
    "            \n",
    "        print(comment)\n",
    "        \n",
    "    \n",
    "    def handle_data(self, data):\n",
    "        \n",
    "        if data == '\\n': return\n",
    "        print('>>> Data')\n",
    "        print(data)\n",
    "        \n",
    "        \n",
    "html = \"\"\n",
    "\n",
    "for _ in range(int(input())):\n",
    "    html += input().rstrip()\n",
    "    html += '\\n'\n",
    "    \n",
    "parser = MyHTMLParser()\n",
    "parser.feed(html)\n",
    "parser.close()"
   ]
  }
 ],
 "metadata": {
  "kernelspec": {
   "display_name": "Python 3",
   "language": "python",
   "name": "python3"
  },
  "language_info": {
   "codemirror_mode": {
    "name": "ipython",
    "version": 3
   },
   "file_extension": ".py",
   "mimetype": "text/x-python",
   "name": "python",
   "nbconvert_exporter": "python",
   "pygments_lexer": "ipython3",
   "version": "3.7.4"
  }
 },
 "nbformat": 4,
 "nbformat_minor": 2
}
