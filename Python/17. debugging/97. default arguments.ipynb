{
 "cells": [
  {
   "cell_type": "markdown",
   "metadata": {},
   "source": [
    "In this challenge, the task is to debug the existing code to successfully execute all provided test files.\n",
    "\n",
    "Python supports a useful concept of default argument values. For each keyword argument of a function, we can assign a default value which is going to be used as the value of said argument if the function is called without it. For example, consider the following increment function:\n",
    "\n",
    "    def increment_by(n, increment=1):\n",
    "        return n + increment\n",
    "    The functions works like this:\n",
    "\n",
    "    >>> increment_by(5, 2)\n",
    "    7\n",
    "    >>> increment_by(4)\n",
    "    5\n",
    "    >>>\n",
    "    Debug the given function print_from_stream using the default value of one of its arguments.\n",
    "\n",
    "The function has the following signature:\n",
    "\n",
    "    def print_from_stream(n, stream)\n",
    "\n",
    "This function should print the first  values returned by get_next() method of stream object provided as an argument. Each of these values should be printed in a separate line.\n",
    "\n",
    "Whenever the function is called without the stream argument, it should use an instance of EvenStream class defined in the code stubs below as the value of stream.\n",
    "\n",
    "Your function will be tested on several cases by the locked template code."
   ]
  },
  {
   "cell_type": "code",
   "execution_count": 3,
   "metadata": {},
   "outputs": [
    {
     "name": "stdout",
     "output_type": "stream",
     "text": [
      "3\n",
      "odd 2\n",
      "1\n",
      "3\n",
      "even 3\n",
      "0\n",
      "2\n",
      "4\n",
      "odd 5\n",
      "1\n",
      "3\n",
      "5\n",
      "7\n",
      "9\n"
     ]
    }
   ],
   "source": [
    "class EvenStream(object):\n",
    "    def __init__(self):\n",
    "        self.current = 0\n",
    "        \n",
    "    def get_next(self):\n",
    "        to_return = self.current\n",
    "        self.current += 2\n",
    "        return to_return\n",
    "    \n",
    "    \n",
    "class OddStream(object):\n",
    "    def __init__(self):\n",
    "        self.current = 1\n",
    "        \n",
    "    def get_next(self):\n",
    "        to_return = self.current\n",
    "        self.current += 2\n",
    "        return to_return\n",
    "    \n",
    "def print_from_stream(n, stream=None):\n",
    "    stream = OddStream() if stream else EvenStream()\n",
    "    for _ in range(n):\n",
    "        print(stream.get_next())\n",
    "\n",
    "# another soln\n",
    "'''    def print_from_stream(n, stream=EvenStream()):\n",
    "           for _ in range(n):\n",
    "               print(stream.get_next())\n",
    "           stream.current = 0\n",
    "'''\n",
    "    \n",
    "queries = int(input())\n",
    "\n",
    "for _ in range(queries):\n",
    "    \n",
    "    stream_name, n = input().split()\n",
    "    n = int(n)\n",
    "    if stream_name == 'even':\n",
    "        print_from_stream(n)\n",
    "    else:\n",
    "        print_from_stream(n, OddStream())"
   ]
  },
  {
   "cell_type": "markdown",
   "metadata": {},
   "source": [
    "**Explanation:**\n",
    "\n",
    "There are 3 queries in the sample.\n",
    "\n",
    "In the first query, the function print_from_stream(2, OddStream()) is exectuted, which leads to printing values 1 and 3 in separated lines as the first two non-negative odd numbers.\n",
    "\n",
    "In the second query, the function print_from_stream(3) is exectuted, which leads to printing values 2, 4 and 6 in separated lines as the first three non-negative even numbers.\n",
    "\n",
    "In the third query, the function print_from_stream(5, OddStream()) is exectuted, which leads to printing values 1, 3, 5, 7 and 9 in separated lines as the first five non-negative odd numbers."
   ]
  },
  {
   "cell_type": "code",
   "execution_count": null,
   "metadata": {},
   "outputs": [],
   "source": []
  }
 ],
 "metadata": {
  "kernelspec": {
   "display_name": "Python 3",
   "language": "python",
   "name": "python3"
  },
  "language_info": {
   "codemirror_mode": {
    "name": "ipython",
    "version": 3
   },
   "file_extension": ".py",
   "mimetype": "text/x-python",
   "name": "python",
   "nbconvert_exporter": "python",
   "pygments_lexer": "ipython3",
   "version": "3.7.4"
  }
 },
 "nbformat": 4,
 "nbformat_minor": 2
}
