{
 "cells": [
  {
   "cell_type": "code",
   "execution_count": null,
   "metadata": {},
   "outputs": [],
   "source": [
    "from itertools import product\n",
    "\n",
    "k, m = map(int, input().split())\n",
    "n = (list(map(int, input().split()))[1:] for _ in range(k))\n",
    "results = (sum(i**2 for i in x) % m for x in product(*n))\n",
    "\n",
    "print(max(results))"
   ]
  },
  {
   "cell_type": "code",
   "execution_count": null,
   "metadata": {},
   "outputs": [],
   "source": [
    "# another way\n",
    "\n",
    "from itertools import product\n",
    "\n",
    "k, m = [int(x) for x in input().split()]\n",
    "lists = [[int(x) for x in input().split()[1:]] for _ in range(k)]\n",
    "cartesian_product = product(*lists)\n",
    "results = map(lambda tup: sum(x**2 for x in tup) % m, cartesian_product)\n",
    "\n",
    "print(max(results))"
   ]
  }
 ],
 "metadata": {
  "kernelspec": {
   "display_name": "Python 3",
   "language": "python",
   "name": "python3"
  },
  "language_info": {
   "codemirror_mode": {
    "name": "ipython",
    "version": 3
   },
   "file_extension": ".py",
   "mimetype": "text/x-python",
   "name": "python",
   "nbconvert_exporter": "python",
   "pygments_lexer": "ipython3",
   "version": "3.7.4"
  }
 },
 "nbformat": 4,
 "nbformat_minor": 2
}
