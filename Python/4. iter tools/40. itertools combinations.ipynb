{
 "cells": [
  {
   "cell_type": "code",
   "execution_count": null,
   "metadata": {},
   "outputs": [],
   "source": [
    "import itertools\n",
    "\n",
    "string, combination_size = input().split()\n",
    "for length in range(1, int(combination_size) + 1):\n",
    "    for combination in itertools.combinations(sorted(string), length):\n",
    "        print(''.join(combination))"
   ]
  },
  {
   "cell_type": "code",
   "execution_count": null,
   "metadata": {},
   "outputs": [],
   "source": [
    "# slightly different\n",
    "\n",
    "import itertools\n",
    "\n",
    "\n",
    "s = input().split()\n",
    "string, number = sorted(s[0]), int(s[1])\n",
    "for i in range(1, number + 1):\n",
    "    print(*list(map(''.join, itertools.combinations(string, i))), sep='\\n')"
   ]
  }
 ],
 "metadata": {
  "kernelspec": {
   "display_name": "Python 3",
   "language": "python",
   "name": "python3"
  },
  "language_info": {
   "codemirror_mode": {
    "name": "ipython",
    "version": 3
   },
   "file_extension": ".py",
   "mimetype": "text/x-python",
   "name": "python",
   "nbconvert_exporter": "python",
   "pygments_lexer": "ipython3",
   "version": "3.7.4"
  }
 },
 "nbformat": 4,
 "nbformat_minor": 2
}
