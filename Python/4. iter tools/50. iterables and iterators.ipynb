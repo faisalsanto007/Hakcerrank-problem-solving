{
 "cells": [
  {
   "cell_type": "code",
   "execution_count": 1,
   "metadata": {},
   "outputs": [
    {
     "name": "stdout",
     "output_type": "stream",
     "text": [
      "4\n",
      "a a b c\n",
      "2\n",
      "0.8333333333333334\n"
     ]
    }
   ],
   "source": [
    "from itertools import combinations\n",
    "\n",
    "n = int(input())\n",
    "array = input().split()\n",
    "k = int(input())\n",
    "\n",
    "comb_list = list(combinations(array, k))\n",
    "a_list = [e for e in comb_list if 'a' in e]\n",
    "print(len(a_list) / len(comb_list))"
   ]
  }
 ],
 "metadata": {
  "kernelspec": {
   "display_name": "Python 3",
   "language": "python",
   "name": "python3"
  },
  "language_info": {
   "codemirror_mode": {
    "name": "ipython",
    "version": 3
   },
   "file_extension": ".py",
   "mimetype": "text/x-python",
   "name": "python",
   "nbconvert_exporter": "python",
   "pygments_lexer": "ipython3",
   "version": "3.7.4"
  }
 },
 "nbformat": 4,
 "nbformat_minor": 2
}
