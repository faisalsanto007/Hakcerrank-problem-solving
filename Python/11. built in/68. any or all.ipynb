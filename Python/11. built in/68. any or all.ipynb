{
 "cells": [
  {
   "cell_type": "markdown",
   "metadata": {},
   "source": [
    "any()\n",
    "This expression returns True if any element of the iterable is true.\n",
    "If the iterable is empty, it will return False.\n",
    "\n",
    "Code:\n",
    "\n",
    "any([1>0,1==0,1<0])\n",
    "\n",
    "=True\n",
    "\n",
    "any([1<0,2<1,3<2])\n",
    "=False"
   ]
  },
  {
   "cell_type": "markdown",
   "metadata": {},
   "source": [
    "all()\n",
    "This expression returns True if all of the elements of the iterable are true. If the iterable is empty, it will return True.\n",
    "\n",
    "Code:\n",
    "\n",
    "all(['a'<'b','b'<'c'])\n",
    "\n",
    "=True\n",
    "\n",
    "all(['a'<'b','c'<'b'])\n",
    "\n",
    "=False"
   ]
  },
  {
   "cell_type": "code",
   "execution_count": 3,
   "metadata": {},
   "outputs": [
    {
     "name": "stdout",
     "output_type": "stream",
     "text": [
      "5\n",
      "12 9 61 5 14 \n",
      "True\n"
     ]
    }
   ],
   "source": [
    "def is_palandromic(num):\n",
    "    temp = num\n",
    "    reverse = 0\n",
    "    while temp != 0:\n",
    "        reverse = (reverse * 10) + (temp % 10)\n",
    "        temp //= 10\n",
    "    return num == reverse\n",
    "\n",
    "_ = input()\n",
    "nums = [int(x) for x in input().split()]\n",
    "\n",
    "print(all(num > 0 for num in nums)\n",
    "    and any(is_palandromic(num) for num in nums))"
   ]
  },
  {
   "cell_type": "code",
   "execution_count": null,
   "metadata": {},
   "outputs": [],
   "source": [
    "# short hand\n",
    "\n",
    "_ = input()\n",
    "n = input().split()\n",
    "print(all([int(i) > 0 for i in n]) and any([j == j[::-1] for j in n]))"
   ]
  }
 ],
 "metadata": {
  "kernelspec": {
   "display_name": "Python 3",
   "language": "python",
   "name": "python3"
  },
  "language_info": {
   "codemirror_mode": {
    "name": "ipython",
    "version": 3
   },
   "file_extension": ".py",
   "mimetype": "text/x-python",
   "name": "python",
   "nbconvert_exporter": "python",
   "pygments_lexer": "ipython3",
   "version": "3.7.4"
  }
 },
 "nbformat": 4,
 "nbformat_minor": 2
}
