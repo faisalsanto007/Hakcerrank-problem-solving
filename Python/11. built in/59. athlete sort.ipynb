{
 "cells": [
  {
   "cell_type": "code",
   "execution_count": 8,
   "metadata": {},
   "outputs": [
    {
     "name": "stdout",
     "output_type": "stream",
     "text": [
      "5 3\n",
      "10 2 5\n",
      "7 1 0\n",
      "9 9 9\n",
      "1 23 12\n",
      "6 5 9\n",
      "1\n",
      "\n",
      " 7 1 0\n",
      "\n",
      " 10 2 5\n",
      "\n",
      " 6 5 9\n",
      "\n",
      " 9 9 9\n",
      "\n",
      " 1 23 12\n"
     ]
    }
   ],
   "source": [
    "# 5ta line 3ta kore input dibo. sorted based on the second attribute, k=1. ekhane per line e 3ta element so k=1 mane 2nd number ta.\n",
    "\n",
    "n, m = map(int, input().split())\n",
    "rows = [input() for _ in range(n)]\n",
    "k = int(input())\n",
    "\n",
    "for row in sorted(rows, key=lambda row: int(row.split()[k])):\n",
    "    print(f'\\n {row}')"
   ]
  },
  {
   "cell_type": "code",
   "execution_count": null,
   "metadata": {},
   "outputs": [],
   "source": [
    "# another way\n",
    "\n",
    "n, m = (int(x) for x in input().split())\n",
    "\n",
    "athletes = []\n",
    "for _ in range(n):\n",
    "    athletes.append([int(x) for x in input().split()])\n",
    "\n",
    "k = int(input())\n",
    "athletes.sort(key=lambda athlete: athlete[k])\n",
    "\n",
    "for athlete in athletes:\n",
    "    print(*athlete) # * indicates there may be more than one object"
   ]
  }
 ],
 "metadata": {
  "kernelspec": {
   "display_name": "Python 3",
   "language": "python",
   "name": "python3"
  },
  "language_info": {
   "codemirror_mode": {
    "name": "ipython",
    "version": 3
   },
   "file_extension": ".py",
   "mimetype": "text/x-python",
   "name": "python",
   "nbconvert_exporter": "python",
   "pygments_lexer": "ipython3",
   "version": "3.7.4"
  }
 },
 "nbformat": 4,
 "nbformat_minor": 2
}
