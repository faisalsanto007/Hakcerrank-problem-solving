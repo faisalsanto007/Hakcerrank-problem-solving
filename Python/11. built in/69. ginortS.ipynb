{
 "cells": [
  {
   "cell_type": "markdown",
   "metadata": {},
   "source": [
    "You are given a string S.\n",
    "S contains alphanumeric characters only.\n",
    "\n",
    "Your task is to sort the string S in the following manner:\n",
    "\n",
    "1. All sorted lowercase letters are ahead of uppercase letters.\n",
    "2. All sorted uppercase letters are ahead of digits.\n",
    "3. All sorted odd digits are ahead of sorted even digits."
   ]
  },
  {
   "cell_type": "code",
   "execution_count": 7,
   "metadata": {},
   "outputs": [
    {
     "name": "stdout",
     "output_type": "stream",
     "text": [
      "Sorting1234\n",
      "ginortS1324\n"
     ]
    }
   ],
   "source": [
    "def char_priority(ch):\n",
    "    if ch.islower():\n",
    "        return (1, ch)\n",
    "    elif ch.isupper():\n",
    "        return (2, ch)\n",
    "    elif ch.isdigit():\n",
    "        if int(ch) % 2 == 1:\n",
    "            return(3, ch)\n",
    "        else:\n",
    "            return(4, ch)\n",
    "\n",
    "print(*sorted(input(), key=char_priority), sep='')"
   ]
  }
 ],
 "metadata": {
  "kernelspec": {
   "display_name": "Python 3",
   "language": "python",
   "name": "python3"
  },
  "language_info": {
   "codemirror_mode": {
    "name": "ipython",
    "version": 3
   },
   "file_extension": ".py",
   "mimetype": "text/x-python",
   "name": "python",
   "nbconvert_exporter": "python",
   "pygments_lexer": "ipython3",
   "version": "3.7.4"
  }
 },
 "nbformat": 4,
 "nbformat_minor": 2
}
