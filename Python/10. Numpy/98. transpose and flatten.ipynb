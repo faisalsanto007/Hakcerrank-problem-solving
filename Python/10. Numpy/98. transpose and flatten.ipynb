{
 "cells": [
  {
   "cell_type": "markdown",
   "metadata": {},
   "source": [
    "**Transpose**\n",
    "\n",
    "We can generate the transposition of an array using the tool numpy.transpose.\n",
    "It will not affect the original array, but it will create a new array.\n",
    "\n",
    "    import numpy\n",
    "\n",
    "    my_array = numpy.array([[1,2,3],\n",
    "                            [4,5,6]])\n",
    "    print numpy.transpose(my_array)\n",
    "\n",
    "    Output:\n",
    "    [[1 4]\n",
    "     [2 5]\n",
    "     [3 6]]\n",
    "\n",
    "**Flatten**\n",
    "\n",
    "The tool flatten creates a copy of the input array flattened to one dimension.\n",
    "\n",
    "    import numpy\n",
    "\n",
    "    my_array = numpy.array([[1,2,3],\n",
    "                            [4,5,6]])\n",
    "    print my_array.flatten()\n",
    "\n",
    "    Output:\n",
    "    [1 2 3 4 5 6]"
   ]
  },
  {
   "cell_type": "code",
   "execution_count": 3,
   "metadata": {},
   "outputs": [
    {
     "name": "stdout",
     "output_type": "stream",
     "text": [
      "2 2\n",
      "1 2\n",
      "3 4\n",
      "[[1 3]\n",
      " [2 4]]\n",
      "[1 2 3 4]\n"
     ]
    }
   ],
   "source": [
    "import numpy as np\n",
    "\n",
    "n, m = map(int, input().split())\n",
    "array = np.array([input().strip().split() for _ in range(n)], int)\n",
    "\n",
    "print(array.transpose())\n",
    "print(array.flatten())"
   ]
  }
 ],
 "metadata": {
  "kernelspec": {
   "display_name": "Python 3",
   "language": "python",
   "name": "python3"
  },
  "language_info": {
   "codemirror_mode": {
    "name": "ipython",
    "version": 3
   },
   "file_extension": ".py",
   "mimetype": "text/x-python",
   "name": "python",
   "nbconvert_exporter": "python",
   "pygments_lexer": "ipython3",
   "version": "3.7.4"
  }
 },
 "nbformat": 4,
 "nbformat_minor": 2
}
