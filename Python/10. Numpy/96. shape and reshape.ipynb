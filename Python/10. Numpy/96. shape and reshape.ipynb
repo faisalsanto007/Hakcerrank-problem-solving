{
 "cells": [
  {
   "cell_type": "markdown",
   "metadata": {},
   "source": [
    "**shape**\n",
    "\n",
    "The shape tool gives a tuple of array dimensions and can be used to change the dimensions of an array.\n",
    "\n",
    "(a). Using shape to get array dimensions\n",
    "\n",
    "    import numpy\n",
    "\n",
    "    my__1D_array = numpy.array([1, 2, 3, 4, 5])\n",
    "    print my_1D_array.shape     #(5,) -> 1 row and 5 columns\n",
    "\n",
    "    my__2D_array = numpy.array([[1, 2],[3, 4],[6,5]])\n",
    "    print my_2D_array.shape     #(3, 2) -> 3 rows and 2 columns \n",
    "    \n",
    "(b). Using shape to change array dimensions\n",
    "\n",
    "    import numpy\n",
    "\n",
    "    change_array = numpy.array([1,2,3,4,5,6])\n",
    "    change_array.shape = (3, 2)\n",
    "    print change_array      \n",
    "\n",
    "    #Output\n",
    "    [[1 2]\n",
    "    [3 4]\n",
    "    [5 6]]\n",
    "\n",
    "\n",
    "**reshape**\n",
    "\n",
    "The reshape tool gives a new shape to an array without changing its data. It creates a new array and does not modify the original array itself.\n",
    "\n",
    "    import numpy\n",
    "\n",
    "    my_array = numpy.array([1,2,3,4,5,6])\n",
    "    print numpy.reshape(my_array,(3,2))\n",
    "\n",
    "    #Output\n",
    "    [[1 2]\n",
    "    [3 4]\n",
    "    [5 6]]"
   ]
  },
  {
   "cell_type": "code",
   "execution_count": 1,
   "metadata": {},
   "outputs": [
    {
     "name": "stdout",
     "output_type": "stream",
     "text": [
      "1 2 3 4 5 6 7 8 9\n",
      "[[1 2 3]\n",
      " [4 5 6]\n",
      " [7 8 9]]\n"
     ]
    }
   ],
   "source": [
    "import numpy as np\n",
    "\n",
    "array = np.array(list(map(int, input().split())))\n",
    "\n",
    "print(array.reshape(3,3))"
   ]
  },
  {
   "cell_type": "code",
   "execution_count": null,
   "metadata": {},
   "outputs": [],
   "source": []
  }
 ],
 "metadata": {
  "kernelspec": {
   "display_name": "Python 3",
   "language": "python",
   "name": "python3"
  },
  "language_info": {
   "codemirror_mode": {
    "name": "ipython",
    "version": 3
   },
   "file_extension": ".py",
   "mimetype": "text/x-python",
   "name": "python",
   "nbconvert_exporter": "python",
   "pygments_lexer": "ipython3",
   "version": "3.7.4"
  }
 },
 "nbformat": 4,
 "nbformat_minor": 2
}
