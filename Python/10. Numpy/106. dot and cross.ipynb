{
 "cells": [
  {
   "cell_type": "markdown",
   "metadata": {},
   "source": [
    "**dot**\n",
    "\n",
    "The dot tool returns the dot product of two arrays.\n",
    "\n",
    "    import numpy as np\n",
    "\n",
    "    A = np.array([ 1, 2 ])\n",
    "    B = np.array([ 3, 4 ])\n",
    "\n",
    "    print(np.dot(A, B))       #Output : 11\n",
    "\n",
    "**cross**\n",
    "\n",
    "The cross tool returns the cross product of two arrays.\n",
    "\n",
    "    import numpy as np\n",
    "\n",
    "    A = np.array([ 1, 2 ])\n",
    "    B = np.array([ 3, 4 ])\n",
    "\n",
    "    print(np.cross(A, B)     #Output : -2"
   ]
  },
  {
   "cell_type": "code",
   "execution_count": 1,
   "metadata": {},
   "outputs": [
    {
     "name": "stdout",
     "output_type": "stream",
     "text": [
      "2\n",
      "1 2\n",
      "3 4\n",
      "1 2\n",
      "3 4\n",
      "[[ 7 10]\n",
      " [15 22]]\n"
     ]
    }
   ],
   "source": [
    "import numpy as np\n",
    "\n",
    "n = int(input())\n",
    "\n",
    "a = np.array([input().split() for _ in range(n)], int)\n",
    "b = np.array([input().split() for _ in range(n)], int)\n",
    "\n",
    "print(np.dot(a, b))"
   ]
  }
 ],
 "metadata": {
  "kernelspec": {
   "display_name": "Python 3",
   "language": "python",
   "name": "python3"
  },
  "language_info": {
   "codemirror_mode": {
    "name": "ipython",
    "version": 3
   },
   "file_extension": ".py",
   "mimetype": "text/x-python",
   "name": "python",
   "nbconvert_exporter": "python",
   "pygments_lexer": "ipython3",
   "version": "3.7.4"
  }
 },
 "nbformat": 4,
 "nbformat_minor": 2
}
