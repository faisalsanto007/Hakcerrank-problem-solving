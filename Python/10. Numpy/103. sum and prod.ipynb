{
 "cells": [
  {
   "cell_type": "markdown",
   "metadata": {},
   "source": [
    "**sum**\n",
    "\n",
    "The sum tool returns the sum of array elements over a given axis.\n",
    "\n",
    "    import numpy as np\n",
    "\n",
    "    my_array = np.array([ [1, 2], [3, 4] ])\n",
    "\n",
    "    print(np.sum(my_array, axis = 0))         #Output : [4 6]\n",
    "    print(np.sum(my_array, axis = 1))         #Output : [3 7]\n",
    "    print(np.sum(my_array, axis = None))      #Output : 10\n",
    "    print(np.sum(my_array))                   #Output : 10\n",
    "\n",
    "By default, the axis value is None. Therefore, it performs a sum over all the dimensions of the input array.\n",
    "\n",
    "**prod**\n",
    "\n",
    "The prod tool returns the product of array elements over a given axis.\n",
    "\n",
    "    import numpy as np\n",
    "\n",
    "    my_array = np.array([ [1, 2], [3, 4] ])\n",
    "\n",
    "    print(np.prod(my_array, axis = 0))            #Output : [3 8]\n",
    "    print(np.prod(my_array, axis = 1))            #Output : [ 2 12]\n",
    "    print(np.prod(my_array, axis = None))         #Output : 24\n",
    "    print(np.prod(my_array))                      #Output : 24\n",
    "\n",
    "By default, the axis value is None. Therefore, it performs the product over all the dimensions of the input array.\n"
   ]
  },
  {
   "cell_type": "code",
   "execution_count": 2,
   "metadata": {},
   "outputs": [
    {
     "name": "stdout",
     "output_type": "stream",
     "text": [
      "2 2\n",
      "1 2\n",
      "3 4\n",
      "24\n"
     ]
    }
   ],
   "source": [
    "import numpy as np\n",
    "\n",
    "n, m = map(int, input().split())\n",
    "a = np.array([input().split() for _ in range(n)], int)\n",
    "\n",
    "print(np.prod(np.sum(a, axis=0), axis=0))"
   ]
  },
  {
   "cell_type": "markdown",
   "metadata": {},
   "source": [
    "**Explanation:**\n",
    "\n",
    "The sum along axis 0 = [4 6]\n",
    "The product of this sum = 24"
   ]
  },
  {
   "cell_type": "code",
   "execution_count": null,
   "metadata": {},
   "outputs": [],
   "source": []
  }
 ],
 "metadata": {
  "kernelspec": {
   "display_name": "Python 3",
   "language": "python",
   "name": "python3"
  },
  "language_info": {
   "codemirror_mode": {
    "name": "ipython",
    "version": 3
   },
   "file_extension": ".py",
   "mimetype": "text/x-python",
   "name": "python",
   "nbconvert_exporter": "python",
   "pygments_lexer": "ipython3",
   "version": "3.7.4"
  }
 },
 "nbformat": 4,
 "nbformat_minor": 2
}
