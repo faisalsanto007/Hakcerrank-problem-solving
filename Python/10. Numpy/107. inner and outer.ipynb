{
 "cells": [
  {
   "cell_type": "markdown",
   "metadata": {},
   "source": [
    "**inner**\n",
    "\n",
    "The inner tool returns the inner product of two arrays.\n",
    "\n",
    "    import numpy as np\n",
    "\n",
    "    A = np.array([0, 1])\n",
    "    B = np.array([3, 4])\n",
    "\n",
    "    print(np.inner(A, B))     #Output : 4\n",
    "\n",
    "**outer**\n",
    "\n",
    "The outer tool returns the outer product of two arrays.\n",
    "\n",
    "    import numpy as np\n",
    "\n",
    "    A = np.array([0, 1])\n",
    "    B = np.array([3, 4])\n",
    "\n",
    "    print(np.outer(A, B))     #Output : [[0 0]\n",
    "                              #          [3 4]]"
   ]
  },
  {
   "cell_type": "code",
   "execution_count": 1,
   "metadata": {},
   "outputs": [
    {
     "name": "stdout",
     "output_type": "stream",
     "text": [
      "0 1\n",
      "2 3\n",
      "3\n",
      "[[0 0]\n",
      " [2 3]]\n"
     ]
    }
   ],
   "source": [
    "import numpy as np\n",
    "\n",
    "a = np.array(input().split(), int)\n",
    "b = np.array(input().split(), int)\n",
    "\n",
    "print(np.inner(a, b), np.outer(a, b), sep='\\n')"
   ]
  }
 ],
 "metadata": {
  "kernelspec": {
   "display_name": "Python 3",
   "language": "python",
   "name": "python3"
  },
  "language_info": {
   "codemirror_mode": {
    "name": "ipython",
    "version": 3
   },
   "file_extension": ".py",
   "mimetype": "text/x-python",
   "name": "python",
   "nbconvert_exporter": "python",
   "pygments_lexer": "ipython3",
   "version": "3.7.4"
  }
 },
 "nbformat": 4,
 "nbformat_minor": 2
}
