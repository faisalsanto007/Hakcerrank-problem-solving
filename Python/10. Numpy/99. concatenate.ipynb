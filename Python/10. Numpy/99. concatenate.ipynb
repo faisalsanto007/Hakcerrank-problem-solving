{
 "cells": [
  {
   "cell_type": "markdown",
   "metadata": {},
   "source": [
    "**Concatenate**\n",
    "\n",
    "Two or more arrays can be concatenated together using the concatenate function with a tuple of the arrays to be joined:\n",
    "\n",
    "    import numpy\n",
    "\n",
    "    array_1 = numpy.array([1,2,3])\n",
    "    array_2 = numpy.array([4,5,6])\n",
    "    array_3 = numpy.array([7,8,9])\n",
    "\n",
    "    print numpy.concatenate((array_1, array_2, array_3))    \n",
    "\n",
    "    Output:\n",
    "    [1 2 3 4 5 6 7 8 9]\n",
    "\n",
    "If an array has more than one dimension, it is possible to specify the axis along which multiple arrays are concatenated. By default, it is along the first dimension.\n",
    "\n",
    "    import numpy\n",
    "\n",
    "    array_1 = numpy.array([[1,2,3],[0,0,0]])\n",
    "    array_2 = numpy.array([[0,0,0],[7,8,9]])\n",
    "\n",
    "    print numpy.concatenate((array_1, array_2), axis = 1)   \n",
    "\n",
    "    Output:\n",
    "    [[1 2 3 0 0 0]\n",
    "     [0 0 0 7 8 9]]    "
   ]
  },
  {
   "cell_type": "code",
   "execution_count": 1,
   "metadata": {},
   "outputs": [
    {
     "name": "stdout",
     "output_type": "stream",
     "text": [
      "4 3 2\n",
      "1 2\n",
      "1 2\n",
      "1 2\n",
      "1 2\n",
      "3 4\n",
      "3 4\n",
      "3 4\n",
      "[[1 2]\n",
      " [1 2]\n",
      " [1 2]\n",
      " [1 2]\n",
      " [3 4]\n",
      " [3 4]\n",
      " [3 4]]\n"
     ]
    }
   ],
   "source": [
    "import numpy as np\n",
    "\n",
    "a, b, c = map(int, input().split())\n",
    "\n",
    "A = np.array([input().split() for _ in range(a)], int)\n",
    "B = np.array([input().split() for _ in range(b)], int)\n",
    "\n",
    "print(np.concatenate((A, B), axis=0))"
   ]
  },
  {
   "cell_type": "code",
   "execution_count": null,
   "metadata": {},
   "outputs": [],
   "source": []
  }
 ],
 "metadata": {
  "kernelspec": {
   "display_name": "Python 3",
   "language": "python",
   "name": "python3"
  },
  "language_info": {
   "codemirror_mode": {
    "name": "ipython",
    "version": 3
   },
   "file_extension": ".py",
   "mimetype": "text/x-python",
   "name": "python",
   "nbconvert_exporter": "python",
   "pygments_lexer": "ipython3",
   "version": "3.7.4"
  }
 },
 "nbformat": 4,
 "nbformat_minor": 2
}
