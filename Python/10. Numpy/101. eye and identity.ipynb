{
 "cells": [
  {
   "cell_type": "markdown",
   "metadata": {},
   "source": [
    "**identity**\n",
    "\n",
    "The identity tool returns an identity array. An identity array is a square matrix with all the main diagonal elements as  and the rest as . The default type of elements is float.\n",
    "\n",
    "    import numpy as np\n",
    "    print(np.identity(3)) # 3 is for  dimension 3 X 3\n",
    "\n",
    "    Output:\n",
    "    [[ 1.  0.  0.]\n",
    "     [ 0.  1.  0.]\n",
    "     [ 0.  0.  1.]]\n",
    "\n",
    "**eye**\n",
    "\n",
    "The eye tool returns a 2-D array with 's as the diagonal and 's elsewhere. The diagonal can be main, upper or lower depending on the optional parameter . A positive  is for the upper diagonal, a negative  is for the lower, and a   (default) is for the main diagonal.\n",
    "\n",
    "    import numpy as np\n",
    "    print(np.eye(8, 7, k = 1))    # 8 X 7 Dimensional array with first upper diagonal 1.\n",
    "\n",
    "    Output:\n",
    "    [[ 0.  1.  0.  0.  0.  0.  0.]\n",
    "     [ 0.  0.  1.  0.  0.  0.  0.]\n",
    "     [ 0.  0.  0.  1.  0.  0.  0.]\n",
    "     [ 0.  0.  0.  0.  1.  0.  0.]\n",
    "     [ 0.  0.  0.  0.  0.  1.  0.]\n",
    "     [ 0.  0.  0.  0.  0.  0.  1.]\n",
    "     [ 0.  0.  0.  0.  0.  0.  0.]\n",
    "     [ 0.  0.  0.  0.  0.  0.  0.]]\n",
    "\n",
    "    print(np.eye(8, 7, k = -2))   # 8 X 7 Dimensional array with second lower diagonal 1."
   ]
  },
  {
   "cell_type": "code",
   "execution_count": 2,
   "metadata": {},
   "outputs": [
    {
     "name": "stdout",
     "output_type": "stream",
     "text": [
      "3 3\n",
      "[[ 1.  0.  0.]\n",
      " [ 0.  1.  0.]\n",
      " [ 0.  0.  1.]]\n"
     ]
    }
   ],
   "source": [
    "import numpy as np\n",
    "\n",
    "np.set_printoptions(sign=' ')\n",
    "\n",
    "print(np.eye(*map(int, input().split())))"
   ]
  }
 ],
 "metadata": {
  "kernelspec": {
   "display_name": "Python 3",
   "language": "python",
   "name": "python3"
  },
  "language_info": {
   "codemirror_mode": {
    "name": "ipython",
    "version": 3
   },
   "file_extension": ".py",
   "mimetype": "text/x-python",
   "name": "python",
   "nbconvert_exporter": "python",
   "pygments_lexer": "ipython3",
   "version": "3.7.4"
  }
 },
 "nbformat": 4,
 "nbformat_minor": 2
}
