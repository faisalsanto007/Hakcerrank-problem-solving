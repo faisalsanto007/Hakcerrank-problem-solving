{
 "cells": [
  {
   "cell_type": "markdown",
   "metadata": {},
   "source": [
    "Basic mathematical functions operate element-wise on arrays. They are available both as operator overloads and as functions in the NumPy module.\n",
    "\n",
    "    import numpy as np\n",
    "\n",
    "    a = np.array([1,2,3,4], float)\n",
    "    b = np.array([5,6,7,8], float)\n",
    "\n",
    "    print(a + b)                     #[  6.   8.  10.  12.]\n",
    "    print(np.add(a, b))              #[  6.   8.  10.  12.]\n",
    "\n",
    "    print(a - b)                     #[-4. -4. -4. -4.]\n",
    "    print(np.subtract(a, b))         #[-4. -4. -4. -4.]\n",
    "\n",
    "    print(a * b)                     #[  5.  12.  21.  32.]\n",
    "    print(np.multiply(a, b))         #[  5.  12.  21.  32.]\n",
    "\n",
    "    print(a / b)                     #[ 0.2         0.33333333  0.42857143  0.5       ]\n",
    "    print(np.divide(a, b))           #[ 0.2         0.33333333  0.42857143  0.5       ]\n",
    "\n",
    "    print(a % b)                     #[ 1.  2.  3.  4.]\n",
    "    print(np.mod(a, b))              #[ 1.  2.  3.  4.]\n",
    "\n",
    "    print(a**b)                      #[  1.00000000e+00   6.40000000e+01   2.18700000e+03   6.55360000e+04]\n",
    "    print(np.power(a, b))            #[  1.00000000e+00   6.40000000e+01   2.18700000e+03   6.55360000e+04]\n"
   ]
  },
  {
   "cell_type": "code",
   "execution_count": 1,
   "metadata": {},
   "outputs": [
    {
     "name": "stdout",
     "output_type": "stream",
     "text": [
      "1 4\n",
      "1 2 3 4\n",
      "5 6 7 8\n",
      "[[ 6  8 10 12]]\n",
      "[[-4 -4 -4 -4]]\n",
      "[[ 5 12 21 32]]\n",
      "[[0 0 0 0]]\n",
      "[[1 2 3 4]]\n",
      "[[    1    64  2187 65536]]\n"
     ]
    }
   ],
   "source": [
    "import numpy as np\n",
    "\n",
    "n, m = map(int, input().split())\n",
    "a, b = (np.array([input().split() for _ in range(n)], int) for _ in range(2))\n",
    "\n",
    "print(a+b , a-b, a*b, a//b, a%b, a**b, sep='\\n')"
   ]
  },
  {
   "cell_type": "code",
   "execution_count": 4,
   "metadata": {},
   "outputs": [
    {
     "name": "stdout",
     "output_type": "stream",
     "text": [
      "0.75\n",
      "0\n"
     ]
    }
   ],
   "source": [
    "a,b = 3,4\n",
    "\n",
    "print(a/b)\n",
    "print(a//b)"
   ]
  },
  {
   "cell_type": "code",
   "execution_count": null,
   "metadata": {},
   "outputs": [],
   "source": []
  }
 ],
 "metadata": {
  "kernelspec": {
   "display_name": "Python 3",
   "language": "python",
   "name": "python3"
  },
  "language_info": {
   "codemirror_mode": {
    "name": "ipython",
    "version": 3
   },
   "file_extension": ".py",
   "mimetype": "text/x-python",
   "name": "python",
   "nbconvert_exporter": "python",
   "pygments_lexer": "ipython3",
   "version": "3.7.4"
  }
 },
 "nbformat": 4,
 "nbformat_minor": 2
}
