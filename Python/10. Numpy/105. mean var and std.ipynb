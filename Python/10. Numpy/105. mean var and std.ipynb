{
 "cells": [
  {
   "cell_type": "markdown",
   "metadata": {},
   "source": [
    "**mean**\n",
    "\n",
    "The mean tool computes the arithmetic mean along the specified axis.\n",
    "\n",
    "    import numpy as np\n",
    "\n",
    "    my_array = np.array([ [1, 2], [3, 4] ])\n",
    "\n",
    "    print(np.mean(my_array, axis = 0))        #Output : [ 2.  3.]\n",
    "    print(np.mean(my_array, axis = 1))        #Output : [ 1.5  3.5]\n",
    "    print(np.mean(my_array, axis = None))     #Output : 2.5\n",
    "    print(np.mean(my_array))                  #Output : 2.5\n",
    "\n",
    "By default, the axis is None. Therefore, it computes the mean of the flattened array.\n",
    "\n",
    "**var**\n",
    "\n",
    "The var tool computes the arithmetic variance along the specified axis.\n",
    "\n",
    "    import numpy as np\n",
    "\n",
    "    my_array = np.array([ [1, 2], [3, 4] ])\n",
    "\n",
    "    print(np.var(my_array, axis = 0))         #Output : [ 1.  1.]\n",
    "    print(np.var(my_array, axis = 1))         #Output : [ 0.25  0.25]\n",
    "    print(np.var(my_array, axis = None))      #Output : 1.25\n",
    "    print(np.var(my_array))                   #Output : 1.25\n",
    "\n",
    "By default, the axis is None. Therefore, it computes the variance of the flattened array.\n",
    "\n",
    "**std**\n",
    "\n",
    "The std tool computes the arithmetic standard deviation along the specified axis.\n",
    "\n",
    "    import numpy as np\n",
    "\n",
    "    my_array = np.array([ [1, 2], [3, 4] ])\n",
    "\n",
    "    print(np.std(my_array, axis = 0))         #Output : [ 1.  1.]\n",
    "    print(np.std(my_array, axis = 1))         #Output : [ 0.5  0.5]\n",
    "    print(np.std(my_array, axis = None))      #Output : 1.11803398875\n",
    "    print(np.std(my_array))                   #Output : 1.11803398875\n",
    "\n",
    "By default, the axis is None. Therefore, it computes the standard deviation of the flattened array.\n"
   ]
  },
  {
   "cell_type": "code",
   "execution_count": 4,
   "metadata": {},
   "outputs": [
    {
     "name": "stdout",
     "output_type": "stream",
     "text": [
      "2 2\n",
      "1 2\n",
      "3 4\n",
      "[ 1.5  3.5]\n",
      "[ 1.  1.]\n",
      "1.11803398875\n"
     ]
    }
   ],
   "source": [
    "# hacker rank e submit hocche na\n",
    "\n",
    "import numpy as np\n",
    "\n",
    "np.set_printoptions(legacy='1.13')\n",
    "\n",
    "n, m = map(int, input().split())\n",
    "array = np.array([input().split() for _ in range(n)], int)\n",
    "\n",
    "print(np.mean(array, axis=1), np.var(array, axis=0), np.std(array), sep = '\\n')"
   ]
  },
  {
   "cell_type": "code",
   "execution_count": null,
   "metadata": {},
   "outputs": [],
   "source": [
    "# hacker rank e pass korse\n",
    "\n",
    "import numpy as np\n",
    "\n",
    "a = input().split()\n",
    "n = int(a[0])\n",
    "m = int(a[1])\n",
    "\n",
    "arr = []\n",
    "\n",
    "for _ in range(n):\n",
    "    m = list(map(int, input().split()))\n",
    "    arr.append(m)\n",
    "    \n",
    "arr = np.array(arr)\n",
    "\n",
    "mean = np.mean(arr, axis=1)\n",
    "var = np.var(arr, axis=0)\n",
    "std = np.std(arr)\n",
    "\n",
    "print(mean)\n",
    "print(var)\n",
    "\n",
    "rnd = np.around(std, 11)\n",
    "print(rnd)"
   ]
  }
 ],
 "metadata": {
  "kernelspec": {
   "display_name": "Python 3",
   "language": "python",
   "name": "python3"
  },
  "language_info": {
   "codemirror_mode": {
    "name": "ipython",
    "version": 3
   },
   "file_extension": ".py",
   "mimetype": "text/x-python",
   "name": "python",
   "nbconvert_exporter": "python",
   "pygments_lexer": "ipython3",
   "version": "3.7.4"
  }
 },
 "nbformat": 4,
 "nbformat_minor": 2
}
