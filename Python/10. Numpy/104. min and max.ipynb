{
 "cells": [
  {
   "cell_type": "markdown",
   "metadata": {},
   "source": [
    "**min**\n",
    "\n",
    "The tool min returns the minimum value along a given axis.\n",
    "\n",
    "    import numpy as np\n",
    "\n",
    "    my_array = np.array([[2, 5], \n",
    "                         [3, 7],\n",
    "                         [1, 3],\n",
    "                         [4, 0]])\n",
    "\n",
    "    print(np.min(my_array, axis = 0))         #Output : [1 0]\n",
    "    print(np.min(my_array, axis = 1))         #Output : [2 3 1 0]\n",
    "    print(np.min(my_array, axis = None))      #Output : 0\n",
    "    print(np.min(my_array))                   #Output : 0\n",
    "\n",
    "By default, the axis value is None. Therefore, it finds the minimum over all the dimensions of the input array.\n",
    "\n",
    "**max**\n",
    "\n",
    "The tool max returns the maximum value along a given axis.\n",
    "\n",
    "    import numpy as np\n",
    "\n",
    "    my_array = np.array([[2, 5], \n",
    "                         [3, 7],\n",
    "                         [1, 3],\n",
    "                         [4, 0]])\n",
    "\n",
    "    print(np.max(my_array, axis = 0))         #Output : [4 7]\n",
    "    print(np.max(my_array, axis = 1))         #Output : [5 7 3 4]\n",
    "    print(np.max(my_array, axis = None))      #Output : 7\n",
    "    print(np.max(my_array))                   #Output : 7\n",
    "\n",
    "By default, the axis value is None. Therefore, it finds the maximum over all the dimensions of the input array."
   ]
  },
  {
   "cell_type": "code",
   "execution_count": 1,
   "metadata": {},
   "outputs": [
    {
     "name": "stdout",
     "output_type": "stream",
     "text": [
      "4 2\n",
      "2 5\n",
      "3 7\n",
      "1 3\n",
      "4 0\n",
      "3\n"
     ]
    }
   ],
   "source": [
    "import numpy as np\n",
    "\n",
    "n, m = map(int, input().split())\n",
    "a = np.array([input().split() for _ in range(n)], int)\n",
    "\n",
    "print(np.max(np.min(a, axis=1), axis=0))"
   ]
  },
  {
   "cell_type": "markdown",
   "metadata": {},
   "source": [
    "**Explanation:**\n",
    "\n",
    "The min along axis 1 = [2, 3, 1, 0] \n",
    "\n",
    "The max of [2, 3, 1, 0] = 3"
   ]
  },
  {
   "cell_type": "code",
   "execution_count": null,
   "metadata": {},
   "outputs": [],
   "source": []
  }
 ],
 "metadata": {
  "kernelspec": {
   "display_name": "Python 3",
   "language": "python",
   "name": "python3"
  },
  "language_info": {
   "codemirror_mode": {
    "name": "ipython",
    "version": 3
   },
   "file_extension": ".py",
   "mimetype": "text/x-python",
   "name": "python",
   "nbconvert_exporter": "python",
   "pygments_lexer": "ipython3",
   "version": "3.7.4"
  }
 },
 "nbformat": 4,
 "nbformat_minor": 2
}
