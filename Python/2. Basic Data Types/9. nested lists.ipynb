{
 "cells": [
  {
   "cell_type": "code",
   "execution_count": null,
   "metadata": {},
   "outputs": [],
   "source": [
    "# Read in names and grades to a nested list\n",
    "n = int(input())\n",
    "names_grades = [[input(), float(input())] for _ in range(n)]\n",
    "\n",
    "# Find the second lowest grade\n",
    "grades_set = {n_g[1] for n_g in names_grades}\n",
    "second_lowest_grade = sorted(grades_set)[1]\n",
    "\n",
    "# Find all students with the second lowest grade\n",
    "second_lowest_students = [n_g[0] for n_g in names_grades\n",
    "                          if n_g[1] == second_lowest_grade]\n",
    "print(*sorted(second_lowest_students), sep=\"\\n\")"
   ]
  }
 ],
 "metadata": {
  "kernelspec": {
   "display_name": "Python 3",
   "language": "python",
   "name": "python3"
  },
  "language_info": {
   "codemirror_mode": {
    "name": "ipython",
    "version": 3
   },
   "file_extension": ".py",
   "mimetype": "text/x-python",
   "name": "python",
   "nbconvert_exporter": "python",
   "pygments_lexer": "ipython3",
   "version": "3.7.4"
  }
 },
 "nbformat": 4,
 "nbformat_minor": 2
}
