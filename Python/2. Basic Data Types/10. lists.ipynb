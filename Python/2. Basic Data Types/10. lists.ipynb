{
 "cells": [
  {
   "cell_type": "code",
   "execution_count": null,
   "metadata": {},
   "outputs": [],
   "source": [
    "\n",
    "def parse_and_execute(result_list, command, args):\n",
    "    \"\"\"Parses commands and executes them on the given list.\"\"\"\n",
    "    if command != \"print\":\n",
    "        eval(\"result_list.\" + command + \"(\" + \", \".join(args) + \")\")\n",
    "    else:\n",
    "        print(result_list)\n",
    "\n",
    "result_list = []\n",
    "num_commands = int(input())\n",
    "for _ in range(num_commands):\n",
    "    command = input().split(' ')\n",
    "    parse_and_execute(result_list, command[0], command[1:])"
   ]
  }
 ],
 "metadata": {
  "kernelspec": {
   "display_name": "Python 3",
   "language": "python",
   "name": "python3"
  },
  "language_info": {
   "codemirror_mode": {
    "name": "ipython",
    "version": 3
   },
   "file_extension": ".py",
   "mimetype": "text/x-python",
   "name": "python",
   "nbconvert_exporter": "python",
   "pygments_lexer": "ipython3",
   "version": "3.7.4"
  }
 },
 "nbformat": 4,
 "nbformat_minor": 2
}
