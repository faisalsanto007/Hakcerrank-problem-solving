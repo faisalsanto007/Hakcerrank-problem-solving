{
 "cells": [
  {
   "cell_type": "code",
   "execution_count": null,
   "metadata": {},
   "outputs": [],
   "source": [
    "from collections import Counter\n",
    "\n",
    "_ = input()\n",
    "shoes = Counter([int(x) for x in input().split()])\n",
    "\n",
    "profits = 0\n",
    "num_customers = int(input())\n",
    "for _ in range(num_customers):\n",
    "    size, price = (int(x) for x in input().split())\n",
    "    num_left = shoes[size]\n",
    "    if num_left:\n",
    "        profits += price\n",
    "        shoes[size] = num_left - 1\n",
    "print(profits)"
   ]
  },
  {
   "cell_type": "code",
   "execution_count": null,
   "metadata": {},
   "outputs": [],
   "source": [
    "# another way\n",
    "\n",
    "from collections import defaultdict\n",
    "\n",
    "d = defaultdict(list)\n",
    "n, m = map(int, input().split())\n",
    "\n",
    "for i in range(n):\n",
    "    d[input()].append(str(i + 1))\n",
    "for j in range(m):\n",
    "    print(' '.join(d[input()]) or -1)"
   ]
  }
 ],
 "metadata": {
  "kernelspec": {
   "display_name": "Python 3",
   "language": "python",
   "name": "python3"
  },
  "language_info": {
   "codemirror_mode": {
    "name": "ipython",
    "version": 3
   },
   "file_extension": ".py",
   "mimetype": "text/x-python",
   "name": "python",
   "nbconvert_exporter": "python",
   "pygments_lexer": "ipython3",
   "version": "3.7.4"
  }
 },
 "nbformat": 4,
 "nbformat_minor": 2
}
