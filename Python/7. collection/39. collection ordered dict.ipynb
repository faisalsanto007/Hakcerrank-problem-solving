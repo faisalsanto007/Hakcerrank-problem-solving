{
 "cells": [
  {
   "cell_type": "code",
   "execution_count": null,
   "metadata": {},
   "outputs": [],
   "source": [
    "from collections import OrderedDict\n",
    "\n",
    "items_sold = OrderedDict()\n",
    "for _ in range(int(input())):\n",
    "    item, _, price = input().rpartition(' ')\n",
    "    price = int(price)\n",
    "    if item in items_sold:\n",
    "        items_sold[item] += price\n",
    "    else:\n",
    "        items_sold[item] = price\n",
    "\n",
    "for item, price in items_sold.items():\n",
    "    print(item, price)"
   ]
  },
  {
   "cell_type": "code",
   "execution_count": null,
   "metadata": {},
   "outputs": [],
   "source": [
    "# another way\n",
    "\n",
    "from collections import OrderedDict\n",
    "\n",
    "\n",
    "ordered_dictionary = OrderedDict()\n",
    "for _ in range(int(input())):\n",
    "    item, price = input().rsplit(' ', 1)\n",
    "    ordered_dictionary[item] = ordered_dictionary.get(item, 0) + int(price)\n",
    "[print(item, ordered_dictionary[item]) for item in ordered_dictionary]"
   ]
  },
  {
   "cell_type": "code",
   "execution_count": null,
   "metadata": {},
   "outputs": [],
   "source": [
    "# slightly different\n",
    "\n",
    "from collections import OrderedDict\n",
    "\n",
    "order = OrderedDict()\n",
    "for _ in range(int(input())):\n",
    "    item, space, price = input().rpartition(' ')\n",
    "    order[item] = order.get(item, 0) + int(price)\n",
    "for item, price in order.items():\n",
    "    print(item, price)"
   ]
  }
 ],
 "metadata": {
  "kernelspec": {
   "display_name": "Python 3",
   "language": "python",
   "name": "python3"
  },
  "language_info": {
   "codemirror_mode": {
    "name": "ipython",
    "version": 3
   },
   "file_extension": ".py",
   "mimetype": "text/x-python",
   "name": "python",
   "nbconvert_exporter": "python",
   "pygments_lexer": "ipython3",
   "version": "3.7.4"
  }
 },
 "nbformat": 4,
 "nbformat_minor": 2
}
