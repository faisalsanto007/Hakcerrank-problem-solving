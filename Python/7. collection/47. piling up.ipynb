{
 "cells": [
  {
   "cell_type": "code",
   "execution_count": 1,
   "metadata": {},
   "outputs": [
    {
     "name": "stdout",
     "output_type": "stream",
     "text": [
      "2\n",
      "6\n",
      "4 3 2 1 3 4\n",
      "Yes\n",
      "3\n",
      "1 3 2\n",
      "No\n"
     ]
    }
   ],
   "source": [
    "for t in range(int(input())):\n",
    "    l = int(input())\n",
    "    sides = list(map(int, input().split()))\n",
    "    i = 0\n",
    "    while i < l - 1 and sides[i] >= sides[i + 1]:\n",
    "        i += 1\n",
    "    while i < l - 1 and sides[i] <= sides[i + 1]:\n",
    "        i += 1\n",
    "    print('Yes' if i == l - 1 else 'No')"
   ]
  },
  {
   "cell_type": "code",
   "execution_count": null,
   "metadata": {},
   "outputs": [],
   "source": [
    "# another way\n",
    "\n",
    "from collections import deque\n",
    "\n",
    "\n",
    "for i in range(int(input())):\n",
    "    _, n = input(), deque(map(int, input().split()))\n",
    "    ans = True\n",
    "\n",
    "    for j in range(len(n) - 1):\n",
    "        if n[0] >= n[1]:\n",
    "            n.popleft()\n",
    "        elif n[-1] >= n[-2]:\n",
    "            n.pop()\n",
    "        else:\n",
    "            ans = False\n",
    "            break\n",
    "\n",
    "    print('Yes' if ans else 'No')"
   ]
  }
 ],
 "metadata": {
  "kernelspec": {
   "display_name": "Python 3",
   "language": "python",
   "name": "python3"
  },
  "language_info": {
   "codemirror_mode": {
    "name": "ipython",
    "version": 3
   },
   "file_extension": ".py",
   "mimetype": "text/x-python",
   "name": "python",
   "nbconvert_exporter": "python",
   "pygments_lexer": "ipython3",
   "version": "3.7.4"
  }
 },
 "nbformat": 4,
 "nbformat_minor": 2
}
