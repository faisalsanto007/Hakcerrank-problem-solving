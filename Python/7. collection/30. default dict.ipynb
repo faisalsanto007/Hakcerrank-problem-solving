{
 "cells": [
  {
   "cell_type": "code",
   "execution_count": null,
   "metadata": {},
   "outputs": [],
   "source": [
    "from collections import defaultdict\n",
    "\n",
    "A_indices = defaultdict(list)\n",
    "n, m = (int(x) for x in input().split())\n",
    "\n",
    "# Map each string in A to a list of indices where it occurs\n",
    "for i in range(1, n+1):\n",
    "    A_indices[input()].append(str(i))\n",
    "\n",
    "# Print the list of indices in A (or -1) for each string in B\n",
    "for i in range(m):\n",
    "    b = input()\n",
    "    if b in A_indices:\n",
    "        print(*A_indices[b])\n",
    "    else:\n",
    "        print(-1)"
   ]
  },
  {
   "cell_type": "code",
   "execution_count": null,
   "metadata": {},
   "outputs": [],
   "source": [
    "# anohter way\n",
    "\n",
    "from collections import defaultdict\n",
    "\n",
    "d = defaultdict(list)\n",
    "n, m = map(int, input().split())\n",
    "\n",
    "for i in range(n):\n",
    "    d[input()].append(str(i + 1))\n",
    "for j in range(m):\n",
    "    print(' '.join(d[input()]) or -1)"
   ]
  }
 ],
 "metadata": {
  "kernelspec": {
   "display_name": "Python 3",
   "language": "python",
   "name": "python3"
  },
  "language_info": {
   "codemirror_mode": {
    "name": "ipython",
    "version": 3
   },
   "file_extension": ".py",
   "mimetype": "text/x-python",
   "name": "python",
   "nbconvert_exporter": "python",
   "pygments_lexer": "ipython3",
   "version": "3.7.4"
  }
 },
 "nbformat": 4,
 "nbformat_minor": 2
}
