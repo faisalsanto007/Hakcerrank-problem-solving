{
 "cells": [
  {
   "cell_type": "code",
   "execution_count": null,
   "metadata": {},
   "outputs": [],
   "source": [
    "from collections import namedtuple\n",
    "\n",
    "num_rows = int(input())\n",
    "column_names = input().split()\n",
    "Student = namedtuple('Student', column_names)\n",
    "\n",
    "marks_sum = 0\n",
    "for _ in range(num_rows):\n",
    "    fields = input().split()\n",
    "    student = Student(*fields)\n",
    "    marks_sum += int(student.MARKS)\n",
    "print(\"{:.2f}\".format(marks_sum / num_rows))"
   ]
  },
  {
   "cell_type": "code",
   "execution_count": null,
   "metadata": {},
   "outputs": [],
   "source": [
    "# in short hand\n",
    "\n",
    "from collections import namedtuple\n",
    "\n",
    "\n",
    "n, Student = int(input()), namedtuple('Student', input())\n",
    "print(\"{:.2f}\".format(sum([int(Student(*input().split()).MARKS) for _ in range(n)]) / n))"
   ]
  }
 ],
 "metadata": {
  "kernelspec": {
   "display_name": "Python 3",
   "language": "python",
   "name": "python3"
  },
  "language_info": {
   "codemirror_mode": {
    "name": "ipython",
    "version": 3
   },
   "file_extension": ".py",
   "mimetype": "text/x-python",
   "name": "python",
   "nbconvert_exporter": "python",
   "pygments_lexer": "ipython3",
   "version": "3.7.4"
  }
 },
 "nbformat": 4,
 "nbformat_minor": 2
}
