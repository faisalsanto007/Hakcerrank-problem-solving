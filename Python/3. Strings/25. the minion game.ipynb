{
 "cells": [
  {
   "cell_type": "code",
   "execution_count": null,
   "metadata": {},
   "outputs": [],
   "source": [
    "vowels = \"AEIOU\"\n",
    "\n",
    "def minion_game(string):\n",
    "    kevin_score = 0\n",
    "    stuart_score = 0\n",
    "    for i in range(len(string)):\n",
    "        # Number of substrings starting at string[i]\n",
    "        num_substrings = len(string) - i\n",
    "        if string[i] in vowels:\n",
    "            kevin_score += num_substrings\n",
    "        else:\n",
    "            stuart_score += num_substrings\n",
    "\n",
    "    if kevin_score > stuart_score:\n",
    "        print(\"Kevin \" + str(kevin_score))\n",
    "    elif stuart_score > kevin_score:\n",
    "        print(\"Stuart \" + str(stuart_score))\n",
    "    else:\n",
    "        print(\"Draw\")\n",
    "\n",
    "################################################################################\n",
    "#----------------------------- begin locked code ------------------------------#\n",
    "if __name__ == '__main__':\n",
    "    s = input()\n",
    "    minion_game(s)\n",
    "#------------------------------ end locked code -------------------------------#\n",
    "################################################################################"
   ]
  },
  {
   "cell_type": "code",
   "execution_count": null,
   "metadata": {},
   "outputs": [],
   "source": [
    "# another way\n",
    "\n",
    "def minion_game(string):\n",
    "    vowels = 'AEIOU'\n",
    "    str_lenght = len(string)\n",
    "    kevin_score, stuart_score = 0, 0\n",
    "\n",
    "    for i in range(str_lenght):\n",
    "        if s[i] in vowels:\n",
    "            kevin_score += (str_lenght - i)\n",
    "        else:\n",
    "            stuart_score += (str_lenght - i)\n",
    "\n",
    "    if kevin_score > stuart_score:\n",
    "        print(\"Kevin\", kevin_score)\n",
    "    elif kevin_score < stuart_score:\n",
    "        print(\"Stuart\", stuart_score)\n",
    "    else:\n",
    "        print(\"Draw\")\n",
    "\n",
    "\n",
    "if __name__ == '__main__':\n",
    "    s = input()\n",
    "    minion_game(s)"
   ]
  }
 ],
 "metadata": {
  "kernelspec": {
   "display_name": "Python 3",
   "language": "python",
   "name": "python3"
  },
  "language_info": {
   "codemirror_mode": {
    "name": "ipython",
    "version": 3
   },
   "file_extension": ".py",
   "mimetype": "text/x-python",
   "name": "python",
   "nbconvert_exporter": "python",
   "pygments_lexer": "ipython3",
   "version": "3.7.4"
  }
 },
 "nbformat": 4,
 "nbformat_minor": 2
}
