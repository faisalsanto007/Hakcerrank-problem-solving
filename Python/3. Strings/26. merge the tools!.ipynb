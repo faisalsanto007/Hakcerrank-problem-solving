{
 "cells": [
  {
   "cell_type": "code",
   "execution_count": null,
   "metadata": {},
   "outputs": [],
   "source": [
    "from collections import OrderedDict\n",
    "\n",
    "def merge_the_tools(string, k):\n",
    "    for i in range(0, len(string), k):\n",
    "        print(''.join(list(OrderedDict.fromkeys(string[i:i+k]))))\n",
    "\n",
    "################################################################################\n",
    "#----------------------------- begin locked code ------------------------------#\n",
    "if __name__ == '__main__':\n",
    "    string, k = input(), int(input())\n",
    "    merge_the_tools(string, k)\n",
    "#------------------------------ end locked code -------------------------------#\n",
    "################################################################################"
   ]
  },
  {
   "cell_type": "code",
   "execution_count": null,
   "metadata": {},
   "outputs": [],
   "source": [
    "# another way\n",
    "\n",
    "from collections import OrderedDict\n",
    "\n",
    "\n",
    "def merge_the_tools(string, k):\n",
    "    for i in range(0, len(string), k):\n",
    "        print(''.join(OrderedDict.fromkeys(string[i:i + k])))\n",
    "\n",
    "\n",
    "if __name__ == '__main__':\n",
    "    string, k = input(), int(input())\n",
    "    merge_the_tools(string, k)"
   ]
  }
 ],
 "metadata": {
  "kernelspec": {
   "display_name": "Python 3",
   "language": "python",
   "name": "python3"
  },
  "language_info": {
   "codemirror_mode": {
    "name": "ipython",
    "version": 3
   },
   "file_extension": ".py",
   "mimetype": "text/x-python",
   "name": "python",
   "nbconvert_exporter": "python",
   "pygments_lexer": "ipython3",
   "version": "3.7.4"
  }
 },
 "nbformat": 4,
 "nbformat_minor": 2
}
