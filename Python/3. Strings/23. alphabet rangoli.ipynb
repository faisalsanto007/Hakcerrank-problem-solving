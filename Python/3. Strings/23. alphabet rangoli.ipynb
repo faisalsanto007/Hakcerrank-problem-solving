{
 "cells": [
  {
   "cell_type": "code",
   "execution_count": null,
   "metadata": {},
   "outputs": [],
   "source": [
    "import string\n",
    "\n",
    "def print_rangoli(size):\n",
    "    alphabet = string.ascii_lowercase\n",
    "\n",
    "    for i in range(size - 1, 0, -1):\n",
    "        row = [\"-\"] * (size * 2 - 1)\n",
    "        for j in range(0, size - i):\n",
    "            row[size - 1 - j] = alphabet[j + i]\n",
    "            row[size - 1 + j] = alphabet[j + i]\n",
    "        print(\"-\".join(row))\n",
    "\n",
    "    for i in range(0, size):\n",
    "        row = [\"-\"] * (size * 2 - 1)\n",
    "        for j in range(0, size - i):\n",
    "            row[size - 1 - j] = alphabet[j + i]\n",
    "            row[size - 1 + j] = alphabet[j + i]\n",
    "        print(\"-\".join(row))\n",
    "\n",
    "################################################################################\n",
    "#----------------------------- begin locked code ------------------------------#\n",
    "if __name__ == '__main__':\n",
    "    n = int(input())\n",
    "    print_rangoli(n)\n",
    "#------------------------------ end locked code -------------------------------#\n",
    "################################################################################"
   ]
  },
  {
   "cell_type": "code",
   "execution_count": null,
   "metadata": {},
   "outputs": [],
   "source": [
    "# another way\n",
    "\n",
    "import string\n",
    "\n",
    "\n",
    "def print_rangoli(size):\n",
    "    alpha = string.ascii_lowercase\n",
    "    for i in range(n - 1, 0, -1):\n",
    "        row = [\"-\"] * (n * 2 - 1)\n",
    "        for j in range(0, n - i):\n",
    "            row[n - 1 - j] = alpha[j + i]\n",
    "            row[n - 1 + j] = alpha[j + i]\n",
    "        print(\"-\".join(row))\n",
    "\n",
    "    for i in range(0, n):\n",
    "        row = [\"-\"] * (n * 2 - 1)\n",
    "        for j in range(0, n - i):\n",
    "            row[n - 1 - j] = alpha[j + i]\n",
    "            row[n - 1 + j] = alpha[j + i]\n",
    "        print(\"-\".join(row))\n",
    "\n",
    "\n",
    "if __name__ == '__main__':\n",
    "    n = int(input())\n",
    "    print_rangoli(n)"
   ]
  }
 ],
 "metadata": {
  "kernelspec": {
   "display_name": "Python 3",
   "language": "python",
   "name": "python3"
  },
  "language_info": {
   "codemirror_mode": {
    "name": "ipython",
    "version": 3
   },
   "file_extension": ".py",
   "mimetype": "text/x-python",
   "name": "python",
   "nbconvert_exporter": "python",
   "pygments_lexer": "ipython3",
   "version": "3.7.4"
  }
 },
 "nbformat": 4,
 "nbformat_minor": 2
}
