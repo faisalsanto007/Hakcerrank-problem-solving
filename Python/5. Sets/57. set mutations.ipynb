{
 "cells": [
  {
   "cell_type": "code",
   "execution_count": null,
   "metadata": {},
   "outputs": [],
   "source": [
    "def handler(a):\n",
    "    command = input().split()[0]\n",
    "    new_set = set(map(int, input().split()))\n",
    "    if command == 'intersection_update':\n",
    "        a.intersection_update(new_set)\n",
    "    if command == 'update':\n",
    "        a.update(new_set)\n",
    "    if command == 'symmetric_difference_update':\n",
    "        a.symmetric_difference_update(new_set)\n",
    "    if command == 'difference_update':\n",
    "        a.difference_update(new_set)\n",
    "\n",
    "\n",
    "_, a = input(), set(map(int, input().split()))\n",
    "for i in range(int(input())):\n",
    "    handler(a)\n",
    "print(sum(a))"
   ]
  }
 ],
 "metadata": {
  "kernelspec": {
   "display_name": "Python 3",
   "language": "python",
   "name": "python3"
  },
  "language_info": {
   "codemirror_mode": {
    "name": "ipython",
    "version": 3
   },
   "file_extension": ".py",
   "mimetype": "text/x-python",
   "name": "python",
   "nbconvert_exporter": "python",
   "pygments_lexer": "ipython3",
   "version": "3.7.4"
  }
 },
 "nbformat": 4,
 "nbformat_minor": 2
}
