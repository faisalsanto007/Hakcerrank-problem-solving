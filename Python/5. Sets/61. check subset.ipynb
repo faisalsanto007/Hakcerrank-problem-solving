{
 "cells": [
  {
   "cell_type": "code",
   "execution_count": null,
   "metadata": {},
   "outputs": [],
   "source": [
    "test_cases = int(input())\n",
    "for _ in range(test_cases):\n",
    "    _ = input()\n",
    "    A = {int(x) for x in input().split()}\n",
    "    \n",
    "    _ = input()\n",
    "    B = {int(x) for x in input().split()}\n",
    "    \n",
    "    print(A < B)\n",
    "    # print(A.issubset(B))"
   ]
  }
 ],
 "metadata": {
  "kernelspec": {
   "display_name": "Python 3",
   "language": "python",
   "name": "python3"
  },
  "language_info": {
   "codemirror_mode": {
    "name": "ipython",
    "version": 3
   },
   "file_extension": ".py",
   "mimetype": "text/x-python",
   "name": "python",
   "nbconvert_exporter": "python",
   "pygments_lexer": "ipython3",
   "version": "3.7.4"
  }
 },
 "nbformat": 4,
 "nbformat_minor": 2
}
