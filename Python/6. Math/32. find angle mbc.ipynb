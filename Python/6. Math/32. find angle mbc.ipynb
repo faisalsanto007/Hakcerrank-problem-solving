{
 "cells": [
  {
   "cell_type": "code",
   "execution_count": null,
   "metadata": {},
   "outputs": [],
   "source": [
    "import math\n",
    "\n",
    "AB = int(input())\n",
    "BC = int(input())\n",
    "\n",
    "AC = math.sqrt(AB**2 + BC**2)\n",
    "MBC = round(math.degrees(math.acos(BC/AC)))\n",
    "print(MBC, chr(176), sep='')"
   ]
  },
  {
   "cell_type": "code",
   "execution_count": null,
   "metadata": {},
   "outputs": [],
   "source": [
    "# another way\n",
    "\n",
    "import math\n",
    "\n",
    "ab = float(input())\n",
    "bc = float(input())\n",
    "\n",
    "print(str(int(round(math.degrees(math.atan2(ab, bc))))) + '°')"
   ]
  }
 ],
 "metadata": {
  "kernelspec": {
   "display_name": "Python 3",
   "language": "python",
   "name": "python3"
  },
  "language_info": {
   "codemirror_mode": {
    "name": "ipython",
    "version": 3
   },
   "file_extension": ".py",
   "mimetype": "text/x-python",
   "name": "python",
   "nbconvert_exporter": "python",
   "pygments_lexer": "ipython3",
   "version": "3.7.4"
  }
 },
 "nbformat": 4,
 "nbformat_minor": 2
}
