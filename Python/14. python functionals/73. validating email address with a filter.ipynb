{
 "cells": [
  {
   "cell_type": "markdown",
   "metadata": {},
   "source": [
    "    /                   #start of pattern delimiter\n",
    "    ^                   #match start of string\n",
    "    .+                  #match any non-newline character one or more times (as much as possible)\n",
    "    \\@                  #match @ (the \\ is an escaping character which is not necessary)\n",
    "    (\\[?)               #Capture Group #1: match an opening square bracket zero or one time\n",
    "    [a-zA-Z0-9\\-\\.]+    #match one or more (as much as possible) of the following characters: lowercase letters, uppercase letters, digits, hyphens, and dots (the \\ before the . is an escaping character which is not necessary)\n",
    "    \\.                  #match a literal dot\n",
    "    (                   #start Capture Group #2\n",
    "      [a-zA-Z]{2,4}     #match any uppercase or lowercase letter 2, 3, or 4 times\n",
    "      |                 #or\n",
    "      [0-9]{1,3}        #match any digit 1, 2, or 3 times\n",
    "    )                   #end Capture Group #2\n",
    "    (\\]?)               #Capture Group #3: match a closing square bracket zero or one time\n",
    "    $                   #match the end of the string\n",
    "    /                   #end of pattern delimiter"
   ]
  },
  {
   "cell_type": "code",
   "execution_count": 6,
   "metadata": {},
   "outputs": [
    {
     "name": "stdout",
     "output_type": "stream",
     "text": [
      "1\n",
      "sjnskjand@kajsndkajs\n",
      "[]\n"
     ]
    }
   ],
   "source": [
    "import re\n",
    "\n",
    "def fun(string):\n",
    "    valid = re.match(r'[a-zA-Z0-9_-]+@[a-zA-Z0-9]+\\.[a-zA-Z]{1,3}$', string)\n",
    "    return valid\n",
    "\n",
    "\n",
    "def filter_mail(emails):\n",
    "    return list(filter(fun, emails))\n",
    "\n",
    "if __name__ == '__main__':\n",
    "    n = int(input())\n",
    "    emails = []\n",
    "    for _ in range(n):\n",
    "        emails.append(input())\n",
    "\n",
    "filtered_emails = filter_mail(emails)\n",
    "filtered_emails.sort()\n",
    "\n",
    "print(filtered_emails)\n"
   ]
  }
 ],
 "metadata": {
  "kernelspec": {
   "display_name": "Python 3",
   "language": "python",
   "name": "python3"
  },
  "language_info": {
   "codemirror_mode": {
    "name": "ipython",
    "version": 3
   },
   "file_extension": ".py",
   "mimetype": "text/x-python",
   "name": "python",
   "nbconvert_exporter": "python",
   "pygments_lexer": "ipython3",
   "version": "3.7.4"
  }
 },
 "nbformat": 4,
 "nbformat_minor": 2
}
