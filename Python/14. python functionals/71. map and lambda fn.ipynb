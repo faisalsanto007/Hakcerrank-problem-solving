{
 "cells": [
  {
   "cell_type": "markdown",
   "metadata": {},
   "source": [
    "cube of fibonacci numbers"
   ]
  },
  {
   "cell_type": "code",
   "execution_count": 2,
   "metadata": {},
   "outputs": [
    {
     "name": "stdout",
     "output_type": "stream",
     "text": [
      "5\n",
      "[0, 1, 1, 8, 27]\n"
     ]
    }
   ],
   "source": [
    "cube = lambda x: x ** 3\n",
    "\n",
    "def fibonacci(n):\n",
    "    nums = [0, 1]\n",
    "    for i in range(2, n):\n",
    "        nums.append(nums[i - 1] + nums[i - 2])\n",
    "    return nums[:n]\n",
    "\n",
    "\n",
    "if __name__ == '__main__':\n",
    "    n = int(input())\n",
    "    print(list(map(cube, fibonacci(n))))\n"
   ]
  }
 ],
 "metadata": {
  "kernelspec": {
   "display_name": "Python 3",
   "language": "python",
   "name": "python3"
  },
  "language_info": {
   "codemirror_mode": {
    "name": "ipython",
    "version": 3
   },
   "file_extension": ".py",
   "mimetype": "text/x-python",
   "name": "python",
   "nbconvert_exporter": "python",
   "pygments_lexer": "ipython3",
   "version": "3.7.4"
  }
 },
 "nbformat": 4,
 "nbformat_minor": 2
}
