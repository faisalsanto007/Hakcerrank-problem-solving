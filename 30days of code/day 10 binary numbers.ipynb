{
 "cells": [
  {
   "cell_type": "code",
   "execution_count": null,
   "metadata": {},
   "outputs": [],
   "source": [
    "\"\"\"\n",
    "An alternative solution that makes full use of built-in functions:\n",
    "print(max(len(length) for length in bin(n)[2:].split('0')))\n",
    "The solution below is much more low-level and \"do it yourself\".\n",
    "\"\"\"\n",
    "\n",
    "from collections import deque\n",
    "\n",
    "def to_binary(n):\n",
    "    \"\"\"Convert a decimal number to a binary string.\"\"\"\n",
    "    d = deque()\n",
    "    while n > 0:\n",
    "        d.appendleft(n % 2)\n",
    "        n = n // 2\n",
    "    return ''.join(map(str, d))\n",
    "\n",
    "def count_consecutive(string, target_ch):\n",
    "    \"\"\"Count the max consecutive character occurences in the string.\"\"\"\n",
    "    count = 0\n",
    "    max_count = 0\n",
    "    for ch in string:\n",
    "        if ch == target_ch:\n",
    "            count += 1\n",
    "        elif count > 0:\n",
    "            max_count = max(count, max_count)\n",
    "            count = 0\n",
    "    max_count = max(count, max_count)\n",
    "    return max_count\n",
    "\n",
    "def main():\n",
    "    n = int(input())\n",
    "    print(count_consecutive(to_binary(n), \"1\"))\n",
    "\n",
    "if __name__ == \"__main__\":\n",
    "    main()"
   ]
  }
 ],
 "metadata": {
  "kernelspec": {
   "display_name": "Python 3",
   "language": "python",
   "name": "python3"
  },
  "language_info": {
   "codemirror_mode": {
    "name": "ipython",
    "version": 3
   },
   "file_extension": ".py",
   "mimetype": "text/x-python",
   "name": "python",
   "nbconvert_exporter": "python",
   "pygments_lexer": "ipython3",
   "version": "3.7.4"
  }
 },
 "nbformat": 4,
 "nbformat_minor": 2
}
