{
 "cells": [
  {
   "cell_type": "code",
   "execution_count": null,
   "metadata": {},
   "outputs": [],
   "source": [
    "\"\"\"\n",
    "It would be possible to make this solution less hardcoded by specifying\n",
    "the width/height of an hourglass, or even its entire shape. However, that\n",
    "just doesn't feel like a good use of anyone's time.\n",
    "\"\"\"\n",
    "\n",
    "import sys\n",
    "\n",
    "def hourglass_sum(matrix, r, c):\n",
    "    \"\"\"Find the sum of the hourglass with top-left at matrix[r][c].\"\"\"\n",
    "    return matrix[r + 0][c + 0] + matrix[r + 0][c + 1] + matrix[r + 0][c + 2] \\\n",
    "                                + matrix[r + 1][c + 1] + \\\n",
    "           matrix[r + 2][c + 0] + matrix[r + 2][c + 1] + matrix[r + 2][c + 2]\n",
    "\n",
    "def max_hourglass_sum(matrix):\n",
    "    \"\"\"Find the largest hourglass sum in the entire matrix.\"\"\"\n",
    "    if not matrix or len(matrix) < 3 or len(matrix[0]) < 3:\n",
    "        return None\n",
    "\n",
    "    max_sum = -sys.maxsize - 1\n",
    "    for r in range(0, len(matrix) - 2):\n",
    "        for c in range(0, len(matrix[0]) - 2):\n",
    "            current_sum = hourglass_sum(matrix, r, c)\n",
    "            max_sum = max(current_sum, max_sum)\n",
    "    return max_sum\n",
    "\n",
    "def main():\n",
    "    matrix = []\n",
    "    for _ in range(0, 6):\n",
    "        row = list(map(int, input().split()))\n",
    "        matrix.append(row)\n",
    "    print(max_hourglass_sum(matrix))\n",
    "\n",
    "if __name__ == \"__main__\":\n",
    "    main()"
   ]
  }
 ],
 "metadata": {
  "kernelspec": {
   "display_name": "Python 3",
   "language": "python",
   "name": "python3"
  },
  "language_info": {
   "codemirror_mode": {
    "name": "ipython",
    "version": 3
   },
   "file_extension": ".py",
   "mimetype": "text/x-python",
   "name": "python",
   "nbconvert_exporter": "python",
   "pygments_lexer": "ipython3",
   "version": "3.7.4"
  }
 },
 "nbformat": 4,
 "nbformat_minor": 2
}
