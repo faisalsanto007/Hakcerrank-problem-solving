{
 "cells": [
  {
   "cell_type": "code",
   "execution_count": null,
   "metadata": {},
   "outputs": [],
   "source": [
    "# day 20 challenge is not enabled in python\n",
    "\n",
    "################################################################################\n",
    "#----------------------------- begin locked code ------------------------------#\n",
    "class Node:\n",
    "    def __init__(self,data):\n",
    "        self.right=self.left=None\n",
    "        self.data = data\n",
    "class Solution:\n",
    "    def insert(self,root,data):\n",
    "        if root==None:\n",
    "            return Node(data)\n",
    "        else:\n",
    "            if data<=root.data:\n",
    "                cur=self.insert(root.left,data)\n",
    "                root.left=cur\n",
    "            else:\n",
    "                cur=self.insert(root.right,data)\n",
    "                root.right=cur\n",
    "        return root\n",
    "#------------------------------ end locked code -------------------------------#\n",
    "################################################################################\n",
    "\n",
    "    def getHeight(self, root):\n",
    "        \"\"\"Recursively get the height of the tree (empty tree has height -1).\"\"\"\n",
    "        if not root:\n",
    "            return -1\n",
    "\n",
    "        left_height = self.getHeight(root.left)\n",
    "        right_height = self.getHeight(root.right)\n",
    "        return 1 + max(left_height, right_height)\n",
    "\n",
    "################################################################################\n",
    "#----------------------------- begin locked code ------------------------------#\n",
    "T=int(input())\n",
    "myTree=Solution()\n",
    "root=None\n",
    "for i in range(T):\n",
    "    data=int(input())\n",
    "    root=myTree.insert(root,data)\n",
    "height=myTree.getHeight(root)\n",
    "print(height)\n",
    "#------------------------------ end locked code -------------------------------#\n",
    "################################################################################"
   ]
  }
 ],
 "metadata": {
  "kernelspec": {
   "display_name": "Python 3",
   "language": "python",
   "name": "python3"
  },
  "language_info": {
   "codemirror_mode": {
    "name": "ipython",
    "version": 3
   },
   "file_extension": ".py",
   "mimetype": "text/x-python",
   "name": "python",
   "nbconvert_exporter": "python",
   "pygments_lexer": "ipython3",
   "version": "3.7.4"
  }
 },
 "nbformat": 4,
 "nbformat_minor": 2
}
