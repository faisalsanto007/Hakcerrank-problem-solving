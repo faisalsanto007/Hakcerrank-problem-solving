{
 "cells": [
  {
   "cell_type": "code",
   "execution_count": null,
   "metadata": {},
   "outputs": [],
   "source": [
    "\"\"\"\n",
    "HackerRank doesn't mention it, but Bubble Sort is a O(n^2) sorting algorithm,\n",
    "which is generally pretty bad.\n",
    "\"\"\"\n",
    "\n",
    "n = int(input())\n",
    "a = list(map(int, input().strip().split(' ')))\n",
    "\n",
    "total_swaps = 0\n",
    "for _ in range(n):\n",
    "    swaps = 0\n",
    "    for i in range(n - 1):\n",
    "        if a[i] > a[i+1]:\n",
    "            a[i], a[i+1] = a[i+1], a[i]\n",
    "            swaps += 1\n",
    "    if swaps:\n",
    "        total_swaps += swaps\n",
    "    else:\n",
    "        break\n",
    "\n",
    "print(\"Array is sorted in {} swaps.\".format(total_swaps))\n",
    "print(\"First Element: {}\".format(a[0]))\n",
    "print(\"Last Element: {}\".format(a[-1]))"
   ]
  }
 ],
 "metadata": {
  "kernelspec": {
   "display_name": "Python 3",
   "language": "python",
   "name": "python3"
  },
  "language_info": {
   "codemirror_mode": {
    "name": "ipython",
    "version": 3
   },
   "file_extension": ".py",
   "mimetype": "text/x-python",
   "name": "python",
   "nbconvert_exporter": "python",
   "pygments_lexer": "ipython3",
   "version": "3.7.4"
  }
 },
 "nbformat": 4,
 "nbformat_minor": 2
}
