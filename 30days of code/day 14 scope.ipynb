{
 "cells": [
  {
   "cell_type": "code",
   "execution_count": null,
   "metadata": {},
   "outputs": [],
   "source": [
    "################################################################################\n",
    "#----------------------------- begin locked code ------------------------------#\n",
    "class Difference:\n",
    "    def __init__(self, a):\n",
    "        self.__elements = a\n",
    "#------------------------------ end locked code -------------------------------#\n",
    "################################################################################\n",
    "\n",
    "    def computeDifference(self):\n",
    "        \n",
    "        max_element = max(self.__elements)\n",
    "        min_element = min(self.__elements)\n",
    "        self.maximumDifference = abs(max_element - min_element)\n",
    "\n",
    "################################################################################\n",
    "#----------------------------- begin locked code ------------------------------#\n",
    "# End of Difference class\n",
    "\n",
    "_ = input()\n",
    "a = [int(e) for e in input().split(' ')]\n",
    "\n",
    "d = Difference(a)\n",
    "d.computeDifference()\n",
    "\n",
    "print(d.maximumDifference)\n",
    "#------------------------------ end locked code -------------------------------#\n",
    "################################################################################"
   ]
  }
 ],
 "metadata": {
  "kernelspec": {
   "display_name": "Python 3",
   "language": "python",
   "name": "python3"
  },
  "language_info": {
   "codemirror_mode": {
    "name": "ipython",
    "version": 3
   },
   "file_extension": ".py",
   "mimetype": "text/x-python",
   "name": "python",
   "nbconvert_exporter": "python",
   "pygments_lexer": "ipython3",
   "version": "3.7.4"
  }
 },
 "nbformat": 4,
 "nbformat_minor": 2
}
