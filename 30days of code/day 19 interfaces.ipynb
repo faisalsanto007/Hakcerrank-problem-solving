{
 "cells": [
  {
   "cell_type": "code",
   "execution_count": null,
   "metadata": {},
   "outputs": [],
   "source": [
    "\"\"\"\n",
    "This solution is O(n^1/2) time; for each divisor d less than the square root\n",
    "of n, we know the corresponding divisor greater than the root is (n / d).\n",
    "Care must be taken for the special case where the square root divides n.\n",
    "The O(n) solution is very similar and somewhat cleaner.\n",
    "\"\"\"\n",
    "\n",
    "################################################################################\n",
    "#----------------------------- begin locked code ------------------------------#\n",
    "class AdvancedArithmetic(object):\n",
    "    def divisorSum(n):\n",
    "        raise NotImplementedError\n",
    "#------------------------------ end locked code -------------------------------#\n",
    "################################################################################\n",
    "\n",
    "from math import sqrt \n",
    "\n",
    "class Calculator(AdvancedArithmetic):\n",
    "\n",
    "    @staticmethod\n",
    "    def divisorSum(n):\n",
    "        \"\"\"Return the sum of all divisors of n.\"\"\"\n",
    "        sqrt_n = int(sqrt(n))\n",
    "\n",
    "        # Make a list of tuples of divisors of n.\n",
    "        divisors = [(d, n//d) for d in range(1, sqrt_n + 1) if n % d == 0]\n",
    "\n",
    "        # Flatten the list and sum it.\n",
    "        divisors = [d for pair in divisors for d in pair]\n",
    "        divisor_sum = sum(divisors)\n",
    "\n",
    "        # May have counted the square root twice, if it divides n.\n",
    "        if sqrt_n ** 2 == n:\n",
    "            divisor_sum -= sqrt_n\n",
    "        return divisor_sum\n",
    "\n",
    "\n",
    "################################################################################\n",
    "#----------------------------- begin locked code ------------------------------#\n",
    "\n",
    "n = int(input())\n",
    "my_calculator = Calculator()\n",
    "s = my_calculator.divisorSum(n)\n",
    "print(\"I implemented: \" + type(my_calculator).__bases__[0].__name__)\n",
    "print(s)\n",
    "#------------------------------ end locked code -------------------------------#\n",
    "################################################################################"
   ]
  }
 ],
 "metadata": {
  "kernelspec": {
   "display_name": "Python 3",
   "language": "python",
   "name": "python3"
  },
  "language_info": {
   "codemirror_mode": {
    "name": "ipython",
    "version": 3
   },
   "file_extension": ".py",
   "mimetype": "text/x-python",
   "name": "python",
   "nbconvert_exporter": "python",
   "pygments_lexer": "ipython3",
   "version": "3.7.4"
  }
 },
 "nbformat": 4,
 "nbformat_minor": 2
}
