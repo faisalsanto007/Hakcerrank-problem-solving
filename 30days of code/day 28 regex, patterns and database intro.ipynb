{
 "cells": [
  {
   "cell_type": "code",
   "execution_count": null,
   "metadata": {},
   "outputs": [],
   "source": [
    "import re\n",
    "\n",
    "PATTERN = re.compile(r\"@gmail\\.com$\")\n",
    "\n",
    "gmail_users = []\n",
    "num_rows = int(input())\n",
    "for _ in range(num_rows):\n",
    "    name, email = input().split()\n",
    "    if PATTERN.search(email):\n",
    "        gmail_users.append(name)\n",
    "\n",
    "for name in sorted(gmail_users):\n",
    "    print(name)"
   ]
  }
 ],
 "metadata": {
  "kernelspec": {
   "display_name": "Python 3",
   "language": "python",
   "name": "python3"
  },
  "language_info": {
   "codemirror_mode": {
    "name": "ipython",
    "version": 3
   },
   "file_extension": ".py",
   "mimetype": "text/x-python",
   "name": "python",
   "nbconvert_exporter": "python",
   "pygments_lexer": "ipython3",
   "version": "3.7.4"
  }
 },
 "nbformat": 4,
 "nbformat_minor": 2
}
