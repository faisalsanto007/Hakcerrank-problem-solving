{
 "cells": [
  {
   "cell_type": "code",
   "execution_count": null,
   "metadata": {},
   "outputs": [],
   "source": [
    "\"\"\"\n",
    "There are cleaner ways to get the expected results, but this is a tutorial\n",
    "based on nested logic, so I used nested logic in the most readable way I could.\n",
    "Note that the fine policy defined in this problem is pretty silly; for example,\n",
    "\"a year early\" and \"a year late\" are determined by comparing JUST the year\n",
    "values, such that 12/31/2017 and 1/1/2018 are \"a year apart\".\n",
    "\"\"\"\n",
    "\n",
    "def compute_fine(\n",
    "        act_d, act_m, act_y,\n",
    "        exp_d, exp_m, exp_y):\n",
    "    \"\"\"Return the fine amount, based on the actual and expected return dates.\"\"\"\n",
    "    fine = 0\n",
    "    if act_y == exp_y:\n",
    "        if act_m == exp_m and act_d > exp_d:\n",
    "            # Returned in expected year and month, at least a day late\n",
    "            fine = 15 * (act_d - exp_d)\n",
    "        elif act_m > exp_m:\n",
    "            # Returned in expected year, at least a month late\n",
    "            fine = 500 * (act_m - exp_m)\n",
    "    elif act_y > exp_y:\n",
    "        # Returned at least a year late\n",
    "        fine = 10000\n",
    "    return fine\n",
    "\n",
    "def main():\n",
    "    act_d, act_m, act_y = [int(x) for x in input().split(' ')] # Actual date\n",
    "    exp_d, exp_m, exp_y = [int(x) for x in input().split(' ')] # Expected date\n",
    "\n",
    "    print(compute_fine(act_d, act_m, act_y,\n",
    "                       exp_d, exp_m, exp_y))\n",
    "\n",
    "if __name__ == \"__main__\":\n",
    "    main()"
   ]
  }
 ],
 "metadata": {
  "kernelspec": {
   "display_name": "Python 3",
   "language": "python",
   "name": "python3"
  },
  "language_info": {
   "codemirror_mode": {
    "name": "ipython",
    "version": 3
   },
   "file_extension": ".py",
   "mimetype": "text/x-python",
   "name": "python",
   "nbconvert_exporter": "python",
   "pygments_lexer": "ipython3",
   "version": "3.7.4"
  }
 },
 "nbformat": 4,
 "nbformat_minor": 2
}
