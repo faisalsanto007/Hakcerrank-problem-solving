{
 "cells": [
  {
   "cell_type": "markdown",
   "metadata": {},
   "source": [
    "Jim enters a candy shop which has N different types of candies, each candy is of the same price. Jim has enough money to buy K candies. In how many different ways can he purchase K candies if there are infinite candies of each kind?"
   ]
  },
  {
   "cell_type": "code",
   "execution_count": null,
   "metadata": {},
   "outputs": [],
   "source": [
    "def fact(x,y=0):\n",
    "    p = 1\n",
    "    for i in range(y+1,x+1):\n",
    "        p*=i\n",
    "    return p\n",
    "\n",
    "for _ in range(int(input())):\n",
    "    n = int(input())\n",
    "    k = int(input())\n",
    "    print((fact(k+n-1,n-1)//fact(k))%10**9)"
   ]
  },
  {
   "cell_type": "markdown",
   "metadata": {},
   "source": [
    "**Sample Input**\n",
    "\n",
    "    2\n",
    "    4\n",
    "    1\n",
    "    2\n",
    "    3\n",
    "\n",
    "**Sample Output**\n",
    "\n",
    "    4\n",
    "    4\n",
    "\n",
    "**Explanation**\n",
    "\n",
    "There are 2 testcases, for the first testcase we have N = 4 and K = 1, as Jim can buy only 1 candy, he can choose to buy any of the 4 types of candies available. Hence, his answer is 4. For the 2nd testcase, we have N = 2 and K = 3, If we name two chocolates as a and b, he can buy\n",
    "\n",
    "    aaa bbb aab abb \n",
    "\n",
    "chocolates, hence 4."
   ]
  },
  {
   "cell_type": "code",
   "execution_count": null,
   "metadata": {},
   "outputs": [],
   "source": []
  }
 ],
 "metadata": {
  "kernelspec": {
   "display_name": "Python 3",
   "language": "python",
   "name": "python3"
  },
  "language_info": {
   "codemirror_mode": {
    "name": "ipython",
    "version": 3
   },
   "file_extension": ".py",
   "mimetype": "text/x-python",
   "name": "python",
   "nbconvert_exporter": "python",
   "pygments_lexer": "ipython3",
   "version": "3.7.4"
  }
 },
 "nbformat": 4,
 "nbformat_minor": 2
}
