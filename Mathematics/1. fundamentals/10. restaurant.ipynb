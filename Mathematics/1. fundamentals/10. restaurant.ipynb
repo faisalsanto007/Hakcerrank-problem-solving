{
 "cells": [
  {
   "cell_type": "code",
   "execution_count": null,
   "metadata": {},
   "outputs": [],
   "source": [
    "import os\n",
    "import sys\n",
    "import math\n",
    "\n",
    "\n",
    "def restaurant(l, b):\n",
    "    \n",
    "    A = l*b\n",
    "    for x in range(1,A):\n",
    "        if (x == math.sqrt(A)):\n",
    "            return (1)\n",
    "    if (l==b):\n",
    "        return (1)\n",
    "    else:\n",
    "        m = max(l,b)\n",
    "        n = min(l,b)\n",
    "        while(n!=0):\n",
    "            m,n=n,m%n\n",
    "        gcd = m\n",
    "        a = l//gcd\n",
    "        b = b//gcd\n",
    "        return (a*b)\n",
    "            \n",
    "    \n",
    "\n",
    "if __name__ == '__main__':\n",
    "    \n",
    "    fptr = open(os.environ['OUTPUT_PATH'], 'w')\n",
    "\n",
    "    t = int(input())\n",
    "\n",
    "    for t_itr in range(t):\n",
    "        lb = input().split()\n",
    "\n",
    "        l = int(lb[0])\n",
    "\n",
    "        b = int(lb[1])\n",
    "\n",
    "        result = restaurant(l, b)\n",
    "\n",
    "        fptr.write(str(result) + '\\n')\n",
    "        \n",
    "        print (result)\n",
    "\n",
    "    fptr.close()"
   ]
  },
  {
   "cell_type": "markdown",
   "metadata": {},
   "source": [
    "**Sample Input**\n",
    "\n",
    "2\n",
    "2 2\n",
    "6 9\n",
    "\n",
    "**Sample Output**\n",
    "\n",
    "1\n",
    "6\n",
    "\n",
    "**Explanation**\n",
    "\n",
    "    The 1st testcase has a bread whose original dimensions are 2 * 2, the bread is uncut and is a square. Hence the answer is 1.\n",
    "    The 2nd testcase has a bread of size 6 * 9. We can cut it into 54 squares of size 1 * 1, 6 of size 3 * 3. For other sizes we will have leftovers. Hence, the number of squares of maximum size that can be cut is 6."
   ]
  },
  {
   "cell_type": "code",
   "execution_count": null,
   "metadata": {},
   "outputs": [],
   "source": []
  }
 ],
 "metadata": {
  "kernelspec": {
   "display_name": "Python 3",
   "language": "python",
   "name": "python3"
  },
  "language_info": {
   "codemirror_mode": {
    "name": "ipython",
    "version": 3
   },
   "file_extension": ".py",
   "mimetype": "text/x-python",
   "name": "python",
   "nbconvert_exporter": "python",
   "pygments_lexer": "ipython3",
   "version": "3.7.4"
  }
 },
 "nbformat": 4,
 "nbformat_minor": 2
}
