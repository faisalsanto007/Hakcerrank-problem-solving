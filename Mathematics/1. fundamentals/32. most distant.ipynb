{
 "cells": [
  {
   "cell_type": "markdown",
   "metadata": {},
   "source": [
    "Keko has N dots in a 2-D coordinate plane. He wants to measure the gap between the most distant two dots. To make the problem easier, Keko decided to change each dot's x or y coordinate to zero.\n",
    "\n",
    "Help Keko calculate the distance!"
   ]
  },
  {
   "cell_type": "code",
   "execution_count": null,
   "metadata": {},
   "outputs": [],
   "source": [
    "n = int(input())\n",
    "x, y = map(float, input().split())\n",
    "\n",
    "x0, y0, x1, y1 = x, y, x, y\n",
    "\n",
    "for _ in range(1, n):\n",
    "    x, y = map(int, input().split())\n",
    "    x0 = min(x0, x)\n",
    "    x1 = max(x1, x)\n",
    "    y0 = min(y0, y)\n",
    "    y1 = max(y1, y)\n",
    "\n",
    "print(\"{:6f}\".format(max(x1 - x0,\n",
    "                         y1 - y0,\n",
    "                         (x0 ** 2 + y1 ** 2) ** 0.5,\n",
    "                         (x0 ** 2 + y0 ** 2) ** 0.5,\n",
    "                         (x1 ** 2 + y1 ** 2) ** 0.5,\n",
    "                         (x1 ** 2 + y0 ** 2) ** 0.5)))"
   ]
  },
  {
   "cell_type": "markdown",
   "metadata": {},
   "source": [
    "**Sample Input**\n",
    "\n",
    "    4\n",
    "    -1 0\n",
    "    1 0\n",
    "    0 1\n",
    "    0 -1\n",
    "\n",
    "**Sample Output**\n",
    "\n",
    "    2.000000\n",
    "\n",
    "**Explanation**\n",
    "\n",
    "    In the sample, the most distant dots are located at (-1,0) and (1,0).\n",
    "    The distance between them is 2."
   ]
  },
  {
   "cell_type": "code",
   "execution_count": null,
   "metadata": {},
   "outputs": [],
   "source": []
  }
 ],
 "metadata": {
  "kernelspec": {
   "display_name": "Python 3",
   "language": "python",
   "name": "python3"
  },
  "language_info": {
   "codemirror_mode": {
    "name": "ipython",
    "version": 3
   },
   "file_extension": ".py",
   "mimetype": "text/x-python",
   "name": "python",
   "nbconvert_exporter": "python",
   "pygments_lexer": "ipython3",
   "version": "3.7.4"
  }
 },
 "nbformat": 4,
 "nbformat_minor": 2
}
