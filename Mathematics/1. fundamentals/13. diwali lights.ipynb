{
 "cells": [
  {
   "cell_type": "markdown",
   "metadata": {},
   "source": [
    "On the eve of Diwali, Hari is decorating his house with a serial light bulb set. The serial light bulb set has N bulbs placed sequentially on a string which is programmed to change patterns every second. If at least one bulb in the set is on at any given instant of time, how many different patterns of light can the serial light bulb set produce?\n",
    "\n",
    "Note: Lighting two bulbs * - * is different from * *-"
   ]
  },
  {
   "cell_type": "code",
   "execution_count": null,
   "metadata": {},
   "outputs": [],
   "source": [
    "import os\n",
    "import sys\n",
    "\n",
    "\n",
    "def lights(n):\n",
    "    \n",
    "    return(((2**n)-1)%100000)\n",
    "\n",
    "\n",
    "if __name__ == '__main__':\n",
    "    fptr = open(os.environ['OUTPUT_PATH'], 'w')\n",
    "    \n",
    "    t = int(input())\n",
    "    \n",
    "    for t_itr in range(t):\n",
    "        \n",
    "        n = int(input())\n",
    "        result = lights(n)\n",
    "        \n",
    "        fptr.write(str(result) + '\\n')\n",
    "        \n",
    "    fptr.close()"
   ]
  },
  {
   "cell_type": "markdown",
   "metadata": {},
   "source": [
    "**Sample Input**\n",
    "\n",
    "2\n",
    "1\n",
    "2\n",
    "\n",
    "**Sample Output**\n",
    "\n",
    "1\n",
    "3\n",
    "\n",
    "**Explanation**\n",
    "\n",
    "    Case 1: 1 bulb can be lit in only 1 way.\n",
    "    Case 2: 2 bulbs can be lit in -*, *-, ** i.e. 3 ways."
   ]
  },
  {
   "cell_type": "code",
   "execution_count": null,
   "metadata": {},
   "outputs": [],
   "source": []
  }
 ],
 "metadata": {
  "kernelspec": {
   "display_name": "Python 3",
   "language": "python",
   "name": "python3"
  },
  "language_info": {
   "codemirror_mode": {
    "name": "ipython",
    "version": 3
   },
   "file_extension": ".py",
   "mimetype": "text/x-python",
   "name": "python",
   "nbconvert_exporter": "python",
   "pygments_lexer": "ipython3",
   "version": "3.7.4"
  }
 },
 "nbformat": 4,
 "nbformat_minor": 2
}
