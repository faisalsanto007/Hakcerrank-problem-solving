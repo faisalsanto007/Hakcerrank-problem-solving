{
 "cells": [
  {
   "cell_type": "markdown",
   "metadata": {},
   "source": [
    "Watson asks Sherlock:\n",
    "\n",
    "Given a string S of N 0's and M 1's, how many unique permutations of this string start with 1?\n",
    "\n",
    "Help Sherlock by printing the answer modulo (10^9+7)."
   ]
  },
  {
   "cell_type": "code",
   "execution_count": null,
   "metadata": {},
   "outputs": [],
   "source": [
    "import os\n",
    "import sys\n",
    "import math\n",
    "\n",
    "def factorial(n):\n",
    "    if(n==0):\n",
    "        return (1)\n",
    "    else:\n",
    "        return (n*factorial(n-1))\n",
    "\n",
    "\n",
    "def solve(n, m):\n",
    "    #x = m+n-1\n",
    "    #y = factorial(x)\n",
    "    #z = factorial(m-1)\n",
    "    #w = factorial(n)\n",
    "    #return ((y//(z*w))%(10**9 + 7))\n",
    "    return ((math.factorial(m+n-1)//(math.factorial(n)*math.factorial(m-1)))%1000000007)\n",
    "    \n",
    "\n",
    "if __name__ == '__main__':\n",
    "    fptr = open(os.environ['OUTPUT_PATH'], 'w')\n",
    "\n",
    "    t = int(input())\n",
    "\n",
    "    for t_itr in range(t):\n",
    "        nm = input().split()\n",
    "\n",
    "        n = int(nm[0])\n",
    "\n",
    "        m = int(nm[1])\n",
    "\n",
    "        result = solve(n, m)\n",
    "\n",
    "        fptr.write(str(result) + '\\n')\n",
    "\n",
    "    fptr.close()"
   ]
  },
  {
   "cell_type": "markdown",
   "metadata": {},
   "source": [
    "**Sample Input**\n",
    "\n",
    "2\n",
    "1 1\n",
    "2 3\n",
    "\n",
    "**Sample Output**\n",
    "\n",
    "1\n",
    "6\n",
    "\n",
    "**Explanation**\n",
    "\n",
    "    Test1: Out of all unique permutations ie. 01 and 10, only second permutation satisfies. Hence, output is 1.\n",
    "    Test2: Out of all unique permutations ie. 00111 01011 01101 01110 10011 10101 10110 11001 11010 11100, only 10011 10101 10110 11001 11010 11100 satisfy. Hence, output is 6."
   ]
  },
  {
   "cell_type": "code",
   "execution_count": null,
   "metadata": {},
   "outputs": [],
   "source": []
  }
 ],
 "metadata": {
  "kernelspec": {
   "display_name": "Python 3",
   "language": "python",
   "name": "python3"
  },
  "language_info": {
   "codemirror_mode": {
    "name": "ipython",
    "version": 3
   },
   "file_extension": ".py",
   "mimetype": "text/x-python",
   "name": "python",
   "nbconvert_exporter": "python",
   "pygments_lexer": "ipython3",
   "version": "3.7.4"
  }
 },
 "nbformat": 4,
 "nbformat_minor": 2
}
