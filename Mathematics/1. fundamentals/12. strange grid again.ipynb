{
 "cells": [
  {
   "cell_type": "markdown",
   "metadata": {},
   "source": [
    "A strange grid has been recovered from an old book. It has 5 columns and infinite number of rows. The bottom row is considered as the first row. First few rows of the grid are like this:\n",
    "\n",
    "..............\n",
    "\n",
    "..............\n",
    "\n",
    "20 22 24 26 28\n",
    "\n",
    "11 13 15 17 19\n",
    "\n",
    "10 12 14 16 18\n",
    "\n",
    " 1  3  5  7  9\n",
    "\n",
    " 0  2  4  6  8\n",
    "The grid grows upwards forever!\n",
    "\n",
    "Your task is to find the integer in 'c' column in 'r' row of the grid."
   ]
  },
  {
   "cell_type": "code",
   "execution_count": null,
   "metadata": {},
   "outputs": [],
   "source": [
    "import os\n",
    "import sys\n",
    "\n",
    "\n",
    "def strangeGrid(r, c):\n",
    "\n",
    "    if (r%2 != 0):\n",
    "        first_term=10*(r-1-(r//2))\n",
    "        return(first_term + (c-1)*2)\n",
    "    else:\n",
    "        first_term = 1+((r//2)-1)*10\n",
    "        return (first_term + (c-1)*2)\n",
    "    \n",
    "\n",
    "if __name__ == '__main__':\n",
    "    fptr = open(os.environ['OUTPUT_PATH'], 'w')\n",
    "\n",
    "    rc = input().split()\n",
    "\n",
    "    r = int(rc[0])\n",
    "\n",
    "    c = int(rc[1])\n",
    "\n",
    "    result = strangeGrid(r, c)\n",
    "\n",
    "    fptr.write(str(result) + '\\n')\n",
    "\n",
    "    fptr.close()"
   ]
  },
  {
   "cell_type": "markdown",
   "metadata": {},
   "source": [
    "**Sample Input**\n",
    "\n",
    "6 3\n",
    "\n",
    "**Sample Output**\n",
    "\n",
    "25\n",
    "\n",
    "**Explanation**\n",
    "\n",
    "The number in the 6th row and 3rd column is 25."
   ]
  },
  {
   "cell_type": "code",
   "execution_count": null,
   "metadata": {},
   "outputs": [],
   "source": []
  }
 ],
 "metadata": {
  "kernelspec": {
   "display_name": "Python 3",
   "language": "python",
   "name": "python3"
  },
  "language_info": {
   "codemirror_mode": {
    "name": "ipython",
    "version": 3
   },
   "file_extension": ".py",
   "mimetype": "text/x-python",
   "name": "python",
   "nbconvert_exporter": "python",
   "pygments_lexer": "ipython3",
   "version": "3.7.4"
  }
 },
 "nbformat": 4,
 "nbformat_minor": 2
}
