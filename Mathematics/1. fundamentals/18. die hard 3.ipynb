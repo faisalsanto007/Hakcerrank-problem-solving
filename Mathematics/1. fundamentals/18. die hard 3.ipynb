{
 "cells": [
  {
   "cell_type": "markdown",
   "metadata": {},
   "source": [
    "Simon: On the fountain, there should be 2 jugs - a 5 gallon and a 3 gallon. Do you see them? Fill one of the jugs with exactly 4 gallons of water and place it on the scale and the timer will stop. You must be precise; one ounce more or less will result in detonation. If you’re still alive in 5 minutes, we’ll speak.\n",
    "\n",
    "Bruce: Wait, wait a second. I don’t get it. Do you get it?\n",
    "\n",
    "Samuel: No.\n",
    "\n",
    "Bruce: Get the jugs. Obviously, we can’t ﬁll the 3 gallon jug with 4 gallons of water.\n",
    "\n",
    "Samuel: Obviously.\n",
    "\n",
    "Bruce: All right. I know, here we go. We ﬁll the 3 gallon jug exactly to the top, right?\n",
    "\n",
    "Samuel: Uh huh.\n",
    "\n",
    "Bruce: Okay, now we pour this 3 gallons into the 5 gallon jug, giving us exactly 3 gallons in the 5 gallon jug, right?\n",
    "\n",
    "Samuel: Right, then what?\n",
    "\n",
    "Bruce: We take the 3 gallon jug and ﬁll it a third of the way...\n",
    "\n",
    "Samuel: No! He said, “Be precise.” Exactly 4 gallons.\n",
    "\n",
    "Bruce: Damn! Every cop within 50 miles is running his ass off and I’m out here playing a kids' games in the park.\n",
    "\n",
    "Samuel: Hey, you want to focus on the problem at hand?\n",
    "\n",
    "Given 2 jugs of capacity a and b gallons, and an infinite supply of water, can you fill one of the jugs with exactly c gallons of water ?"
   ]
  },
  {
   "cell_type": "code",
   "execution_count": 1,
   "metadata": {},
   "outputs": [
    {
     "name": "stdout",
     "output_type": "stream",
     "text": [
      "2\n",
      "5 3 4\n",
      "Yes\n",
      "3 6 4\n",
      "No\n"
     ]
    }
   ],
   "source": [
    "def solve(a, b, c):\n",
    "    A=a\n",
    "    x=0\n",
    "    \n",
    "    while True:\n",
    "        x = a-(b-x)\n",
    "        \n",
    "        if x == A:\n",
    "            return \"No\"\n",
    "        \n",
    "        if x == c:\n",
    "            return \"Yes\"\n",
    "        \n",
    "        while (x>b):\n",
    "            x = x-b\n",
    "            \n",
    "            if x == c:\n",
    "                return \"Yes\"\n",
    "            \n",
    "for i in range(int(input())):\n",
    "    a, b, c = map(int, input(\"\").split())\n",
    "    \n",
    "    x = [a,b]\n",
    "    x.sort()\n",
    "    b,a = x\n",
    "    \n",
    "    print(solve(a,b,c))"
   ]
  },
  {
   "cell_type": "markdown",
   "metadata": {},
   "source": [
    "**Sample Input**\n",
    "\n",
    "    2\n",
    "    5 3 4\n",
    "    3 6 4\n",
    "    \n",
    "**Sample Output**\n",
    "\n",
    "    YES\n",
    "    NO\n",
    "\n",
    "**Explanation**\n",
    "\n",
    "Bruce can do the following, fill jug a with 5 gallons.\n",
    "\n",
    "    a = 5, b = 0\n",
    "\n",
    "Now, he can fill jug b with 3 gallons from jug a.\n",
    "\n",
    "    a = 2, b = 3\n",
    "\n",
    "He can empty jug b and empty 2 gallons from jug a to jug b.\n",
    "\n",
    "    a = 0, b = 2\n",
    "\n",
    "Now, he can fill jug a with 5 gallons and fill jug b with 1 gallon from jug a. This results in jug a containing exactly 4 gallons of water.\n",
    "\n",
    "    a = 5, b = 2\n",
    "    a = 4, b = 3\n",
    "\n",
    "In the second testcase, it is impossible to generate 4 gallons of water, hence NO."
   ]
  },
  {
   "cell_type": "code",
   "execution_count": null,
   "metadata": {},
   "outputs": [],
   "source": []
  }
 ],
 "metadata": {
  "kernelspec": {
   "display_name": "Python 3",
   "language": "python",
   "name": "python3"
  },
  "language_info": {
   "codemirror_mode": {
    "name": "ipython",
    "version": 3
   },
   "file_extension": ".py",
   "mimetype": "text/x-python",
   "name": "python",
   "nbconvert_exporter": "python",
   "pygments_lexer": "ipython3",
   "version": "3.7.4"
  }
 },
 "nbformat": 4,
 "nbformat_minor": 2
}
