{
 "cells": [
  {
   "cell_type": "markdown",
   "metadata": {},
   "source": [
    "A word from the English dictionary is taken and arranged as a matrix. e.g. \"MATHEMATICS\"\n",
    "\n",
    "    MATHE  \n",
    "    ATHEM  \n",
    "    THEMA  \n",
    "    HEMAT  \n",
    "    EMATI  \n",
    "    MATIC  \n",
    "    ATICS \n",
    "    \n",
    "There are many ways to trace this matrix in a way that helps you construct this word. You start tracing the matrix from the top-left position and at each iteration, you either move RIGHT or DOWN, and ultimately reach the bottom-right of the matrix. It is assured that any such tracing generates the same word. How many such tracings can be possible for a given word of length m+n-1 written as a matrix of size m * n?"
   ]
  },
  {
   "cell_type": "code",
   "execution_count": null,
   "metadata": {},
   "outputs": [],
   "source": [
    "MOD = 1000000007\n",
    "\n",
    "def fact(n):\n",
    "    f = 1\n",
    "    for i in range(2, n + 1):\n",
    "        f = (f * i) % MOD\n",
    "    return f\n",
    "\n",
    "def pow(a, b):\n",
    "    a %= MOD\n",
    "    \n",
    "    # exponentiation rapide\n",
    "    p = 1\n",
    "    \n",
    "    while b > 0:\n",
    "        if b % 2 == 1:\n",
    "            p = (p * a) % MOD\n",
    "        a = (a * a) % MOD\n",
    "        b //= 2\n",
    "    return p\n",
    "\n",
    "for _ in range(int(input())):\n",
    "    m, n = map(int, input().split())\n",
    "\n",
    "    r = fact(n + m - 2) * pow(fact(n - 1) * fact(m - 1), MOD - 2)\n",
    "\n",
    "    print(r % MOD)"
   ]
  },
  {
   "cell_type": "markdown",
   "metadata": {},
   "source": [
    "**Sample Input**\n",
    "\n",
    "    1\n",
    "    2 3\n",
    "\n",
    "**Sample Output**\n",
    "\n",
    "    3\n",
    "\n",
    "**Explanation**\n",
    "\n",
    "Let's consider a word AWAY written as the matrix\n",
    "\n",
    "    AWA\n",
    "    WAY\n",
    "\n",
    "Here, the word AWAY can be traced in 3 different ways, traversing either RIGHT or DOWN.\n",
    "\n",
    "    AWA\n",
    "      Y\n",
    "\n",
    "    AW\n",
    "     AY\n",
    "\n",
    "    A\n",
    "    WAY\n",
    "\n",
    "Hence the answer is 3."
   ]
  },
  {
   "cell_type": "code",
   "execution_count": null,
   "metadata": {},
   "outputs": [],
   "source": []
  }
 ],
 "metadata": {
  "kernelspec": {
   "display_name": "Python 3",
   "language": "python",
   "name": "python3"
  },
  "language_info": {
   "codemirror_mode": {
    "name": "ipython",
    "version": 3
   },
   "file_extension": ".py",
   "mimetype": "text/x-python",
   "name": "python",
   "nbconvert_exporter": "python",
   "pygments_lexer": "ipython3",
   "version": "3.7.4"
  }
 },
 "nbformat": 4,
 "nbformat_minor": 2
}
