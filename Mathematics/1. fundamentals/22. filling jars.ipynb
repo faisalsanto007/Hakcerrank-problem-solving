{
 "cells": [
  {
   "cell_type": "markdown",
   "metadata": {},
   "source": [
    "Animesh has N empty candy jars, numbered from 1 to N, with infinite capacity. He performs M operations. Each operation is described by 3 integers, a, b, and k. Here, a and b are indices of the jars, and k is the number of candies to be added inside each jar whose index lies between a and b (both inclusive). Can you tell the average number of candies after  operations?"
   ]
  },
  {
   "cell_type": "code",
   "execution_count": null,
   "metadata": {},
   "outputs": [],
   "source": [
    "M,N = list(map(int,input().split()))\n",
    "\n",
    "sum = 0\n",
    "for _ in range(N):\n",
    "    a,b,k = list(map(int,input().split()))\n",
    "    sum += (b-a+1)*k\n",
    "print(sum//M)"
   ]
  },
  {
   "cell_type": "markdown",
   "metadata": {},
   "source": [
    "**Sample Input**\n",
    "\n",
    "    5 3\n",
    "    1 2 100\n",
    "    2 5 100\n",
    "    3 4 100\n",
    "\n",
    "**Sample Output**\n",
    "\n",
    "    160\n",
    "\n",
    "**Explanation**\n",
    "\n",
    "Initially each of the jars contains 0 candies\n",
    "\n",
    "    0 0 0 0 0  \n",
    "\n",
    "First operation:\n",
    "\n",
    "    100 100 0 0 0  \n",
    "\n",
    "Second operation:\n",
    "\n",
    "    100 200 100 100 100  \n",
    "\n",
    "Third operation:\n",
    "\n",
    "    100 200 200 200 100  \n",
    "\n",
    "Total = 800, Average = 800/5 = 160"
   ]
  },
  {
   "cell_type": "code",
   "execution_count": null,
   "metadata": {},
   "outputs": [],
   "source": []
  }
 ],
 "metadata": {
  "kernelspec": {
   "display_name": "Python 3",
   "language": "python",
   "name": "python3"
  },
  "language_info": {
   "codemirror_mode": {
    "name": "ipython",
    "version": 3
   },
   "file_extension": ".py",
   "mimetype": "text/x-python",
   "name": "python",
   "nbconvert_exporter": "python",
   "pygments_lexer": "ipython3",
   "version": "3.7.4"
  }
 },
 "nbformat": 4,
 "nbformat_minor": 2
}
