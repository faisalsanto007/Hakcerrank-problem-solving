{
 "cells": [
  {
   "cell_type": "markdown",
   "metadata": {},
   "source": [
    "Adam is standing at point (a,b) in an infinite 2D grid. He wants to know if he can reach point (x,y) or not. The only operation he can do is to move to point (a+b,b), (a,a+b), (a-b,b) or (a,b-a) from some point (a,b). It is given that he can move to any point on this 2D grid, i.e., the points having positive or negative X (or Y) co-ordinates.\n",
    "\n",
    "Tell Adam whether he can reach (x,y) or not."
   ]
  },
  {
   "cell_type": "code",
   "execution_count": null,
   "metadata": {},
   "outputs": [],
   "source": [
    "# Help Adam in reaching at a particular point.\n",
    "\n",
    "from math import gcd\n",
    "\n",
    "for _ in range(int(input())):\n",
    "    a, b, x, y = map(int, input().split())\n",
    "\n",
    "    print([\"NO\", \"YES\"][gcd(a, b) == gcd(x, y)])"
   ]
  },
  {
   "cell_type": "markdown",
   "metadata": {},
   "source": [
    "**Sample Input**\n",
    "\n",
    "    3\n",
    "    1 1 2 3\n",
    "    2 1 2 3\n",
    "    3 3 1 1\n",
    "\n",
    "**Sample Output**\n",
    "\n",
    "    YES\n",
    "    YES\n",
    "    NO\n",
    "\n",
    "**Explanation**\n",
    "\n",
    "    (1,1) -> (2,1) -> (2,3)."
   ]
  },
  {
   "cell_type": "code",
   "execution_count": null,
   "metadata": {},
   "outputs": [],
   "source": []
  }
 ],
 "metadata": {
  "kernelspec": {
   "display_name": "Python 3",
   "language": "python",
   "name": "python3"
  },
  "language_info": {
   "codemirror_mode": {
    "name": "ipython",
    "version": 3
   },
   "file_extension": ".py",
   "mimetype": "text/x-python",
   "name": "python",
   "nbconvert_exporter": "python",
   "pygments_lexer": "ipython3",
   "version": "3.7.4"
  }
 },
 "nbformat": 4,
 "nbformat_minor": 2
}
