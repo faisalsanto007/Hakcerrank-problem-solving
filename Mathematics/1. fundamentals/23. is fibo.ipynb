{
 "cells": [
  {
   "cell_type": "markdown",
   "metadata": {},
   "source": [
    "You are given an integer, N. Write a program to determine if N is an element of the Fibonacci sequence.\n",
    "\n",
    "The first few elements of the Fibonacci sequence are 0,1,1,2,3,5,8,13..... A Fibonacci sequence is one where every element is a sum of the previous two elements in the sequence. The first two elements are 0 and 1."
   ]
  },
  {
   "cell_type": "code",
   "execution_count": null,
   "metadata": {},
   "outputs": [],
   "source": [
    "def solve(n):\n",
    "    a = 0\n",
    "    b = 1\n",
    "    while a<n:\n",
    "        a,b = b,a+b\n",
    "    return \"IsFibo\" if a==n else \"IsNotFibo\"\n",
    "\n",
    "for _ in range(int(input())):\n",
    "    print(solve(int(input())))"
   ]
  },
  {
   "cell_type": "markdown",
   "metadata": {},
   "source": [
    "**Sample Input**\n",
    "\n",
    "    3\n",
    "    5\n",
    "    7\n",
    "    8\n",
    "\n",
    "**Sample Output**\n",
    "\n",
    "    IsFibo\n",
    "    IsNotFibo\n",
    "    IsFibo\n",
    "\n",
    "**Explanation**\n",
    "\n",
    "    5 is a Fibonacci number given by 3+2 = 5\n",
    "    7 is not a Fibonacci number\n",
    "    8 is a Fibonacci number given by 5+3 = 8"
   ]
  },
  {
   "cell_type": "code",
   "execution_count": null,
   "metadata": {},
   "outputs": [],
   "source": []
  }
 ],
 "metadata": {
  "kernelspec": {
   "display_name": "Python 3",
   "language": "python",
   "name": "python3"
  },
  "language_info": {
   "codemirror_mode": {
    "name": "ipython",
    "version": 3
   },
   "file_extension": ".py",
   "mimetype": "text/x-python",
   "name": "python",
   "nbconvert_exporter": "python",
   "pygments_lexer": "ipython3",
   "version": "3.7.4"
  }
 },
 "nbformat": 4,
 "nbformat_minor": 2
}
