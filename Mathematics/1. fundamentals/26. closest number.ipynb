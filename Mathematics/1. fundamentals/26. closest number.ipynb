{
 "cells": [
  {
   "cell_type": "markdown",
   "metadata": {},
   "source": [
    "You are given 3 numbers a, b and x. You need to output the multiple of x which is closest to a^b. If more than one answer exists, display the smallest one.\n"
   ]
  },
  {
   "cell_type": "code",
   "execution_count": null,
   "metadata": {},
   "outputs": [],
   "source": [
    "# not the correct answer\n",
    "\n",
    "def closestNumber(a, b, x):\n",
    "    \n",
    "    f=(math.floor((a**b)/x)*x)\n",
    "    c=(math.ceil((a**b)/x)*x)\n",
    "    if((a**b)-f<c-(a**b)):\n",
    "        return f\n",
    "    return c\n"
   ]
  },
  {
   "cell_type": "code",
   "execution_count": null,
   "metadata": {},
   "outputs": [],
   "source": [
    "# not accurate\n",
    "\n",
    "# one liner\n",
    "return round(a ** b / x) * x"
   ]
  },
  {
   "cell_type": "code",
   "execution_count": null,
   "metadata": {},
   "outputs": [],
   "source": [
    "# \n",
    "\n",
    "def closestNumber(a, b, x):\n",
    "    p = int(a ** b)\n",
    "    m = (p // x) * x\n",
    "    if p - m > m + x - p:\n",
    "        return m + x\n",
    "    else:\n",
    "        return m\n",
    "\n",
    "\n",
    "if __name__ == '__main__':\n",
    "    for _ in range(int(input())):\n",
    "        a, b, x = map(int, input().split())\n",
    "        result = closestNumber(a, b, x)\n",
    "        print(result)"
   ]
  },
  {
   "cell_type": "markdown",
   "metadata": {},
   "source": [
    "**Sample Input 0**\n",
    "\n",
    "    3\n",
    "    349 1 4\n",
    "    395 1 7\n",
    "    4 -2 2\n",
    "\n",
    "**Sample Output 0**\n",
    "\n",
    "    348\n",
    "    392\n",
    "    0\n",
    "\n",
    "**Explanation 0**\n",
    "\n",
    "    The closest multiple of 4 to 349 is 348.\n",
    "    The closest multiple of 7 to 395 is 392.\n",
    "    The closest multiple of 2 to 1/16 is 0."
   ]
  },
  {
   "cell_type": "code",
   "execution_count": null,
   "metadata": {},
   "outputs": [],
   "source": [
    "# solution for another similar problem but not for this one\n",
    "\n",
    "def closestNumbers(arr):\n",
    "    arr.sort()\n",
    "    min_dif = abs(arr[0]-arr[1])\n",
    "    ans = []\n",
    "    for i in range(len(arr)-1):\n",
    "        d = abs(arr[i]-arr[i+1])\n",
    "        if d==min_dif:\n",
    "            ans += [arr[i], arr[i+1]]\n",
    "            min_dif =d\n",
    "        elif d<min_dif:\n",
    "            ans = [arr[i], arr[i+1]]\n",
    "            min_dif =d\n",
    "    return ans\n",
    "\n",
    "input()\n",
    "print(*closestNumbers(list(map(int,input().split()))))"
   ]
  }
 ],
 "metadata": {
  "kernelspec": {
   "display_name": "Python 3",
   "language": "python",
   "name": "python3"
  },
  "language_info": {
   "codemirror_mode": {
    "name": "ipython",
    "version": 3
   },
   "file_extension": ".py",
   "mimetype": "text/x-python",
   "name": "python",
   "nbconvert_exporter": "python",
   "pygments_lexer": "ipython3",
   "version": "3.7.4"
  }
 },
 "nbformat": 4,
 "nbformat_minor": 2
}
