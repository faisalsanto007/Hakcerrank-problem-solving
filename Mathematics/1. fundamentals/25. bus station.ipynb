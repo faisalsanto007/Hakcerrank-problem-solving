{
 "cells": [
  {
   "cell_type": "markdown",
   "metadata": {},
   "source": [
    "There are n groups of friends, and each group is numbered from 1 to n. The ith group contains a people.\n",
    "\n",
    "They live near a bus stop, and only a single bus operates on this route. An empty bus arrives at the bus stop and all the groups want to travel by the bus.\n",
    "\n",
    "However, group of friends do not want to get separated. So they enter the bus only if the bus can carry the entire group.\n",
    "\n",
    "Moreover, the groups do not want to change their relative positioning while travelling. In other words, group 3 cannot travel by bus, unless group 1 and group 2 have either (a) already traveled by the bus in the previous trip or (b) they are also sitting inside the bus at present.\n",
    "\n",
    "You are given that a bus of size x can carry x people simultaneously.\n",
    "\n",
    "Find the size x of the bus so that (1) the bus can transport all the groups and (2) every time when the bus starts from the bus station, there is no empty space in the bus (i.e. the total number of people present inside the bus is equal to x)?"
   ]
  },
  {
   "cell_type": "code",
   "execution_count": null,
   "metadata": {},
   "outputs": [],
   "source": [
    "def solve(a):\n",
    "    s = sum(a)\n",
    "    sums = []\n",
    "    for i in range(len(a)):\n",
    "        t = (sums or [0])[-1] + a[i]\n",
    "        if t<=s/2:\n",
    "            sums.append(t)\n",
    "        else:\n",
    "            break\n",
    "    sums.append(s)\n",
    "    for i in sums:\n",
    "        if not s%i:\n",
    "            t = i\n",
    "            for j in a:\n",
    "                t = t or i\n",
    "                t-= j\n",
    "                if t<0:\n",
    "                    break\n",
    "            else:\n",
    "                yield i\n",
    " \n",
    "\n",
    "int(input())\n",
    "a = list(map(int,input().split()))\n",
    "print(*solve(a))"
   ]
  },
  {
   "cell_type": "markdown",
   "metadata": {},
   "source": [
    "**Sample Input**\n",
    "\n",
    "    8\n",
    "    1 2 1 1 1 2 1 3\n",
    "\n",
    "**Sample Output**\n",
    "\n",
    "    3 4 6 12\n",
    "\n",
    "**Sample Explanation**\n",
    "\n",
    "In the above example, a1 = 1, a2 = 2, a3 = 1, a4 = 1, a5 = 1, a6 = 2, a7 = 1, a8 = 3.\n",
    "\n",
    "If x = 1 : In the first trip, a1 go by the bus. There will be no second trip because the bus cannot accommodate group 2. Hence \"x = 1\" is not the required answer.\n",
    "\n",
    "If x = 2 : No bus trip is possible. That's because a1 cannot go alone, as one seat will be left vacant in the bus. And, a1 & a2 cannot go together, because the bus is cannot accommodate both the groups simultaneously.\n",
    "\n",
    "If x = 3 : In the first trip, a1 & a2 go by the bus. In the second trip, a3, a4 & a5 go by the bus. In the third trip, a6 & a7 go by the bus. In the fourth trip, a8 go by the bus.\n",
    "\n",
    "If x = 4 : In the first trip, a1, a2 & a3 go by the bus. In the second trip, a4, a5 & a6 go by the bus. In the third trip, a7 & a8 go by the bus.\n",
    "\n",
    "Similarly you can figure out the output for x= 5, 6 & 7.\n",
    "\n"
   ]
  },
  {
   "cell_type": "code",
   "execution_count": null,
   "metadata": {},
   "outputs": [],
   "source": []
  }
 ],
 "metadata": {
  "kernelspec": {
   "display_name": "Python 3",
   "language": "python",
   "name": "python3"
  },
  "language_info": {
   "codemirror_mode": {
    "name": "ipython",
    "version": 3
   },
   "file_extension": ".py",
   "mimetype": "text/x-python",
   "name": "python",
   "nbconvert_exporter": "python",
   "pygments_lexer": "ipython3",
   "version": "3.7.4"
  }
 },
 "nbformat": 4,
 "nbformat_minor": 2
}
