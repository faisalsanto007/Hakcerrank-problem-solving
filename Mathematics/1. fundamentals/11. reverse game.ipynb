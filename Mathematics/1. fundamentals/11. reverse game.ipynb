{
 "cells": [
  {
   "cell_type": "markdown",
   "metadata": {},
   "source": [
    "Akash and Akhil are playing a game. They have N balls numbered from 0 to N-1. Akhil asks Akash to reverse the position of the balls, i.e., to change the order from say, 0,1,2,3 to 3,2,1,0. He further asks Akash to reverse the position of the balls N times, each time starting from one position further to the right, till he reaches the last ball. So, Akash has to reverse the positions of the ball starting from 0th position, then from 1st position, then from 2nd position and so on. At the end of the game, Akhil will ask Akash the final position of any ball numbered K. Akash will win the game, if he can answer. Help Akash."
   ]
  },
  {
   "cell_type": "code",
   "execution_count": null,
   "metadata": {},
   "outputs": [],
   "source": [
    "import math\n",
    "import os\n",
    "import random\n",
    "import re\n",
    "import sys\n",
    "\n",
    "def reversal(n, k):\n",
    "    \n",
    "    lt = list(range(n))\n",
    "    lt.reverse()\n",
    "    \n",
    "    for i in range(1, n):\n",
    "        \n",
    "        lt_ = lt[i:]\n",
    "        lt_.reverse()\n",
    "        lt = lt[0:i] + lt_\n",
    "    \n",
    "    return (lt.index(k))\n",
    "\n",
    "\n",
    "if __name__ == '__main__':\n",
    "    \n",
    "    fptr = open(os.environ['OUTPUT_PATH'], 'w')\n",
    "    \n",
    "    t = int(input())\n",
    "\n",
    "    for n_iter in range(t):\n",
    "        \n",
    "        nk = input().split()\n",
    "        \n",
    "        n = int(nk[0])\n",
    "        \n",
    "        k = int(nk[1])\n",
    "        \n",
    "        result = reversal(n,k)\n",
    "        \n",
    "        fptr.write(str(result) + '\\n')\n",
    "\n",
    "    fptr.close()\n",
    "    "
   ]
  },
  {
   "cell_type": "markdown",
   "metadata": {},
   "source": [
    "**Sample Input**\n",
    "\n",
    "    2\n",
    "    3 1\n",
    "    5 2\n",
    "\n",
    "**Sample Output**\n",
    "\n",
    "    2\n",
    "    4\n",
    "\n",
    "**Explanation**\n",
    "\n",
    "    For first test case, The rotation will be like this:\n",
    "    0 1 2 -> 2 1 0 -> 2 0 1 -> 2 0 1\n",
    "    So, Index of 1 will be 2."
   ]
  },
  {
   "cell_type": "code",
   "execution_count": null,
   "metadata": {},
   "outputs": [],
   "source": []
  }
 ],
 "metadata": {
  "kernelspec": {
   "display_name": "Python 3",
   "language": "python",
   "name": "python3"
  },
  "language_info": {
   "codemirror_mode": {
    "name": "ipython",
    "version": 3
   },
   "file_extension": ".py",
   "mimetype": "text/x-python",
   "name": "python",
   "nbconvert_exporter": "python",
   "pygments_lexer": "ipython3",
   "version": "3.7.4"
  }
 },
 "nbformat": 4,
 "nbformat_minor": 2
}
