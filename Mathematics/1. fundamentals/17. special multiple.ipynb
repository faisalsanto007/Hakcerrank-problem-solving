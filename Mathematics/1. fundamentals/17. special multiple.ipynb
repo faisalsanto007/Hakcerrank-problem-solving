{
 "cells": [
  {
   "cell_type": "markdown",
   "metadata": {},
   "source": [
    "You are given an integer N. Can you find the least positive integer X made up of only 9's and 0's, such that, X is a multiple of N? \n",
    "    \n",
    "    X is made up of one or more occurences of 9 and zero or more occurences of 0.\n",
    "    "
   ]
  },
  {
   "cell_type": "code",
   "execution_count": null,
   "metadata": {},
   "outputs": [],
   "source": [
    "import os\n",
    "import sys\n",
    "import itertools\n",
    "#itertools and functools - permutations and combinations modules\n",
    "\n",
    "def solve(n):\n",
    "    for k in itertools.count(1):\n",
    "        v = int(bin(k)[2:].replace('1', '9'))\n",
    "        if not v%n: break\n",
    "    return(str(v))\n",
    "\n",
    "if __name__ == '__main__':\n",
    "    fptr = open(os.environ['OUTPUT_PATH'], 'w')\n",
    "\n",
    "    t = int(input())\n",
    "\n",
    "    for t_itr in range(t):\n",
    "        n = int(input())\n",
    "\n",
    "        result = solve(n)\n",
    "\n",
    "        fptr.write(result + '\\n')\n",
    "\n",
    "    fptr.close()"
   ]
  },
  {
   "cell_type": "code",
   "execution_count": null,
   "metadata": {},
   "outputs": [],
   "source": [
    "# another soln\n",
    "\n",
    "from itertools import product\n",
    "def special(n):\n",
    "    i = 0\n",
    "    while True:\n",
    "        for j in product(*[[0,9]]*i) or [9]:\n",
    "            s = \"9\"+\"\".join(map(str,j))\n",
    "            if not int(s)%n:\n",
    "                return s\n",
    "        i+=1\n",
    "            \n",
    "for _ in range(int(input())):\n",
    "    n = int(input())\n",
    "    print(special(n))"
   ]
  },
  {
   "cell_type": "markdown",
   "metadata": {},
   "source": [
    "**Sample Input**\n",
    "\n",
    "    3\n",
    "    5\n",
    "    7\n",
    "    1\n",
    "\n",
    "**Sample Output**\n",
    "\n",
    "    90\n",
    "    9009\n",
    "    9\n",
    "\n",
    "**Explanation**\n",
    "\n",
    "90 is the smallest number made up of 9's and 0's divisible by 5. Similarly, you can derive for other cases."
   ]
  },
  {
   "cell_type": "code",
   "execution_count": null,
   "metadata": {},
   "outputs": [],
   "source": []
  }
 ],
 "metadata": {
  "kernelspec": {
   "display_name": "Python 3",
   "language": "python",
   "name": "python3"
  },
  "language_info": {
   "codemirror_mode": {
    "name": "ipython",
    "version": 3
   },
   "file_extension": ".py",
   "mimetype": "text/x-python",
   "name": "python",
   "nbconvert_exporter": "python",
   "pygments_lexer": "ipython3",
   "version": "3.7.4"
  }
 },
 "nbformat": 4,
 "nbformat_minor": 2
}
