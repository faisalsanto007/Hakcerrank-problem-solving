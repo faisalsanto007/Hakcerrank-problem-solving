{
 "cells": [
  {
   "cell_type": "markdown",
   "metadata": {},
   "source": [
    "Famous wizard Sumar moonji kumaru is stuck in a huge room and has to save Hermione Granger from a monster. Kumaru is at location P1 given by integral coordinates (x1,y1) and Hermione is at location P2 given by integral coordinates (x2,y2). Sadly P1 and P2 are the only points at which floating rocks are present. Rest of the room is without floor and underneath is hot lava.\n",
    "\n",
    "Kumaru has to go from P1 to P2 but there are no floating rocks to walk on. Kumaru knows a spell that can make the rocks appear but only on the integral coordinates on the straight line joining P1 and P2.\n",
    "\n",
    "How many rocks can appear at locations (x,y) on the line segment between P1 and P2 (excluding P1 and P2) which satisfy the condition that both x and y are integers?"
   ]
  },
  {
   "cell_type": "code",
   "execution_count": null,
   "metadata": {},
   "outputs": [],
   "source": [
    "from math import gcd\n",
    "\n",
    "for _ in range(int(input())):\n",
    "    x1, y1, x2, y2 = map(int, input().split())\n",
    "\n",
    "    f = gcd(y2 - y1, x2 - x1) - 1\n",
    "    print(f)"
   ]
  },
  {
   "attachments": {
    "integralcoordinates.png": {
     "image/png": "[encoded data removed]"
    }
   },
   "cell_type": "markdown",
   "metadata": {},
   "source": [
    "**Sample input**\n",
    "\n",
    "    3\n",
    "    0 2 4 0\n",
    "    2 2 5 5\n",
    "    1 9 8 16\n",
    "\n",
    "**Sample Output**\n",
    "\n",
    "    1\n",
    "    2\n",
    "    6\n",
    "\n",
    "**Explanation**\n",
    "\n",
    "![integralcoordinates.png](attachment:integralcoordinates.png)\n",
    "\n",
    "    Case 1: As shown in the figure, between (0,2) and (4,0) there's only 1 integral point (2,1) hence 1 rock.\n",
    "    Case 2: Between (2,2) and (5,5) lies (3,3) and (4,4), hence 2 rocks.\n",
    "    Case 3: Between (1,9) and (8,16) there lies 6 rocks at positions (2,10) (3,11) (4,12) (5,13) (6,14) (7,15)."
   ]
  },
  {
   "cell_type": "code",
   "execution_count": null,
   "metadata": {},
   "outputs": [],
   "source": []
  }
 ],
 "metadata": {
  "kernelspec": {
   "display_name": "Python 3",
   "language": "python",
   "name": "python3"
  },
  "language_info": {
   "codemirror_mode": {
    "name": "ipython",
    "version": 3
   },
   "file_extension": ".py",
   "mimetype": "text/x-python",
   "name": "python",
   "nbconvert_exporter": "python",
   "pygments_lexer": "ipython3",
   "version": "3.7.4"
  }
 },
 "nbformat": 4,
 "nbformat_minor": 2
}
