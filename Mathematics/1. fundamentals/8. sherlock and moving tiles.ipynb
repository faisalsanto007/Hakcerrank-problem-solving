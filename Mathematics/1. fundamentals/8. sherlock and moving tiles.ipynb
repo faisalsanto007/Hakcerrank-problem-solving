{
 "cells": [
  {
   "cell_type": "code",
   "execution_count": null,
   "metadata": {},
   "outputs": [],
   "source": [
    "import os\n",
    "import sys\n",
    "import math\n",
    "#\n",
    "# Complete the movingTiles function below.\n",
    "#\n",
    "def movingTiles(l, s1, s2, queries):\n",
    "    #\n",
    "    # Write your code here.\n",
    "    res = []\n",
    "    for q in queries:\n",
    "        num = math.sqrt(2)*abs(math.sqrt(q)-l)\n",
    "        den = abs(s1-s2)\n",
    "        res.append(num/den)\n",
    "    return(res)\n",
    "\n",
    "if __name__ == '__main__':\n",
    "    fptr = open(os.environ['OUTPUT_PATH'], 'w')\n",
    "    \n",
    "    lS1S2 = input().split()\n",
    "\n",
    "    l = int(lS1S2[0])\n",
    "\n",
    "    s1 = int(lS1S2[1])\n",
    "\n",
    "    s2 = int(lS1S2[2])\n",
    "\n",
    "    queries_count = int(input())\n",
    "\n",
    "    queries = []\n",
    "\n",
    "    for _ in range(queries_count):\n",
    "        queries_item = int(input())\n",
    "        queries.append(queries_item)\n",
    "\n",
    "    result = movingTiles(l, s1, s2, queries)\n",
    "\n",
    "    fptr.write('\\n'.join(map(str, result)))\n",
    "    fptr.write('\\n')\n",
    "\n",
    "    fptr.close()"
   ]
  }
 ],
 "metadata": {
  "kernelspec": {
   "display_name": "Python 3",
   "language": "python",
   "name": "python3"
  },
  "language_info": {
   "codemirror_mode": {
    "name": "ipython",
    "version": 3
   },
   "file_extension": ".py",
   "mimetype": "text/x-python",
   "name": "python",
   "nbconvert_exporter": "python",
   "pygments_lexer": "ipython3",
   "version": "3.7.4"
  }
 },
 "nbformat": 4,
 "nbformat_minor": 2
}
