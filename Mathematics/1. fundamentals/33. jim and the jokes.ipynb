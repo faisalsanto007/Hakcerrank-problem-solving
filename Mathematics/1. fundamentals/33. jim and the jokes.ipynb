{
 "cells": [
  {
   "cell_type": "markdown",
   "metadata": {},
   "source": [
    "Jim runs a big burger restaurant and, to entertain his customers, he always tell them jokes. He is running out of jokes and he needs you to help him find new ones.\n",
    "\n",
    "An often heard programmer joke goes like this:\n",
    "\n",
    "\"Why do programmers always mix up Christmas and Halloween? Because Dec 25 is Oct 31\".\n",
    "\n",
    "Got it? :-) It is because (25 in Decimal) is equal to (31 in Octal).\n",
    "\n",
    "If we are talking about dates, then let m be the month and d be the date and the corresponding value be f(m,d)=d base m. Let's describe some slightly different jokes:\n",
    "\n",
    "\"Why do programmers always mix up event x and event y? Because f(mx,dx) = f(my,dy)\".\n",
    "\n",
    "Here mx means the month of event x and dx the day of event x. Similar for my and dy.\n",
    "\n",
    "Jim knows that his customers love this kind of jokes. That's why he gives you a calendar with N events in it and asks you to count the number of such jokes he can create using the given events.\n",
    "\n",
    "Two jokes ((x1,x2) and (y1,y2)) differ if they don't contain the same events.\n",
    "\n",
    "**Note:**\n",
    "\n",
    "    The given numbers are all represented with digits from 0-9, that's why for months like  or , we can't use additional characters to represent 10 or 11.\n",
    "\n",
    "    It might happen, that a special event cannot be used for a joke because the base conversion is invalid. For example  is not possible since base  can only contain digits  and .\n",
    "\n",
    "    Unary base is invalid.\n",
    "\n",
    "    Two events can have the same date."
   ]
  },
  {
   "cell_type": "code",
   "execution_count": null,
   "metadata": {},
   "outputs": [],
   "source": [
    "jokes = {}\n",
    "for _ in range(int(input())):\n",
    "    b, x = input().split()\n",
    "    \n",
    "    try:\n",
    "        f = int(x, int(b))\n",
    "        jokes[f] = jokes.get(f, 0) + 1\n",
    "    \n",
    "    except ValueError:\n",
    "        # conversion error in the given base\n",
    "        pass\n",
    "\n",
    "# attention: when there are several times the same number, all values count\n",
    "print(sum(f * (f - 1) // 2 for f in jokes.values() if f >= 1))"
   ]
  },
  {
   "cell_type": "markdown",
   "metadata": {},
   "source": [
    "**Sample Input #1**\n",
    "\n",
    "    2\n",
    "    10 25\n",
    "    8 31\n",
    "\n",
    "**Sample Output #1**\n",
    "\n",
    "    1\n",
    "\n",
    "**Sample Input #2**\n",
    "\n",
    "    2\n",
    "    2 25\n",
    "    2 25\n",
    "\n",
    "**Sample Output #2**\n",
    "\n",
    "    0\n",
    "\n",
    "**Sample Input #3**\n",
    "\n",
    "    2\n",
    "    11 10\n",
    "    10 11\n",
    "\n",
    "**Sample Output #3**\n",
    "\n",
    "    1"
   ]
  },
  {
   "cell_type": "code",
   "execution_count": null,
   "metadata": {},
   "outputs": [],
   "source": []
  }
 ],
 "metadata": {
  "kernelspec": {
   "display_name": "Python 3",
   "language": "python",
   "name": "python3"
  },
  "language_info": {
   "codemirror_mode": {
    "name": "ipython",
    "version": 3
   },
   "file_extension": ".py",
   "mimetype": "text/x-python",
   "name": "python",
   "nbconvert_exporter": "python",
   "pygments_lexer": "ipython3",
   "version": "3.7.4"
  }
 },
 "nbformat": 4,
 "nbformat_minor": 2
}
