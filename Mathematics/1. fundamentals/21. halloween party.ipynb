{
 "cells": [
  {
   "cell_type": "markdown",
   "metadata": {},
   "source": [
    "Alex is attending a Halloween party with his girlfriend, Silvia. At the party, Silvia spots the corner of an infinite chocolate bar (two dimensional, infinitely long in width and length).\n",
    "\n",
    "If the chocolate can be served only as 1 x 1 sized pieces and Alex can cut the chocolate bar exactly k times, what is the maximum number of chocolate pieces Alex can cut and give Silvia?"
   ]
  },
  {
   "cell_type": "code",
   "execution_count": null,
   "metadata": {},
   "outputs": [],
   "source": [
    "# soln 1\n",
    "\n",
    "def halloweenParty(k):\n",
    "    return (k//2)*(k-k//2)\n",
    "\n",
    "for _ in range(int(input())):\n",
    "    print(halloweenParty(int(input())))"
   ]
  },
  {
   "cell_type": "code",
   "execution_count": null,
   "metadata": {},
   "outputs": [],
   "source": [
    "# soln 2\n",
    "\n",
    "from math import ceil,floor\n",
    "def halloweenParty(k):\n",
    "    return ceil(k/2)*floor(k/2)\n",
    "\n",
    "for _ in range(int(input())):\n",
    "    print(halloweenParty(int(input())))"
   ]
  },
  {
   "cell_type": "markdown",
   "metadata": {},
   "source": [
    "**Sample Input**\n",
    "\n",
    "    4\n",
    "    5\n",
    "    6\n",
    "    7\n",
    "    8\n",
    "\n",
    "**Sample Output**\n",
    "\n",
    "    6\n",
    "    9\n",
    "    12\n",
    "    16\n",
    "\n",
    "**Explanation**\n",
    "\n",
    "The explanation below is for the first two test cases. The rest of them follow a similar logic.\n",
    "\n",
    "For the first test-case, where k=5, you need 3 horizontal and 2 vertical cuts.\n",
    "\n",
    "For the second test case, where k=6, you need 3 horizontal and 3 vertical cuts."
   ]
  }
 ],
 "metadata": {
  "kernelspec": {
   "display_name": "Python 3",
   "language": "python",
   "name": "python3"
  },
  "language_info": {
   "codemirror_mode": {
    "name": "ipython",
    "version": 3
   },
   "file_extension": ".py",
   "mimetype": "text/x-python",
   "name": "python",
   "nbconvert_exporter": "python",
   "pygments_lexer": "ipython3",
   "version": "3.7.4"
  }
 },
 "nbformat": 4,
 "nbformat_minor": 2
}
