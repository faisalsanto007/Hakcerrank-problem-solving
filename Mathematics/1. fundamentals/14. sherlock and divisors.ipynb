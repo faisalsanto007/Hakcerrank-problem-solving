{
 "cells": [
  {
   "cell_type": "code",
   "execution_count": null,
   "metadata": {},
   "outputs": [],
   "source": [
    "import os\n",
    "import sys\n",
    "import math\n",
    "\n",
    "\n",
    "def divisors(n):\n",
    "    \n",
    "    #divisors = [i for i in range(2,n+1,2) if n%i==0]\n",
    "    #return(len(divisors))\n",
    "    return(int(not(n%2)) and sum([(n%i==i%2==0) + (n%(n/i)==(n/i)%2==0 and ((n/i)!=i)) for i in range(2,int(math.sqrt(n) + 1))]) + 1)\n",
    "\n",
    "\n",
    "if __name__ == '__main__':\n",
    "    fptr = open(os.environ['OUTPUT_PATH'], 'w')\n",
    "\n",
    "    t = int(input())\n",
    "\n",
    "    for t_itr in range(t):\n",
    "        n = int(input())\n",
    "\n",
    "        result = divisors(n)\n",
    "\n",
    "        fptr.write(str(result) + '\\n')\n",
    "\n",
    "    fptr.close()"
   ]
  },
  {
   "cell_type": "markdown",
   "metadata": {},
   "source": [
    "**Sample Input**\n",
    "\n",
    "    2\n",
    "    9\n",
    "    8\n",
    "\n",
    "**Sample Output**\n",
    "\n",
    "    0\n",
    "    3\n",
    "\n",
    "**Explanation**\n",
    "\n",
    "    9 has three divisors 1, 3 and 9 none of which is divisible by 2.\n",
    "    8 has four divisors 1,2,4 and 8, out of which three are divisible by 2."
   ]
  },
  {
   "cell_type": "code",
   "execution_count": null,
   "metadata": {},
   "outputs": [],
   "source": []
  }
 ],
 "metadata": {
  "kernelspec": {
   "display_name": "Python 3",
   "language": "python",
   "name": "python3"
  },
  "language_info": {
   "codemirror_mode": {
    "name": "ipython",
    "version": 3
   },
   "file_extension": ".py",
   "mimetype": "text/x-python",
   "name": "python",
   "nbconvert_exporter": "python",
   "pygments_lexer": "ipython3",
   "version": "3.7.4"
  }
 },
 "nbformat": 4,
 "nbformat_minor": 2
}
