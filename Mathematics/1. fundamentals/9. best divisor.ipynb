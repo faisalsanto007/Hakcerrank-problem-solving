{
 "cells": [
  {
   "cell_type": "markdown",
   "metadata": {},
   "source": [
    "Kristen loves playing with and comparing numbers. She thinks that if she takes two different positive numbers, the one whose digits sum to a larger number is better than the other. If the sum of digits is equal for both numbers, then she thinks the smaller number is better. For example, Kristen thinks that 13 is better than 31 and that 12 is better than 11.\n",
    "\n",
    "Given an integer, n, can you find the divisor of n that Kristin will consider to be the best?"
   ]
  },
  {
   "cell_type": "code",
   "execution_count": null,
   "metadata": {},
   "outputs": [],
   "source": [
    "import math\n",
    "import os\n",
    "import random\n",
    "import re\n",
    "import sys\n",
    "\n",
    "def sum_of_digits(num):\n",
    "    total=0\n",
    "    while(num>0):\n",
    "        dig=num%10\n",
    "        total+=dig\n",
    "        num=num//10\n",
    "    return (total)\n",
    "\n",
    "def bestDivisor(n):\n",
    "    divisors = []\n",
    "    for i in range(1,n+1):\n",
    "        if (n%i == 0):\n",
    "            divisors.append(i)\n",
    "    sum_digits = []\n",
    "    for m in divisors:\n",
    "        sum_digits.append(sum_of_digits(m))\n",
    "    maximum = max(sum_digits)\n",
    "    if (sum_digits.count(maximum)==1):\n",
    "        ind = sum_digits.index(maximum)\n",
    "        return (divisors[ind])\n",
    "    else:\n",
    "        divs = [divisors[i] for i in range(len(sum_digits)) if sum_digits[i] == maximum]\n",
    "        mi = min(divs)\n",
    "        return (mi)\n",
    "\n",
    "    \n",
    "if __name__ == '__main__':\n",
    "    n = int(input())\n",
    "    result = bestDivisor(n)\n",
    "    print (result)"
   ]
  },
  {
   "cell_type": "markdown",
   "metadata": {},
   "source": [
    "**Sample Input 0**\n",
    "\n",
    "12\n",
    "\n",
    "**Sample Output 0**\n",
    "\n",
    "6\n",
    "\n",
    "**Explanation 0**\n",
    "\n",
    "The set of divisors of 12 can be expressed as {1,2,3,4,6,12}. The divisor whose digits sum to the largest number is 6 (which, having only one digit, sums to itself). Thus, we print 6 as our answer."
   ]
  },
  {
   "cell_type": "code",
   "execution_count": null,
   "metadata": {},
   "outputs": [],
   "source": []
  }
 ],
 "metadata": {
  "kernelspec": {
   "display_name": "Python 3",
   "language": "python",
   "name": "python3"
  },
  "language_info": {
   "codemirror_mode": {
    "name": "ipython",
    "version": 3
   },
   "file_extension": ".py",
   "mimetype": "text/x-python",
   "name": "python",
   "nbconvert_exporter": "python",
   "pygments_lexer": "ipython3",
   "version": "3.7.4"
  }
 },
 "nbformat": 4,
 "nbformat_minor": 2
}
