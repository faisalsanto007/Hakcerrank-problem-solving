{
 "cells": [
  {
   "cell_type": "markdown",
   "metadata": {},
   "source": [
    "We all know how to calculate a^b using b operations by multiplying 1 by a, a total of b times. The drawback to this method is that b can be large, which makes exponentiation very slow.\n",
    "\n",
    "There is a well known method called Russian Peasant Multiplication that you can read about here. Now let's use this to raise some complex numbers to powers!\n",
    "\n",
    "You're given q queries where each query consists of four integers: a, b, k, and m. For each query, calculate (a+b.i)^k = c+d.i (where i is an imaginary unit) and then print the respective values of c mod m and d mod m as two space-separated integers on a new line."
   ]
  },
  {
   "cell_type": "code",
   "execution_count": null,
   "metadata": {},
   "outputs": [],
   "source": [
    "for _ in range(int(input())):\n",
    "    a, b, k, m = map(int, input().split())\n",
    "\n",
    "    # calcule (a + b∙𝑖)^k mod m\n",
    "\n",
    "    if k == 0:\n",
    "        print(1, 0)\n",
    "    else:\n",
    "        while k % 2 == 0:\n",
    "            # (a + b∙𝑖)² = a² + 2a∙b∙𝑖 - b²\n",
    "            a, b = a * a - b * b, 2 * a * b\n",
    "            a, b = a % m, b % m\n",
    "            k //= 2\n",
    "\n",
    "        c, d = a, b\n",
    "        k //= 2\n",
    "\n",
    "        while k > 0:\n",
    "            a, b = a * a - b * b, 2 * a * b\n",
    "            a, b = a % m, b % m\n",
    "\n",
    "            if k % 2 == 1:\n",
    "                # (a + b∙𝑖)×(c + d∙𝑖)\n",
    "                c, d = a * c - b * d, d * a + c * b\n",
    "                c, d = c % m, d % m\n",
    "\n",
    "            k //= 2\n",
    "\n",
    "        print(c, d)"
   ]
  },
  {
   "cell_type": "markdown",
   "metadata": {},
   "source": [
    "**Sample Input**\n",
    "\n",
    "    3\n",
    "    2 0 9 1000\n",
    "    0 1 5 10\n",
    "    8 2 10 1000000000\n",
    "\n",
    "**Sample Output**\n",
    "\n",
    "    512 0\n",
    "    0 1\n",
    "    880332800 927506432\n",
    "\n",
    "**Explanation**\n",
    "\n",
    "In the first query, we have a=2, b=0, k=9, m=1000. We calculate the following:\n",
    "\n",
    "    2^9 = 512\n",
    "    i^5 = i\n"
   ]
  },
  {
   "cell_type": "code",
   "execution_count": null,
   "metadata": {},
   "outputs": [],
   "source": []
  }
 ],
 "metadata": {
  "kernelspec": {
   "display_name": "Python 3",
   "language": "python",
   "name": "python3"
  },
  "language_info": {
   "codemirror_mode": {
    "name": "ipython",
    "version": 3
   },
   "file_extension": ".py",
   "mimetype": "text/x-python",
   "name": "python",
   "nbconvert_exporter": "python",
   "pygments_lexer": "ipython3",
   "version": "3.7.4"
  }
 },
 "nbformat": 4,
 "nbformat_minor": 2
}
