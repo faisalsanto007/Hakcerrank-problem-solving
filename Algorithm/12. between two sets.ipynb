{
 "cells": [
  {
   "cell_type": "code",
   "execution_count": null,
   "metadata": {},
   "outputs": [],
   "source": [
    "n,m = input().strip().split(' ')\n",
    "a = [int(a_temp) for a_temp in input().strip().split(' ')]\n",
    "b = [int(b_temp) for b_temp in input().strip().split(' ')]\n",
    "c = 0\n",
    "for i in range(max(a),min(b)+1):\n",
    "    for j in a:\n",
    "        if i%j!=0: break\n",
    "    else:\n",
    "        for k in b:\n",
    "            if k % i != 0: break\n",
    "        else: c+=1\n",
    "print(c)"
   ]
  }
 ],
 "metadata": {
  "kernelspec": {
   "display_name": "Python 3",
   "language": "python",
   "name": "python3"
  },
  "language_info": {
   "codemirror_mode": {
    "name": "ipython",
    "version": 3
   },
   "file_extension": ".py",
   "mimetype": "text/x-python",
   "name": "python",
   "nbconvert_exporter": "python",
   "pygments_lexer": "ipython3",
   "version": "3.7.4"
  }
 },
 "nbformat": 4,
 "nbformat_minor": 2
}
