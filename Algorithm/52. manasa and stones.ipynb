{
 "cells": [
  {
   "cell_type": "code",
   "execution_count": null,
   "metadata": {},
   "outputs": [],
   "source": [
    "import math\n",
    "import os\n",
    "import random\n",
    "import re\n",
    "import sys\n",
    "from itertools import combinations_with_replacement\n",
    "\n",
    "# Complete the stones function below.\n",
    "def stones(n, a, b):\n",
    "    arr = []\n",
    "    perm = list(combinations_with_replacement([a, b], n-1))\n",
    "    for i in perm:\n",
    "        arr.append(sum(i))\n",
    "    arr = list(set(arr))\n",
    "    arr.sort()\n",
    "    return arr\n",
    "    \n",
    "\n",
    "if __name__ == '__main__':\n",
    "    fptr = open(os.environ['OUTPUT_PATH'], 'w')\n",
    "\n",
    "    T = int(input())\n",
    "\n",
    "    for T_itr in range(T):\n",
    "        n = int(input())\n",
    "\n",
    "        a = int(input())\n",
    "\n",
    "        b = int(input())\n",
    "\n",
    "        result = stones(n, a, b)\n",
    "\n",
    "        fptr.write(' '.join(map(str, result)))\n",
    "        fptr.write('\\n')\n",
    "\n",
    "    fptr.close()\n"
   ]
  }
 ],
 "metadata": {
  "kernelspec": {
   "display_name": "Python 3",
   "language": "python",
   "name": "python3"
  },
  "language_info": {
   "codemirror_mode": {
    "name": "ipython",
    "version": 3
   },
   "file_extension": ".py",
   "mimetype": "text/x-python",
   "name": "python",
   "nbconvert_exporter": "python",
   "pygments_lexer": "ipython3",
   "version": "3.7.4"
  }
 },
 "nbformat": 4,
 "nbformat_minor": 2
}
