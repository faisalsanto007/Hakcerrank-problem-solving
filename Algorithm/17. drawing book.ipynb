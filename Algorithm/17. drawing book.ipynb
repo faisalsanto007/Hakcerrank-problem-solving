{
 "cells": [
  {
   "cell_type": "code",
   "execution_count": null,
   "metadata": {},
   "outputs": [],
   "source": [
    "import sys\n",
    "\n",
    "\n",
    "n = int(raw_input().strip())\n",
    "p = int(raw_input().strip())\n",
    "p = p/2 if p%2==0 else (p-1)/2\n",
    "n = n/2 if n%2==0 else (n-1)/2\n",
    "\n",
    "if (n-p)<p:\n",
    "    print(n-p)  \n",
    "else:\n",
    "    print(p)"
   ]
  },
  {
   "cell_type": "code",
   "execution_count": null,
   "metadata": {},
   "outputs": [],
   "source": [
    "# python 2\n",
    "\n",
    "import sys\n",
    "\n",
    "\n",
    "n = int(raw_input().strip())\n",
    "p = int(raw_input().strip())\n",
    "p = p/2 if p%2==0 else (p-1)/2\n",
    "n = n/2 if n%2==0 else (n-1)/2\n",
    "print(n-p if n-p<p else p)"
   ]
  }
 ],
 "metadata": {
  "kernelspec": {
   "display_name": "Python 3",
   "language": "python",
   "name": "python3"
  },
  "language_info": {
   "codemirror_mode": {
    "name": "ipython",
    "version": 3
   },
   "file_extension": ".py",
   "mimetype": "text/x-python",
   "name": "python",
   "nbconvert_exporter": "python",
   "pygments_lexer": "ipython3",
   "version": "3.7.4"
  }
 },
 "nbformat": 4,
 "nbformat_minor": 2
}
