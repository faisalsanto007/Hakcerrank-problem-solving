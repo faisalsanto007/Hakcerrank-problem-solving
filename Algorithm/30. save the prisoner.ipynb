{
 "cells": [
  {
   "cell_type": "code",
   "execution_count": null,
   "metadata": {},
   "outputs": [],
   "source": [
    "# python 2\n",
    "\n",
    "for i in range(input()):\n",
    "    a,b,c = map(int, raw_input().split())\n",
    "    d = (c + (b % a) - 1)%a\n",
    "    if d > 0:\n",
    "        print d\n",
    "    else:\n",
    "        print a"
   ]
  }
 ],
 "metadata": {
  "kernelspec": {
   "display_name": "Python 3",
   "language": "python",
   "name": "python3"
  },
  "language_info": {
   "codemirror_mode": {
    "name": "ipython",
    "version": 3
   },
   "file_extension": ".py",
   "mimetype": "text/x-python",
   "name": "python",
   "nbconvert_exporter": "python",
   "pygments_lexer": "ipython3",
   "version": "3.7.4"
  }
 },
 "nbformat": 4,
 "nbformat_minor": 2
}
