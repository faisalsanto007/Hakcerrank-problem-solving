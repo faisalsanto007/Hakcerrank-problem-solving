{
 "cells": [
  {
   "cell_type": "code",
   "execution_count": null,
   "metadata": {},
   "outputs": [],
   "source": [
    "i, j, k = [int(x) for x in input().split()]\n",
    "s = 0\n",
    "for day in range(i, j+1):\n",
    "    if (day - int(str(day)[::-1])) % k == 0:\n",
    "        s += 1\n",
    "print(s)"
   ]
  },
  {
   "cell_type": "code",
   "execution_count": null,
   "metadata": {},
   "outputs": [],
   "source": [
    "# hackerrank way\n",
    "\n",
    "import math\n",
    "import os\n",
    "import random\n",
    "import re\n",
    "import sys\n",
    "from decimal import *\n",
    "\n",
    "# Complete the beautifulDays function below.\n",
    "def beautifulDays(i, j, k):\n",
    "    count=0\n",
    "    for l in range(i,j+1):\n",
    "        n = (str(l)[::-1])\n",
    "        if(abs(l-int(n))%k ==0):\n",
    "            count+=1\n",
    "    return count\n",
    "\n",
    "if __name__ == '__main__':\n",
    "    fptr = open(os.environ['OUTPUT_PATH'], 'w')\n",
    "\n",
    "    ijk = input().split()\n",
    "\n",
    "    i = int(ijk[0])\n",
    "\n",
    "    j = int(ijk[1])\n",
    "\n",
    "    k = int(ijk[2])\n",
    "\n",
    "    result = beautifulDays(i, j, k)"
   ]
  }
 ],
 "metadata": {
  "kernelspec": {
   "display_name": "Python 3",
   "language": "python",
   "name": "python3"
  },
  "language_info": {
   "codemirror_mode": {
    "name": "ipython",
    "version": 3
   },
   "file_extension": ".py",
   "mimetype": "text/x-python",
   "name": "python",
   "nbconvert_exporter": "python",
   "pygments_lexer": "ipython3",
   "version": "3.7.4"
  }
 },
 "nbformat": 4,
 "nbformat_minor": 2
}
