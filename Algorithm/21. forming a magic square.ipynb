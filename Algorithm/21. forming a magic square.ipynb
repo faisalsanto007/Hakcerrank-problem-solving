{
 "cells": [
  {
   "cell_type": "code",
   "execution_count": null,
   "metadata": {},
   "outputs": [],
   "source": [
    "def formingMagicSquare(square):\n",
    "    allSquares = [\n",
    "        [[4, 9, 2], [3, 5, 7], [8, 1, 6]],\n",
    "        [[2, 7, 6], [9, 5, 1], [4, 3, 8]],\n",
    "        [[6, 1, 8], [7, 5, 3], [2, 9, 4]],\n",
    "        [[8, 3, 4], [1, 5, 9], [6, 7, 2]],\n",
    "        [[2, 9, 4], [7, 5, 3], [6, 1, 8]],\n",
    "        [[6, 7, 2], [1, 5, 9], [8, 3, 4]],\n",
    "        [[8, 1, 6], [3, 5, 7], [4, 9, 2]],\n",
    "        [[4, 3, 8], [9, 5, 1], [2, 7, 6]],\n",
    "        ]\n",
    "    minCost = 9 * 9\n",
    "    for magicSquare in allSquares:\n",
    "        cost = 0\n",
    "        for i in range(3):\n",
    "            for j in range(3):\n",
    "                cost += abs(magicSquare[i][j] - square[i][j])\n",
    "        if cost < minCost:\n",
    "            minCost = cost\n",
    "    return minCost\n",
    "\n",
    "\n",
    "square = [\n",
    "    list(map(int, input().split())),\n",
    "    list(map(int, input().split())),\n",
    "    list(map(int, input().split()))\n",
    "    ]\n",
    "print(formingMagicSquare(square))"
   ]
  }
 ],
 "metadata": {
  "kernelspec": {
   "display_name": "Python 3",
   "language": "python",
   "name": "python3"
  },
  "language_info": {
   "codemirror_mode": {
    "name": "ipython",
    "version": 3
   },
   "file_extension": ".py",
   "mimetype": "text/x-python",
   "name": "python",
   "nbconvert_exporter": "python",
   "pygments_lexer": "ipython3",
   "version": "3.7.4"
  }
 },
 "nbformat": 4,
 "nbformat_minor": 2
}
