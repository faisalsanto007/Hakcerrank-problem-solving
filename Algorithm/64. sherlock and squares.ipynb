{
 "cells": [
  {
   "cell_type": "markdown",
   "metadata": {},
   "source": [
    "Watson likes to challenge Sherlock's math ability. He will provide a starting and ending value that describe a range of integers, inclusive of the endpoints. Sherlock must determine the number of square integers within that range.\n",
    "\n",
    "Note: A square integer is an integer which is the square of an integer, e.g. 1,4,9,16,25.\n",
    "\n",
    "**Example**\n",
    "\n",
    "    a = 24\n",
    "    b = 49\n",
    "\n",
    "There are three square integers in the range: 25,36 and 49. Return 3."
   ]
  },
  {
   "cell_type": "code",
   "execution_count": null,
   "metadata": {},
   "outputs": [],
   "source": [
    "def squares(a, b):\n",
    "    # Complete this function\n",
    "\n",
    "    # There are two ways to do this:\n",
    "    # - either we look for all the squares between a and b\n",
    "    # - either we check that the numbers between a and b are squares\n",
    "    # The second solution is too slow, especially with the conditions of the statement\n",
    "    # 1 ≤ a ≤ b ≤ 10⁹\n",
    "    nb = 0\n",
    "\n",
    "    r = int(a ** 0.5)\n",
    "    if a <= r * r <= b:\n",
    "        nb += 1\n",
    "    while True:\n",
    "        r += 1\n",
    "        if r * r <= b:\n",
    "            nb += 1\n",
    "        else:\n",
    "            break\n",
    "    return nb\n",
    "\n",
    "\n",
    "if __name__ == \"__main__\":\n",
    "    q = int(input().strip())\n",
    "    for a0 in range(q):\n",
    "        a, b = input().strip().split(' ')\n",
    "        a, b = [int(a), int(b)]\n",
    "        result = squares(a, b)\n",
    "        print(result)"
   ]
  },
  {
   "cell_type": "markdown",
   "metadata": {},
   "source": [
    "**Sample Input**\n",
    "\n",
    "    2\n",
    "    3 9\n",
    "    17 24\n",
    "\n",
    "**Sample Output**\n",
    "\n",
    "    2\n",
    "    0\n",
    "\n",
    "**Explanation**\n",
    "\n",
    "Test Case #00: In range [3,9], 4 and 9 are the two square integers.\n",
    "Test Case #01: In range [17,24], there are no square integers."
   ]
  },
  {
   "cell_type": "code",
   "execution_count": null,
   "metadata": {},
   "outputs": [],
   "source": []
  }
 ],
 "metadata": {
  "kernelspec": {
   "display_name": "Python 3",
   "language": "python",
   "name": "python3"
  },
  "language_info": {
   "codemirror_mode": {
    "name": "ipython",
    "version": 3
   },
   "file_extension": ".py",
   "mimetype": "text/x-python",
   "name": "python",
   "nbconvert_exporter": "python",
   "pygments_lexer": "ipython3",
   "version": "3.7.4"
  }
 },
 "nbformat": 4,
 "nbformat_minor": 2
}
