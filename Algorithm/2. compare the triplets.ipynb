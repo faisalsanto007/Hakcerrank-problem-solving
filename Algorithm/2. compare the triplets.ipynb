{
 "cells": [
  {
   "cell_type": "code",
   "execution_count": 3,
   "metadata": {},
   "outputs": [
    {
     "data": {
      "text/plain": [
       "[1, 1]"
      ]
     },
     "execution_count": 3,
     "metadata": {},
     "output_type": "execute_result"
    }
   ],
   "source": [
    "def solve(a0, a1, a2, b0, b1, b2):\n",
    "    alice = [a0, a1, a2]\n",
    "    bob = [b0, b1, b2]\n",
    "    score = [0, 0]\n",
    "    for a, b in zip(alice, bob): #zip er time complexity O(n)\n",
    "        if a > b:\n",
    "            score[0]+= 1\n",
    "        elif b > a:\n",
    "            score[1]+=1\n",
    "    return score\n",
    "\n",
    "\n",
    "solve(5,6,7,3,6,10)"
   ]
  },
  {
   "cell_type": "code",
   "execution_count": 4,
   "metadata": {},
   "outputs": [
    {
     "data": {
      "text/plain": [
       "(2, 1)"
      ]
     },
     "execution_count": 4,
     "metadata": {},
     "output_type": "execute_result"
    }
   ],
   "source": [
    "# another way\n",
    "\n",
    "def compareTriplets(a, b):\n",
    "    aa=0\n",
    "    bb=0\n",
    "    for i in range(3):\n",
    "        if a[i]>b[i]:\n",
    "            aa=aa+1\n",
    "        elif b[i]>a[i]:\n",
    "            bb+=1\n",
    "    return aa , bb\n",
    "\n",
    "x = [17, 28, 30]\n",
    "y = [99, 16, 8]\n",
    "\n",
    "compareTriplets(x,y)\n"
   ]
  },
  {
   "cell_type": "code",
   "execution_count": null,
   "metadata": {},
   "outputs": [],
   "source": []
  }
 ],
 "metadata": {
  "kernelspec": {
   "display_name": "Python 3",
   "language": "python",
   "name": "python3"
  },
  "language_info": {
   "codemirror_mode": {
    "name": "ipython",
    "version": 3
   },
   "file_extension": ".py",
   "mimetype": "text/x-python",
   "name": "python",
   "nbconvert_exporter": "python",
   "pygments_lexer": "ipython3",
   "version": "3.7.4"
  }
 },
 "nbformat": 4,
 "nbformat_minor": 2
}
