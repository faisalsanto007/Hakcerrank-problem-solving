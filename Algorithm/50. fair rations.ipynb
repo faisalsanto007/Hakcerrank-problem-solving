{
 "cells": [
  {
   "cell_type": "code",
   "execution_count": null,
   "metadata": {},
   "outputs": [],
   "source": [
    "import math\n",
    "import os\n",
    "import random\n",
    "import re\n",
    "import sys\n",
    "\n",
    "# Complete the fairRations function below.\n",
    "def fairRations(B):\n",
    "    suml = 0;\n",
    "    current = -1\n",
    "    paired = -1\n",
    "    distance = 0\n",
    "    total = 0;\n",
    "\n",
    "    for i in B:\n",
    "        suml += i\n",
    "        if(i % 2 == 1 and current == -1):\n",
    "            current = i\n",
    "            paired = -1\n",
    "            distance = 0\n",
    "        elif(current != -1 and i % 2 == 1):\n",
    "            paired = i\n",
    "            current = -1\n",
    "            loavesNeeded = (2 + ((distance + 1) - 1) * 2)\n",
    "            total += loavesNeeded\n",
    "        else:\n",
    "            distance += 1   \n",
    "\n",
    "    if(suml % 2 == 1):\n",
    "        return \"NO\"\n",
    "    else :\n",
    "        return total\n",
    "\n",
    "if __name__ == '__main__':\n",
    "    fptr = open(os.environ['OUTPUT_PATH'], 'w')\n",
    "\n",
    "    N = int(input())\n",
    "\n",
    "    B = list(map(int, input().rstrip().split()))\n",
    "\n",
    "    result = fairRations(B)\n",
    "\n",
    "    fptr.write(str(result) + '\\n')\n",
    "\n",
    "    fptr.close()"
   ]
  }
 ],
 "metadata": {
  "kernelspec": {
   "display_name": "Python 3",
   "language": "python",
   "name": "python3"
  },
  "language_info": {
   "codemirror_mode": {
    "name": "ipython",
    "version": 3
   },
   "file_extension": ".py",
   "mimetype": "text/x-python",
   "name": "python",
   "nbconvert_exporter": "python",
   "pygments_lexer": "ipython3",
   "version": "3.7.4"
  }
 },
 "nbformat": 4,
 "nbformat_minor": 2
}
