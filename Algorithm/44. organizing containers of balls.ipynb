{
 "cells": [
  {
   "cell_type": "code",
   "execution_count": null,
   "metadata": {},
   "outputs": [],
   "source": [
    "q = int(input().strip())\n",
    "\n",
    "for x in range(q):\n",
    "    \n",
    "    n = int(input().strip())\n",
    "    m = []\n",
    "    rowsum = [0]*n\n",
    "    colsum = [0]*n\n",
    "    \n",
    "    for i in range(n):\n",
    "        m.append(list(map(int,input().strip().split(' '))))\n",
    "        rowsum[i] = sum(m[-1])\n",
    "        colsum = list(map(lambda a, b: a+b, colsum, m[-1]))\n",
    "        \n",
    "    rowsum.sort()\n",
    "    colsum.sort()\n",
    "    \n",
    "    if rowsum == colsum:\n",
    "        print('Possible')\n",
    "    else:\n",
    "        print('Impossible')"
   ]
  }
 ],
 "metadata": {
  "kernelspec": {
   "display_name": "Python 3",
   "language": "python",
   "name": "python3"
  },
  "language_info": {
   "codemirror_mode": {
    "name": "ipython",
    "version": 3
   },
   "file_extension": ".py",
   "mimetype": "text/x-python",
   "name": "python",
   "nbconvert_exporter": "python",
   "pygments_lexer": "ipython3",
   "version": "3.7.4"
  }
 },
 "nbformat": 4,
 "nbformat_minor": 2
}
