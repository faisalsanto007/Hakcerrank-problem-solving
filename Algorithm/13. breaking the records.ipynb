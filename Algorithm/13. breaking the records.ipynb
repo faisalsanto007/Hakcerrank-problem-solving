{
 "cells": [
  {
   "cell_type": "code",
   "execution_count": null,
   "metadata": {},
   "outputs": [],
   "source": [
    "def breaking_records(score):\n",
    "    min = max = score[0]\n",
    "    min_count = max_count = 0\n",
    "    for i in score[1:]:\n",
    "        if i > max:\n",
    "            max_count += 1\n",
    "            max = i\n",
    "        if i < min:\n",
    "            min_count += 1\n",
    "            min = i\n",
    "    return max_count, min_count\n",
    "\n",
    "\n",
    "n = int(input())\n",
    "score = list(map(int, input().split()))\n",
    "print(*breaking_records(score))"
   ]
  }
 ],
 "metadata": {
  "kernelspec": {
   "display_name": "Python 3",
   "language": "python",
   "name": "python3"
  },
  "language_info": {
   "codemirror_mode": {
    "name": "ipython",
    "version": 3
   },
   "file_extension": ".py",
   "mimetype": "text/x-python",
   "name": "python",
   "nbconvert_exporter": "python",
   "pygments_lexer": "ipython3",
   "version": "3.7.4"
  }
 },
 "nbformat": 4,
 "nbformat_minor": 2
}
