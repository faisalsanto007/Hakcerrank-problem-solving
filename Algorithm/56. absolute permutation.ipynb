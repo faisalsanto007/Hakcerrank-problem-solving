{
 "cells": [
  {
   "cell_type": "code",
   "execution_count": null,
   "metadata": {},
   "outputs": [],
   "source": [
    "t = int(input())\n",
    "ans = []\n",
    "\n",
    "for _ in range(t):\n",
    "    n,k = map(int,input().split())\n",
    "    ans = [0 for _ in range(n)]\n",
    "    for i in range(1,n+1):\n",
    "        if i-k >0 and ans[i-k-1]==0:\n",
    "            ans[i-k-1] = i\n",
    "        elif i+k <= n and ans[i+k-1] == 0:\n",
    "            ans[i+k-1] = i\n",
    "        else:\n",
    "            break\n",
    "    if 0 in ans:\n",
    "        print(-1)\n",
    "    else:\n",
    "        print(\" \".join(map(str,ans)))\n"
   ]
  }
 ],
 "metadata": {
  "kernelspec": {
   "display_name": "Python 3",
   "language": "python",
   "name": "python3"
  },
  "language_info": {
   "codemirror_mode": {
    "name": "ipython",
    "version": 3
   },
   "file_extension": ".py",
   "mimetype": "text/x-python",
   "name": "python",
   "nbconvert_exporter": "python",
   "pygments_lexer": "ipython3",
   "version": "3.7.4"
  }
 },
 "nbformat": 4,
 "nbformat_minor": 2
}
