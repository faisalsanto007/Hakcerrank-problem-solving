{
 "cells": [
  {
   "cell_type": "code",
   "execution_count": null,
   "metadata": {},
   "outputs": [],
   "source": [
    "n, k = map(int, input().split())\n",
    "hurdles = list(map(int, input().split()))\n",
    "numberOfPotions = max(0, max(hurdles) - k)\n",
    "print(numberOfPotions)"
   ]
  },
  {
   "cell_type": "code",
   "execution_count": null,
   "metadata": {},
   "outputs": [],
   "source": [
    "# another way\n",
    "\n",
    "import sys\n",
    "\n",
    "\n",
    "n,k = raw_input().strip().split(' ')\n",
    "n,k = [int(n),int(k)]\n",
    "height = map(int, raw_input().strip().split(' '))\n",
    "m = max(height)\n",
    "print(m-k if m>k else 0)"
   ]
  },
  {
   "cell_type": "code",
   "execution_count": null,
   "metadata": {},
   "outputs": [],
   "source": [
    "# another way\n",
    "\n",
    "import math\n",
    "import os\n",
    "import random\n",
    "import re\n",
    "import sys\n",
    "\n",
    "# Complete the hurdleRace function below.\n",
    "def hurdleRace(k, height):\n",
    "    maxi = max(height)\n",
    "    if(maxi>k):\n",
    "        return maxi-k\n",
    "    return 0\n",
    "\n",
    "if __name__ == '__main__':\n",
    "    fptr = open(os.environ['OUTPUT_PATH'], 'w')\n",
    "\n",
    "    nk = input().split()\n",
    "\n",
    "    n = int(nk[0])\n",
    "\n",
    "    k = int(nk[1])\n",
    "\n",
    "    height = list(map(int, input().rstrip().split()))\n",
    "\n",
    "    result = hurdleRace(k, height)\n",
    "\n",
    "    fptr.write(str(result) + '\\n')\n",
    "\n",
    "    fptr.close()"
   ]
  }
 ],
 "metadata": {
  "kernelspec": {
   "display_name": "Python 3",
   "language": "python",
   "name": "python3"
  },
  "language_info": {
   "codemirror_mode": {
    "name": "ipython",
    "version": 3
   },
   "file_extension": ".py",
   "mimetype": "text/x-python",
   "name": "python",
   "nbconvert_exporter": "python",
   "pygments_lexer": "ipython3",
   "version": "3.7.4"
  }
 },
 "nbformat": 4,
 "nbformat_minor": 2
}
