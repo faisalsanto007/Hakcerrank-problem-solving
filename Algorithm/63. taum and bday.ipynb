{
 "cells": [
  {
   "cell_type": "markdown",
   "metadata": {},
   "source": [
    "Taum is planning to celebrate the birthday of his friend, Diksha. There are two types of gifts that Diksha wants from Taum: one is black and the other is white. To make her happy, Taum has to buy b black gifts and w white gifts.\n",
    "\n",
    "    The cost of each black gift is bc units.\n",
    "    The cost of every white gift is wc units.\n",
    "    The cost to convert a black gift into white gift or vice versa is z units.\n",
    "\n",
    "Determine the minimum cost of Diksha's gifts."
   ]
  },
  {
   "cell_type": "code",
   "execution_count": null,
   "metadata": {},
   "outputs": [],
   "source": [
    "def taumBday(b, w, x, y, z):\n",
    "    # Complete this function\n",
    "\n",
    "    # x : cost of b\n",
    "    # y : cost of w\n",
    "    # z : cost of b <-> w\n",
    "    return min(x * b + y * w,           # cost with no transformation\n",
    "               (y + z) * b + y * w,     # cost by transforming b into w\n",
    "               x * b + (x + z) * w)     # cost by transforming w into b\n",
    "\n",
    "\n",
    "if __name__ == \"__main__\":\n",
    "    t = int(input().strip())\n",
    "    for a0 in range(t):\n",
    "        b, w = input().strip().split(' ')\n",
    "        b, w = [int(b), int(w)]\n",
    "        x, y, z = input().strip().split(' ')\n",
    "        x, y, z = [int(x), int(y), int(z)]\n",
    "        result = taumBday(b, w, x, y, z)\n",
    "        print(result)"
   ]
  },
  {
   "cell_type": "code",
   "execution_count": null,
   "metadata": {},
   "outputs": [],
   "source": [
    "# python 2\n",
    "\n",
    "t = int(raw_input().strip())\n",
    "def costOfBlackGifts(x,y,z):\n",
    "    if y+z < x:\n",
    "        return y+z\n",
    "    else:\n",
    "        return x\n",
    "    \n",
    "def costOfWhiteGifts(x,y,z):\n",
    "    if x+z < y:\n",
    "        return x+z\n",
    "    else:\n",
    "        return y\n",
    "    \n",
    "for a0 in xrange(t):\n",
    "    b,w = raw_input().strip().split(' ')\n",
    "    b,w = [long(b),long(w)]\n",
    "    x,y,z = raw_input().strip().split(' ')\n",
    "    x,y,z = [long(x),long(y),long(z)]\n",
    "    cost=b*costOfBlackGifts(x,y,z) + w* costOfWhiteGifts(x,y,z)\n",
    "    print cost"
   ]
  },
  {
   "cell_type": "markdown",
   "metadata": {},
   "source": [
    "**Sample Input**\n",
    "\n",
    "    STDIN   Function\n",
    "    -----   --------\n",
    "    5       t = 5\n",
    "    10 10   b = 10, w = 10\n",
    "    1 1 1   bc = 1, wc = 1, z = 1\n",
    "    5 9     b = 5, w = 5\n",
    "    2 3 4   bc = 2, wc = 3, z = 4\n",
    "    3 6     b = 3, w = 6\n",
    "    9 1 1   bc = 9, wc = 1, z = 1\n",
    "    7 7     b = 7, w = 7\n",
    "    4 2 1   bc = 4, wc = 2, z = 1\n",
    "    3 3     b = 3, w = 3\n",
    "    1 9 2   bc = 1, wc = 9, z = 2\n",
    "\n",
    "**Sample Output**\n",
    "\n",
    "    20\n",
    "    37\n",
    "    12\n",
    "    35\n",
    "    12"
   ]
  },
  {
   "cell_type": "code",
   "execution_count": null,
   "metadata": {},
   "outputs": [],
   "source": []
  }
 ],
 "metadata": {
  "kernelspec": {
   "display_name": "Python 3",
   "language": "python",
   "name": "python3"
  },
  "language_info": {
   "codemirror_mode": {
    "name": "ipython",
    "version": 3
   },
   "file_extension": ".py",
   "mimetype": "text/x-python",
   "name": "python",
   "nbconvert_exporter": "python",
   "pygments_lexer": "ipython3",
   "version": "3.7.4"
  }
 },
 "nbformat": 4,
 "nbformat_minor": 2
}
