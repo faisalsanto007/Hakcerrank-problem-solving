{
 "cells": [
  {
   "cell_type": "code",
   "execution_count": null,
   "metadata": {},
   "outputs": [],
   "source": [
    "def pickingNumbers(arr):\n",
    "    result = 0\n",
    "    checked = set()\n",
    "    for i in range(len(arr)):\n",
    "        if i not in checked:\n",
    "            maxCount = max(arr.count(arr[i]) + arr.count(arr[i] + 1), arr.count(arr[i]) + arr.count(arr[i] - 1))\n",
    "            if maxCount > result:\n",
    "                result = maxCount\n",
    "            checked.add(i)\n",
    "    return result\n",
    "\n",
    "\n",
    "n = int(input().strip())\n",
    "arr = list(map(int, input().strip().split(' ')))\n",
    "result = pickingNumbers(arr)\n",
    "print(result)"
   ]
  },
  {
   "cell_type": "code",
   "execution_count": null,
   "metadata": {},
   "outputs": [],
   "source": [
    "# another way\n",
    "\n",
    "from collections import Counter\n",
    "\n",
    "n = int(input().strip())\n",
    "a = [int(a_temp) for a_temp in input().strip().split(' ')]\n",
    "counter = Counter(a)\n",
    "keys = list(counter.keys())\n",
    "print(max([counter[keys[i]] + counter[keys[i+1]] for i in range(len(keys)-1) if keys[i+1]-keys[i]==1] +list(counter.values())))"
   ]
  }
 ],
 "metadata": {
  "kernelspec": {
   "display_name": "Python 3",
   "language": "python",
   "name": "python3"
  },
  "language_info": {
   "codemirror_mode": {
    "name": "ipython",
    "version": 3
   },
   "file_extension": ".py",
   "mimetype": "text/x-python",
   "name": "python",
   "nbconvert_exporter": "python",
   "pygments_lexer": "ipython3",
   "version": "3.7.4"
  }
 },
 "nbformat": 4,
 "nbformat_minor": 2
}
