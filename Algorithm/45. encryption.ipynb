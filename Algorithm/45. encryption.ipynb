{
 "cells": [
  {
   "cell_type": "code",
   "execution_count": null,
   "metadata": {},
   "outputs": [],
   "source": [
    "import math\n",
    "import os\n",
    "\n",
    "# complete the encryption function below.\n",
    "def encryption(s):\n",
    "    L = len(s)\n",
    "    rows = int(math.floor(L**(0.5)))\n",
    "    columns = int(math.ceil(L**(0.5)))\n",
    "    output = \"\"\n",
    "    for i in range(columns):\n",
    "        k = i\n",
    "        for j in range(k,L,columns):\n",
    "            output+=s[j]\n",
    "        output+=\" \"\n",
    "    return output\n",
    "\n",
    "\n",
    "if __name__ == '__main__':\n",
    "    fptr = open(os.environ['OUTPUT_PATH'], 'w')\n",
    "    s = input()\n",
    "    result = encryption(s)\n",
    "    fptr.write(result + '\\n')\n",
    "    fptr.close()"
   ]
  }
 ],
 "metadata": {
  "kernelspec": {
   "display_name": "Python 3",
   "language": "python",
   "name": "python3"
  },
  "language_info": {
   "codemirror_mode": {
    "name": "ipython",
    "version": 3
   },
   "file_extension": ".py",
   "mimetype": "text/x-python",
   "name": "python",
   "nbconvert_exporter": "python",
   "pygments_lexer": "ipython3",
   "version": "3.7.4"
  }
 },
 "nbformat": 4,
 "nbformat_minor": 2
}
