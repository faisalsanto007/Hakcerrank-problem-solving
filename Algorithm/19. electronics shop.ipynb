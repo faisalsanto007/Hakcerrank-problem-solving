{
 "cells": [
  {
   "cell_type": "code",
   "execution_count": null,
   "metadata": {},
   "outputs": [],
   "source": [
    "def getMoneySpent(keyboards, drives, b):\n",
    "    result = -1\n",
    "    for i in range(1, len(keyboards)):\n",
    "        for j in range(1, len(drives)):\n",
    "            if result < keyboards[i] + drives[j] <= b:\n",
    "                result = keyboards[i] + drives[j]\n",
    "    return result\n",
    "\n",
    "\n",
    "b, n, m = map(int, input().split())\n",
    "keyboards = list(map(int, input().rstrip().split()))\n",
    "drives = list(map(int, input().rstrip().split()))\n",
    "moneySpent = getMoneySpent(keyboards, drives, b)\n",
    "print(moneySpent)"
   ]
  },
  {
   "cell_type": "code",
   "execution_count": null,
   "metadata": {},
   "outputs": [],
   "source": [
    "# another way\n",
    "\n",
    "import os\n",
    "import sys\n",
    "\n",
    "def getMoneySpent(keyboards, drives, b):\n",
    "    return max([sum([x,y]) for x in keyboards for y in drives if sum([x,y]) <= b]+[-1])\n",
    "\n",
    "if __name__ == '__main__':\n",
    "    fptr = open(os.environ['OUTPUT_PATH'], 'w')\n",
    "\n",
    "    bnm = input().split()\n",
    "\n",
    "    b = int(bnm[0])\n",
    "\n",
    "    n = int(bnm[1])\n",
    "\n",
    "    m = int(bnm[2])\n",
    "\n",
    "    keyboards = list(map(int, input().rstrip().split()))\n",
    "\n",
    "    drives = list(map(int, input().rstrip().split()))\n",
    "\n",
    "    moneySpent = getMoneySpent(keyboards, drives, b)\n",
    "\n",
    "    fptr.write(str(moneySpent) + '\\n')\n",
    "\n",
    "    fptr.close()"
   ]
  },
  {
   "cell_type": "code",
   "execution_count": null,
   "metadata": {},
   "outputs": [],
   "source": [
    "# another way\n",
    "\n",
    "def getMoneySpent(ks, ds, s):\n",
    "    su = 0\n",
    "    for k in ks:\n",
    "        for d in ds:\n",
    "            if (su < k+d <=s):\n",
    "                su = k + d\n",
    "    if su: return su \n",
    "    else: return \"-1\" \n",
    "    \n",
    "s,n,m = input().strip().split(' ')\n",
    "s,n,m = [int(s),int(n),int(m)]\n",
    "ks = list(map(int, input().strip().split(' ')))\n",
    "ds = list(map(int, input().strip().split(' ')))\n",
    "moneySpent = getMoneySpent(ks, ds, s) \n",
    "print (moneySpent)"
   ]
  }
 ],
 "metadata": {
  "kernelspec": {
   "display_name": "Python 3",
   "language": "python",
   "name": "python3"
  },
  "language_info": {
   "codemirror_mode": {
    "name": "ipython",
    "version": 3
   },
   "file_extension": ".py",
   "mimetype": "text/x-python",
   "name": "python",
   "nbconvert_exporter": "python",
   "pygments_lexer": "ipython3",
   "version": "3.7.4"
  }
 },
 "nbformat": 4,
 "nbformat_minor": 2
}
