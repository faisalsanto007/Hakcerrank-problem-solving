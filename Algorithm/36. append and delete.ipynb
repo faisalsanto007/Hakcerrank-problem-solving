{
 "cells": [
  {
   "cell_type": "code",
   "execution_count": null,
   "metadata": {},
   "outputs": [],
   "source": [
    "import sys\n",
    "\n",
    "\n",
    "s = input().strip()\n",
    "t = input().strip()\n",
    "k = int(input().strip())\n",
    "\n",
    "lead = 0\n",
    "for i in range(min(len(s),len(t))):\n",
    "    if s[i] != t[i]:\n",
    "        lead = i\n",
    "        break\n",
    "    else:\n",
    "        lead = i + 1\n",
    "        \n",
    "d = len(s) - lead + len(t) - lead\n",
    "\n",
    "if k >= len(s) + len(t):\n",
    "    print(\"Yes\")\n",
    "elif d <= k and (d % 2) == (k % 2):\n",
    "    print(\"Yes\")\n",
    "else:\n",
    "    print(\"No\")"
   ]
  }
 ],
 "metadata": {
  "kernelspec": {
   "display_name": "Python 3",
   "language": "python",
   "name": "python3"
  },
  "language_info": {
   "codemirror_mode": {
    "name": "ipython",
    "version": 3
   },
   "file_extension": ".py",
   "mimetype": "text/x-python",
   "name": "python",
   "nbconvert_exporter": "python",
   "pygments_lexer": "ipython3",
   "version": "3.7.4"
  }
 },
 "nbformat": 4,
 "nbformat_minor": 2
}
