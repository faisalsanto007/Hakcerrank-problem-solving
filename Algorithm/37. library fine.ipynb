{
 "cells": [
  {
   "cell_type": "code",
   "execution_count": null,
   "metadata": {},
   "outputs": [],
   "source": [
    "def calcFine(Ddiff, Mdiff, Ydiff):\n",
    "    fine = 0\n",
    "    if   Ydiff > 0: fine += 10000\n",
    "    elif Ydiff < 0: return 0\n",
    "    elif Mdiff > 0: fine += 500 * Mdiff\n",
    "    elif Mdiff < 0: return 0\n",
    "    elif Ddiff > 0: fine += 15 * Ddiff\n",
    "    else: return 0\n",
    "    return fine\n",
    "\n",
    "Da, Ma, Ya = map(int, input().split())\n",
    "De, Me, Ye = map(int, input().split())\n",
    "print(calcFine(Da - De, Ma - Me, Ya - Ye))"
   ]
  }
 ],
 "metadata": {
  "kernelspec": {
   "display_name": "Python 3",
   "language": "python",
   "name": "python3"
  },
  "language_info": {
   "codemirror_mode": {
    "name": "ipython",
    "version": 3
   },
   "file_extension": ".py",
   "mimetype": "text/x-python",
   "name": "python",
   "nbconvert_exporter": "python",
   "pygments_lexer": "ipython3",
   "version": "3.7.4"
  }
 },
 "nbformat": 4,
 "nbformat_minor": 2
}
