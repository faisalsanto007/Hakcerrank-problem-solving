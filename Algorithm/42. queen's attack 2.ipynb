{
 "cells": [
  {
   "cell_type": "code",
   "execution_count": null,
   "metadata": {},
   "outputs": [],
   "source": [
    "import sys\n",
    "\n",
    "\n",
    "n,k = input().strip().split(' ')\n",
    "n,k = [int(n),int(k)]\n",
    "rQueen,cQueen = input().strip().split(' ')\n",
    "rQueen,cQueen = [int(rQueen),int(cQueen)]\n",
    "ObList = []\n",
    "for a0 in range(k):\n",
    "    rObstacle,cObstacle = input().strip().split(' ')\n",
    "    rObstacle,cObstacle = [int(rObstacle),int(cObstacle)]\n",
    "    # your code goes here\n",
    "    ObList.append((rObstacle,cObstacle))\n",
    "ObSet = set(ObList)\n",
    "Delta = [(0,1),(1,1),(1,0),(0,-1),(-1,-1),(-1,0),(1,-1),(-1,1)]\n",
    "Count = 0\n",
    "for shift in Delta:\n",
    "    Pos = (rQueen,cQueen)\n",
    "    while Pos[0] + shift[0] >=1 and Pos[0] + shift[0] <= n and Pos[1] + shift[1] >=1 and Pos[1] + shift[1] <= n:\n",
    "        Pos = (Pos[0]+shift[0],Pos[1]+shift[1])\n",
    "        if Pos in ObSet:\n",
    "            break\n",
    "        Count += 1\n",
    "print(Count)"
   ]
  }
 ],
 "metadata": {
  "kernelspec": {
   "display_name": "Python 3",
   "language": "python",
   "name": "python3"
  },
  "language_info": {
   "codemirror_mode": {
    "name": "ipython",
    "version": 3
   },
   "file_extension": ".py",
   "mimetype": "text/x-python",
   "name": "python",
   "nbconvert_exporter": "python",
   "pygments_lexer": "ipython3",
   "version": "3.7.4"
  }
 },
 "nbformat": 4,
 "nbformat_minor": 2
}
