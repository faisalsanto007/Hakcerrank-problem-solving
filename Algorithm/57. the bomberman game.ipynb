{
 "cells": [
  {
   "cell_type": "code",
   "execution_count": null,
   "metadata": {},
   "outputs": [],
   "source": [
    "def bomb(r, c, grid, t):\n",
    "    complete_grid = [ [\"O\"]*c for i in range(r) ]\n",
    "    stable_grid = [ [\"O\"]*c for i in range(r) ]\n",
    "    other_grid = [ [\"O\"]*c for i in range(r) ]\n",
    "    for i in range(r):\n",
    "        for j in range(c):\n",
    "            if grid[i][j] == \"O\":\n",
    "                other_grid[i][j] = \".\"\n",
    "                if i>0:\n",
    "                    other_grid[i-1][j] = \".\"\n",
    "                if j>0:\n",
    "                    other_grid[i][j-1] = \".\"\n",
    "                if i<r-1:\n",
    "                    other_grid[i+1][j] = \".\"\n",
    "                if j<c-1:\n",
    "                    other_grid[i][j+1] = \".\"\n",
    "    for i in range(r):\n",
    "        for j in range(c):\n",
    "            if other_grid[i][j] == \"O\":\n",
    "                stable_grid[i][j] = \".\"\n",
    "                if i>0:\n",
    "                    stable_grid[i-1][j] = \".\"\n",
    "                if j>0:\n",
    "                    stable_grid[i][j-1] = \".\"\n",
    "                if i<r-1:\n",
    "                    stable_grid[i+1][j] = \".\"\n",
    "                if j<c-1:\n",
    "                    stable_grid[i][j+1] = \".\"\n",
    "   \n",
    "    if t==0 or t==1:\n",
    "        return grid\n",
    "    if (t-1)%2==0 and not (t-1)%4==0:\n",
    "        return other_grid\n",
    "    if (t-1)%4==0:\n",
    "        return stable_grid\n",
    "    if t%2==0:\n",
    "        return complete_grid\n",
    "grid = []\n",
    "r, c, t = map(int, input().split())\n",
    "for _ in range(r):\n",
    "    row = [ l for l in input() ]\n",
    "    grid.append(row)\n",
    "res = \"\\n\".join([ \"\".join(line) for line in bomb(r, c, grid, t) ]) \n",
    "print(res)"
   ]
  }
 ],
 "metadata": {
  "kernelspec": {
   "display_name": "Python 3",
   "language": "python",
   "name": "python3"
  },
  "language_info": {
   "codemirror_mode": {
    "name": "ipython",
    "version": 3
   },
   "file_extension": ".py",
   "mimetype": "text/x-python",
   "name": "python",
   "nbconvert_exporter": "python",
   "pygments_lexer": "ipython3",
   "version": "3.7.4"
  }
 },
 "nbformat": 4,
 "nbformat_minor": 2
}
