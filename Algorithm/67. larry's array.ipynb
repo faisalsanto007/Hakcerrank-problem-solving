{
 "cells": [
  {
   "cell_type": "code",
   "execution_count": null,
   "metadata": {},
   "outputs": [],
   "source": [
    "# Some explanations:\n",
    "# - the permutation ABC-> BCA-> CAB has an even signature (https://en.wikipedia.org/wiki/Parity_of_a_permutation)\n",
    "# - the parity of a permutation does not change the number of cycles\n",
    "# - the identity permutation is even\n",
    "# - So for the set to be orderable with the given permutation, the parity (i.e. the number of inversions) must be even\n",
    "# Read here also: https://en.wikipedia.org/wiki/Inversion_(discrete_mathematics)\n",
    "\n",
    "import itertools\n",
    "\n",
    "for _ in range(int(input())):\n",
    "    n = input()\n",
    "    A = list(map(int, input().split()))\n",
    "\n",
    "    # calculate the number of inversions of A []\n",
    "    inversions = 0\n",
    "    for i in itertools.combinations(A, 2):\n",
    "        if i[0] > i[1]:\n",
    "            inversions += 1\n",
    "\n",
    "    if inversions % 2 == 0:\n",
    "        print(\"YES\")\n",
    "    else:\n",
    "        print(\"NO\")"
   ]
  }
 ],
 "metadata": {
  "kernelspec": {
   "display_name": "Python 3",
   "language": "python",
   "name": "python3"
  },
  "language_info": {
   "codemirror_mode": {
    "name": "ipython",
    "version": 3
   },
   "file_extension": ".py",
   "mimetype": "text/x-python",
   "name": "python",
   "nbconvert_exporter": "python",
   "pygments_lexer": "ipython3",
   "version": "3.7.4"
  }
 },
 "nbformat": 4,
 "nbformat_minor": 2
}
