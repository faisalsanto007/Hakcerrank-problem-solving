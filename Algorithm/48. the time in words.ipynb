{
 "cells": [
  {
   "cell_type": "code",
   "execution_count": null,
   "metadata": {},
   "outputs": [],
   "source": [
    "h = int(input().strip())\n",
    "m = int(input().strip())\n",
    "\n",
    "d = dict(enumerate(['one', 'two', \"three\", \"four\", 'five', \"six\",\"seven\",\"eight\", \"nine\",\"ten\",\"eleven\",\"twelve\", 'thirteen', 'fourteen'], 1))\n",
    "\n",
    "if m == 0:\n",
    "    print(\"{} o' clock\".format(d[h]))\n",
    "elif m == 1:\n",
    "    print(\"one minute past {}\".format(d[h]))\n",
    "elif 1 < m < 15:\n",
    "    print('{0} minutes past {1}'.format(d[m], d[h]))\n",
    "elif m == 15:\n",
    "    print('quarter past {}'.format(d[h]))\n",
    "elif 15 < m < 20:\n",
    "    print('{0}teen minutes past {1}'.format(d[m-10], d[h]))\n",
    "elif m == 20:\n",
    "    print('twenty minutes past {}'.format(d[h]))\n",
    "elif 20 < m < 30:\n",
    "    print('twenty {0} minutes past {1}'.format(d[m-20], d[h]))\n",
    "elif m == 30:\n",
    "    print('half past {}'.format(d[h]))\n",
    "elif 30 < m < 40:\n",
    "    print('twenty {0} minutes to {1}'.format(d[40-m], d[h+1]))\n",
    "elif m == 40:\n",
    "    print('twenty minutes to {}'.format(d[h+1]))\n",
    "elif 40 < m < 45:\n",
    "    print('{0}teen minutes to {1}'.format(d[h]))\n",
    "elif m == 45:\n",
    "    print('quarter to {}'.format(d[h+1]))\n",
    "elif 45 < m < 59:\n",
    "    print('{0} minutes to {1}'.format(d[60-m], d[h+1]))\n",
    "elif m == 59:\n",
    "    print(\"one minute to {}\".format(d[h+1]))"
   ]
  }
 ],
 "metadata": {
  "kernelspec": {
   "display_name": "Python 3",
   "language": "python",
   "name": "python3"
  },
  "language_info": {
   "codemirror_mode": {
    "name": "ipython",
    "version": 3
   },
   "file_extension": ".py",
   "mimetype": "text/x-python",
   "name": "python",
   "nbconvert_exporter": "python",
   "pygments_lexer": "ipython3",
   "version": "3.7.4"
  }
 },
 "nbformat": 4,
 "nbformat_minor": 2
}
