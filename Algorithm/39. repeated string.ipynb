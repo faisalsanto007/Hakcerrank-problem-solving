{
 "cells": [
  {
   "cell_type": "code",
   "execution_count": null,
   "metadata": {},
   "outputs": [],
   "source": [
    "def repeated_string(s, n):\n",
    "    return n // len(s) * s.count('a') + s[0: n % len(s)].count('a')\n",
    "\n",
    "\n",
    "s = input()\n",
    "n = int(input())\n",
    "print(repeated_string(s, n))"
   ]
  },
  {
   "cell_type": "code",
   "execution_count": null,
   "metadata": {},
   "outputs": [],
   "source": [
    "# another way\n",
    "\n",
    "import sys\n",
    "\n",
    "\n",
    "s = input().strip()\n",
    "n = int(input().strip())\n",
    "c = s.count('a')\n",
    "c *= n//len(s)\n",
    "q = n%len(s)\n",
    "c += s[:q].count('a')\n",
    "print (c)"
   ]
  }
 ],
 "metadata": {
  "kernelspec": {
   "display_name": "Python 3",
   "language": "python",
   "name": "python3"
  },
  "language_info": {
   "codemirror_mode": {
    "name": "ipython",
    "version": 3
   },
   "file_extension": ".py",
   "mimetype": "text/x-python",
   "name": "python",
   "nbconvert_exporter": "python",
   "pygments_lexer": "ipython3",
   "version": "3.7.4"
  }
 },
 "nbformat": 4,
 "nbformat_minor": 2
}
