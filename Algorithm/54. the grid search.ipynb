{
 "cells": [
  {
   "cell_type": "code",
   "execution_count": null,
   "metadata": {},
   "outputs": [],
   "source": [
    "def solve(R, C, G, r, c, P):\n",
    "    for i in range(R-r+1):\n",
    "        for j in range(C-c+1):\n",
    "            found = True\n",
    "            for k in range(r):\n",
    "                if P[k] != G[i+k][j:j+c]:\n",
    "                    found = False\n",
    "                    break\n",
    "            if found:\n",
    "                return \"YES\"\n",
    "    return \"NO\"\n",
    "            \n",
    "T = int(input())\n",
    "for _ in range(T):\n",
    "    R, C = (int(x) for x in input().strip().split())\n",
    "    G = [input().strip() for i in range(R)]\n",
    "    \n",
    "    r, c = (int(x) for x in input().strip().split())\n",
    "    P = [input().strip() for i in range(r)]\n",
    "    \n",
    "    print(solve(R, C, G, r, c, P))\n"
   ]
  }
 ],
 "metadata": {
  "kernelspec": {
   "display_name": "Python 3",
   "language": "python",
   "name": "python3"
  },
  "language_info": {
   "codemirror_mode": {
    "name": "ipython",
    "version": 3
   },
   "file_extension": ".py",
   "mimetype": "text/x-python",
   "name": "python",
   "nbconvert_exporter": "python",
   "pygments_lexer": "ipython3",
   "version": "3.7.4"
  }
 },
 "nbformat": 4,
 "nbformat_minor": 2
}
