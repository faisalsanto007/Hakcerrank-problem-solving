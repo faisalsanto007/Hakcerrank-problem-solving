{
 "cells": [
  {
   "cell_type": "code",
   "execution_count": 1,
   "metadata": {},
   "outputs": [
    {
     "name": "stdout",
     "output_type": "stream",
     "text": [
      "4\n",
      "1112\n",
      "1912\n",
      "1892\n",
      "1234\n",
      "1112\n",
      "1X12\n",
      "18X2\n",
      "1234\n"
     ]
    }
   ],
   "source": [
    "import sys\n",
    "\n",
    "\n",
    "n = int(input().strip())\n",
    "grid = []\n",
    "grid_i = 0\n",
    "for grid_i in range(n):\n",
    "   grid_t = str(input().strip())\n",
    "   grid.append(grid_t)\n",
    "for i in range(1,len(grid)-1):\n",
    "    for j in range(1,len(grid[0])-1):\n",
    "        if grid[i][j] > grid[i+1][j] and grid[i][j] > grid[i][j+1] and grid[i][j] > grid[i-1][j] and grid[i][j] > grid[i][j-1]:\n",
    "            grid[i] = grid[i][:j] + \"X\" + grid[i][j+1:]\n",
    "\n",
    "for k in grid:\n",
    "    print(k)"
   ]
  },
  {
   "cell_type": "code",
   "execution_count": null,
   "metadata": {},
   "outputs": [],
   "source": []
  }
 ],
 "metadata": {
  "kernelspec": {
   "display_name": "Python 3",
   "language": "python",
   "name": "python3"
  },
  "language_info": {
   "codemirror_mode": {
    "name": "ipython",
    "version": 3
   },
   "file_extension": ".py",
   "mimetype": "text/x-python",
   "name": "python",
   "nbconvert_exporter": "python",
   "pygments_lexer": "ipython3",
   "version": "3.7.4"
  }
 },
 "nbformat": 4,
 "nbformat_minor": 2
}
