{
 "cells": [
  {
   "cell_type": "markdown",
   "metadata": {},
   "source": [
    "John Watson knows of an operation called a right circular rotation on an array of integers. One rotation operation moves the last array element to the first position and shifts all remaining elements right one. To test Sherlock's abilities, Watson provides Sherlock with an array of integers. Sherlock is to perform the rotation operation a number of times then determine the value of the element at a given position.\n",
    "\n",
    "For each array, perform a number of right circular rotations and return the values of the elements at the given indices."
   ]
  },
  {
   "cell_type": "code",
   "execution_count": null,
   "metadata": {},
   "outputs": [],
   "source": [
    "n,k,q = raw_input().strip().split(' ')\n",
    "n,k,q = [int(n),int(k),int(q)]\n",
    "a = map(int,raw_input().strip().split(' '))\n",
    "\n",
    "#print a    \n",
    "if k%n!=0:\n",
    "    k=k%n\n",
    "    for i in range(k):\n",
    "        last=a[-1]\n",
    "        a=a[:-1]\n",
    "        a.insert(0,last)\n",
    "    \n",
    "for a0 in xrange(q):\n",
    "    m = int(raw_input().strip())\n",
    "    print a[m]"
   ]
  },
  {
   "cell_type": "code",
   "execution_count": null,
   "metadata": {},
   "outputs": [],
   "source": [
    "if __name__ == \"__main__\":\n",
    "    n, k, q = map(int, input().split())\n",
    "    a = list(map(int, input().split()))\n",
    "\n",
    "    # make the circular rotation\n",
    "    # in Python, it's ultra-simple\n",
    "    k = n - k % n\n",
    "    a = a[k:] + a[:k]\n",
    "\n",
    "    for _ in range(q):\n",
    "        i = int(input())\n",
    "        print(a[i])"
   ]
  },
  {
   "cell_type": "markdown",
   "metadata": {},
   "source": [
    "**Sample Input 0**\n",
    "\n",
    "    3 2 3\n",
    "    1 2 3\n",
    "    0\n",
    "    1\n",
    "    2\n",
    "\n",
    "**Sample Output 0**\n",
    "\n",
    "    2\n",
    "    3\n",
    "    1\n",
    "\n",
    "**Explanation 0**\n",
    "\n",
    "    After the first rotation, the array is [3,1,2].\n",
    "    After the second (and final) rotation, the array is [2,3,1].\n",
    "\n",
    "    We will call this final state array b = [2,3,1]. For each query, we just have to get the value of b[queries[i]].\n",
    "\n",
    "    1. queries[0] = 0, b[0] = 2.\n",
    "    2. queries[1] = 1, b[1] = 3.\n",
    "    3. queries[2] = 2, b[2] = 1."
   ]
  },
  {
   "cell_type": "code",
   "execution_count": null,
   "metadata": {},
   "outputs": [],
   "source": []
  }
 ],
 "metadata": {
  "kernelspec": {
   "display_name": "Python 3",
   "language": "python",
   "name": "python3"
  },
  "language_info": {
   "codemirror_mode": {
    "name": "ipython",
    "version": 3
   },
   "file_extension": ".py",
   "mimetype": "text/x-python",
   "name": "python",
   "nbconvert_exporter": "python",
   "pygments_lexer": "ipython3",
   "version": "3.7.4"
  }
 },
 "nbformat": 4,
 "nbformat_minor": 2
}
