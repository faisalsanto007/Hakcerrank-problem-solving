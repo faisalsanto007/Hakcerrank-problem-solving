{
 "cells": [
  {
   "cell_type": "code",
   "execution_count": null,
   "metadata": {},
   "outputs": [],
   "source": [
    "# python 2\n",
    "\n",
    "import sys\n",
    "\n",
    "\n",
    "t = int(raw_input().strip())\n",
    "for a0 in xrange(t):\n",
    "    n,k = raw_input().strip().split(' ')\n",
    "    n,k = [int(n),int(k)]\n",
    "    a = map(int,raw_input().strip().split(' '))\n",
    "    s = 0\n",
    "    for i in a:\n",
    "        if i <= 0:\n",
    "            s += 1\n",
    "    if s >= k:\n",
    "        print \"NO\"\n",
    "    else:\n",
    "        print \"YES\""
   ]
  },
  {
   "cell_type": "code",
   "execution_count": null,
   "metadata": {},
   "outputs": [],
   "source": [
    "# another way\n",
    "\n",
    "import math\n",
    "import os\n",
    "import random\n",
    "import re\n",
    "import sys\n",
    "\n",
    "# Complete the angryProfessor function below.\n",
    "def angryProfessor(k, a):\n",
    "    count=0\n",
    "    for i in range(len(a)):\n",
    "        if(a[i]<=0):\n",
    "            count+=1\n",
    "    if(count>=k):\n",
    "        return \"NO\"\n",
    "    return \"YES\"\n",
    "\n",
    "if __name__ == '__main__':\n",
    "    fptr = open(os.environ['OUTPUT_PATH'], 'w')\n",
    "\n",
    "    t = int(input())\n",
    "\n",
    "    for t_itr in range(t):\n",
    "        nk = input().split()\n",
    "\n",
    "        n = int(nk[0])\n",
    "\n",
    "        k = int(nk[1])\n",
    "\n",
    "        a = list(map(int, input().rstrip().split()))\n",
    "\n",
    "        result = angryProfessor(k, a)\n",
    "\n",
    "        fptr.write(result + '\\n')\n",
    "\n",
    "    fptr.close()"
   ]
  }
 ],
 "metadata": {
  "kernelspec": {
   "display_name": "Python 3",
   "language": "python",
   "name": "python3"
  },
  "language_info": {
   "codemirror_mode": {
    "name": "ipython",
    "version": 3
   },
   "file_extension": ".py",
   "mimetype": "text/x-python",
   "name": "python",
   "nbconvert_exporter": "python",
   "pygments_lexer": "ipython3",
   "version": "3.7.4"
  }
 },
 "nbformat": 4,
 "nbformat_minor": 2
}
