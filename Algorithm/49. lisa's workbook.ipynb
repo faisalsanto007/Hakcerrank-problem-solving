{
 "cells": [
  {
   "cell_type": "code",
   "execution_count": null,
   "metadata": {},
   "outputs": [],
   "source": [
    "def lisas_workbook(n,k,a):\n",
    "\n",
    "    num_special=0\n",
    "    cur_page=1\n",
    "\n",
    "    for i in range(len(a)):\n",
    "\n",
    "        num_probs_in_chapter=a[i]\n",
    "        num_full_pages, leftover_probs = divmod(num_probs_in_chapter, k)\n",
    "\n",
    "        total_pages = num_full_pages + ( 1 if leftover_probs else 0 )\n",
    "        problems_in_chapter=iter(range(1, a[i]+1))\n",
    "\n",
    "        for _ in range(total_pages):\n",
    "            probs_on_page = [next(problems_in_chapter, None) for _ in range(k)]    \n",
    "            if cur_page in probs_on_page:\n",
    "                num_special+=1\n",
    "            cur_page+=1        \n",
    "    return num_special\n",
    "\n",
    "def splitit(a):\n",
    "    l = []\n",
    "    for i in a:\n",
    "        l += [int(i)]\n",
    "    return l\n",
    "n = splitit(input().split())\n",
    "l = splitit(input().split())\n",
    "\n",
    "print(lisas_workbook(n[0],n[1],l))"
   ]
  }
 ],
 "metadata": {
  "kernelspec": {
   "display_name": "Python 3",
   "language": "python",
   "name": "python3"
  },
  "language_info": {
   "codemirror_mode": {
    "name": "ipython",
    "version": 3
   },
   "file_extension": ".py",
   "mimetype": "text/x-python",
   "name": "python",
   "nbconvert_exporter": "python",
   "pygments_lexer": "ipython3",
   "version": "3.7.4"
  }
 },
 "nbformat": 4,
 "nbformat_minor": 2
}
