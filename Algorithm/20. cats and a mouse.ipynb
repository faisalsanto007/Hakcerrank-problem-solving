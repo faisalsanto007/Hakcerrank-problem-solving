{
 "cells": [
  {
   "cell_type": "code",
   "execution_count": null,
   "metadata": {},
   "outputs": [],
   "source": [
    "def catAndMouse(catA, catB, mouseC):\n",
    "    distanceA = abs(catA - mouseC)\n",
    "    distanceB = abs(catB - mouseC)\n",
    "    if distanceA > distanceB:\n",
    "        print('Cat B')\n",
    "    elif distanceA == distanceB:\n",
    "        print('Mouse C')\n",
    "    else:\n",
    "        print('Cat A')\n",
    "\n",
    "\n",
    "n = int(input())\n",
    "for i in range(n):\n",
    "    catA, catB, mouseC = map(int, input().split())\n",
    "    catAndMouse(catA, catB, mouseC)"
   ]
  },
  {
   "cell_type": "code",
   "execution_count": null,
   "metadata": {},
   "outputs": [],
   "source": [
    "# python 2\n",
    "\n",
    "import sys\n",
    "\n",
    "\n",
    "q = int(raw_input().strip())\n",
    "for a0 in xrange(q):\n",
    "    x,y,z = raw_input().strip().split(' ')\n",
    "    x,y,z = [int(x),int(y),int(z)]\n",
    "    if abs(x-z) == abs(y-z):\n",
    "        print 'Mouse C'\n",
    "    elif abs(x-z)<abs(y-z):\n",
    "        print 'Cat A'\n",
    "    else:\n",
    "        print 'Cat B'"
   ]
  }
 ],
 "metadata": {
  "kernelspec": {
   "display_name": "Python 3",
   "language": "python",
   "name": "python3"
  },
  "language_info": {
   "codemirror_mode": {
    "name": "ipython",
    "version": 3
   },
   "file_extension": ".py",
   "mimetype": "text/x-python",
   "name": "python",
   "nbconvert_exporter": "python",
   "pygments_lexer": "ipython3",
   "version": "3.7.4"
  }
 },
 "nbformat": 4,
 "nbformat_minor": 2
}
