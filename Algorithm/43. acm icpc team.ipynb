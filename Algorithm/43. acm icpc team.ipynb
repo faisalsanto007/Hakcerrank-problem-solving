{
 "cells": [
  {
   "cell_type": "code",
   "execution_count": null,
   "metadata": {},
   "outputs": [],
   "source": [
    "import itertools\n",
    "\n",
    "N,M = map(int,input().strip().split())\n",
    "knowledge=[]\n",
    "for i in range(N):\n",
    "    knowledge.append(int(input(),2))\n",
    "mx = -float('inf')\n",
    "teams=0\n",
    "for p1,p2 in itertools.combinations(range(N),2):\n",
    "    combined_topics = bin(knowledge[p1]|knowledge[p2]).count('1')\n",
    "    if (combined_topics==mx):\n",
    "        teams+=1\n",
    "    elif (combined_topics>mx):\n",
    "        mx = combined_topics\n",
    "        teams=1\n",
    "\n",
    "print(mx,teams,sep='\\n')"
   ]
  }
 ],
 "metadata": {
  "kernelspec": {
   "display_name": "Python 3",
   "language": "python",
   "name": "python3"
  },
  "language_info": {
   "codemirror_mode": {
    "name": "ipython",
    "version": 3
   },
   "file_extension": ".py",
   "mimetype": "text/x-python",
   "name": "python",
   "nbconvert_exporter": "python",
   "pygments_lexer": "ipython3",
   "version": "3.7.4"
  }
 },
 "nbformat": 4,
 "nbformat_minor": 2
}
