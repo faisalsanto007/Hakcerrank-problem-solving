{
 "cells": [
  {
   "cell_type": "markdown",
   "metadata": {},
   "source": [
    "Two children, Lily and Ron, want to share a chocolate bar. Each of the squares has an integer on it.\n",
    "\n",
    "Lily decides to share a contiguous segment of the bar selected such that:\n",
    "\n",
    "    The length of the segment matches Ron's birth month, and,\n",
    "    The sum of the integers on the squares is equal to his birth day.\n",
    "\n",
    "Determine how many ways she can divide the chocolate.\n",
    "\n",
    "**Example**\n",
    "\n",
    "    s = [2,2,1,3,2]\n",
    "    d = 4\n",
    "    m = 2\n",
    "\n",
    "Lily wants to find segments summing to Ron's birth day, d = 4 with a length equalling his birth month, m = 2. In this case, there are two segments meeting her criteria: [2,2] and [1,3]."
   ]
  },
  {
   "cell_type": "code",
   "execution_count": null,
   "metadata": {},
   "outputs": [],
   "source": [
    "#!/bin/python3\n",
    "\n",
    "import math\n",
    "import os\n",
    "import random\n",
    "import re\n",
    "import sys\n",
    "\n",
    "# Complete the birthday function below.\n",
    "def birthday(s, d, m):\n",
    "    return sum([1 for i in range(len(s)-m+1) if sum(s[i:i+m])==d])\n",
    "\n",
    "if __name__ == '__main__':\n",
    "    fptr = open(os.environ['OUTPUT_PATH'], 'w')\n",
    "\n",
    "    n = int(input().strip())\n",
    "\n",
    "    s = list(map(int, input().rstrip().split()))\n",
    "\n",
    "    dm = input().rstrip().split()\n",
    "\n",
    "    d = int(dm[0])\n",
    "\n",
    "    m = int(dm[1])\n",
    "\n",
    "    result = birthday(s, d, m)\n",
    "\n",
    "    fptr.write(str(result) + '\\n')\n",
    "\n",
    "    fptr.close()\n"
   ]
  },
  {
   "attachments": {
    "1489060874-a04ddb06cf-choco4.png": {
     "image/png": "[encoded data removed]"
    },
    "1489060978-e33d905668-choco5.png": {
     "image/png": "[encoded data removed]"
    }
   },
   "cell_type": "markdown",
   "metadata": {},
   "source": [
    "**Sample Input 0**\n",
    "\n",
    "    5\n",
    "    1 2 1 3 2\n",
    "    3 2\n",
    "\n",
    "**Sample Output 0**\n",
    "\n",
    "    2\n",
    "\n",
    "**Explanation 0**\n",
    "\n",
    "Lily wants to give Ron m=2 squares summing to d=3. The following two segments meet the criteria:\n",
    "\n",
    "![1489060874-a04ddb06cf-choco4.png](attachment:1489060874-a04ddb06cf-choco4.png)\n",
    "\n",
    "**Sample Input 1**\n",
    "\n",
    "    6\n",
    "    1 1 1 1 1 1\n",
    "    3 2\n",
    "\n",
    "**Sample Output 1**\n",
    "\n",
    "    0\n",
    "\n",
    "**Explanation 1**\n",
    "\n",
    "Lily only wants to give Ron m=2 consecutive squares of chocolate whose integers sum to d=3. There are no possible pieces satisfying these constraints:\n",
    "\n",
    "![1489060978-e33d905668-choco5.png](attachment:1489060978-e33d905668-choco5.png)\n",
    "\n",
    "Thus, we print 0 as our answer.\n",
    "\n",
    "**Sample Input 2**\n",
    "\n",
    "    1\n",
    "    4\n",
    "    4 1\n",
    "\n",
    "**Sample Output 2**\n",
    "\n",
    "    1\n",
    "\n",
    "**Explanation 2**\n",
    "\n",
    "Lily only wants to give Ron m=1 square of chocolate with an integer value of d=4. Because the only square of chocolate in the bar satisfies this constraint, we print 1 as our answer."
   ]
  },
  {
   "cell_type": "code",
   "execution_count": null,
   "metadata": {},
   "outputs": [],
   "source": []
  }
 ],
 "metadata": {
  "kernelspec": {
   "display_name": "Python 3",
   "language": "python",
   "name": "python3"
  },
  "language_info": {
   "codemirror_mode": {
    "name": "ipython",
    "version": 3
   },
   "file_extension": ".py",
   "mimetype": "text/x-python",
   "name": "python",
   "nbconvert_exporter": "python",
   "pygments_lexer": "ipython3",
   "version": "3.7.4"
  }
 },
 "nbformat": 4,
 "nbformat_minor": 2
}
