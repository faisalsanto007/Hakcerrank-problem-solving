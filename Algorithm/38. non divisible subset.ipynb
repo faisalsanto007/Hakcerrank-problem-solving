{
 "cells": [
  {
   "cell_type": "code",
   "execution_count": null,
   "metadata": {},
   "outputs": [],
   "source": [
    "n,k = input().strip().split(' ')\n",
    "n,k = [int(n),int(k)]\n",
    "a = map(int,input().strip().split(' '))\n",
    "cnt = [0]*k\n",
    "for x in a:\n",
    "    cnt[x % k] += 1\n",
    "i, j, r = 1, k-1, 0\n",
    "if cnt[0] > 0:\n",
    "    r += 1\n",
    "while i < j:\n",
    "    r += max(cnt[i],cnt[j])\n",
    "    i, j = i+1, j-1\n",
    "if i == j and cnt[i] > 0:\n",
    "    r += 1\n",
    "print(r)"
   ]
  }
 ],
 "metadata": {
  "kernelspec": {
   "display_name": "Python 3",
   "language": "python",
   "name": "python3"
  },
  "language_info": {
   "codemirror_mode": {
    "name": "ipython",
    "version": 3
   },
   "file_extension": ".py",
   "mimetype": "text/x-python",
   "name": "python",
   "nbconvert_exporter": "python",
   "pygments_lexer": "ipython3",
   "version": "3.7.4"
  }
 },
 "nbformat": 4,
 "nbformat_minor": 2
}
