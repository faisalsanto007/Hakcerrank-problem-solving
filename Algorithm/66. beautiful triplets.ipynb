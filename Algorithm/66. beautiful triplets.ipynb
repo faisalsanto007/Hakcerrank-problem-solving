{
 "cells": [
  {
   "cell_type": "code",
   "execution_count": null,
   "metadata": {},
   "outputs": [],
   "source": [
    "def beautifulTriplets(d, arr):\n",
    "\n",
    "    # use an indirection to verify the existence of the triplet\n",
    "    # (otherwise it may be too slow). here algo in O (n)\n",
    "\n",
    "    numbers = [False] * (20000 + 1)\n",
    "    nb = 0\n",
    "\n",
    "    for a in arr:\n",
    "        # do we have a triplet?\n",
    "        if a - 2 * d >= 0 and numbers[a - d] and numbers[a - 2 * d]:\n",
    "            nb += 1\n",
    "        # memorizes the presence of the number\n",
    "        numbers[a] = True\n",
    "    return nb\n",
    "\n",
    "\n",
    "if __name__ == \"__main__\":\n",
    "    n, d = map(int, input().split())\n",
    "    arr = list(map(int, input().split()))\n",
    "    result = beautifulTriplets(d, arr)\n",
    "    print(result)"
   ]
  },
  {
   "cell_type": "code",
   "execution_count": null,
   "metadata": {},
   "outputs": [],
   "source": []
  }
 ],
 "metadata": {
  "kernelspec": {
   "display_name": "Python 3",
   "language": "python",
   "name": "python3"
  },
  "language_info": {
   "codemirror_mode": {
    "name": "ipython",
    "version": 3
   },
   "file_extension": ".py",
   "mimetype": "text/x-python",
   "name": "python",
   "nbconvert_exporter": "python",
   "pygments_lexer": "ipython3",
   "version": "3.7.4"
  }
 },
 "nbformat": 4,
 "nbformat_minor": 2
}
