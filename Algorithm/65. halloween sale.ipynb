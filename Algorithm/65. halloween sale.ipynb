{
 "cells": [
  {
   "cell_type": "code",
   "execution_count": null,
   "metadata": {},
   "outputs": [],
   "source": [
    "def howManyGames(p, d, m, s):\n",
    "    # Return the number of games you can buy\n",
    "    # p = original price\n",
    "    # d = discount\n",
    "    # m = minimum price\n",
    "    # s = budget\n",
    "\n",
    "    # rather than finding the exact formula, we can just loop\n",
    "    # there are 10 ^ 4 iterations at most\n",
    "    nb = 0\n",
    "    while s >= p:\n",
    "        s -= p\n",
    "        p = max(m, p - d)\n",
    "        nb += 1\n",
    "    return nb\n",
    "\n",
    "\n",
    "if __name__ == \"__main__\":\n",
    "    p, d, m, s = input().strip().split(' ')\n",
    "    p, d, m, s = [int(p), int(d), int(m), int(s)]\n",
    "    answer = howManyGames(p, d, m, s)\n",
    "    print(answer)\n",
    "\n",
    "\n",
    "\"\"\" here the mathematical solution:\n",
    "\n",
    "from math import floor, sqrt\n",
    "p, d, m, s = map(int, input().split())\n",
    "x = ((p-m) + (d-1)) // d # after x games, all cost m\n",
    "cx = x*p - ((x*(x-1))>>1)*d\n",
    "if s <= cx:\n",
    "    # solve (-d/2)*n^2 + (p-d/2)*n - s <= 0\n",
    "    v = 1 + p/d\n",
    "    print(floor(v - sqrt(v*v - 2*s/d)))\n",
    "else:\n",
    "    print(x + (s - cx) // m)\n",
    "\n",
    "\"\"\""
   ]
  }
 ],
 "metadata": {
  "kernelspec": {
   "display_name": "Python 3",
   "language": "python",
   "name": "python3"
  },
  "language_info": {
   "codemirror_mode": {
    "name": "ipython",
    "version": 3
   },
   "file_extension": ".py",
   "mimetype": "text/x-python",
   "name": "python",
   "nbconvert_exporter": "python",
   "pygments_lexer": "ipython3",
   "version": "3.7.4"
  }
 },
 "nbformat": 4,
 "nbformat_minor": 2
}
