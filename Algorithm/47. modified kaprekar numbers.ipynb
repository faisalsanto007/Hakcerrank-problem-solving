{
 "cells": [
  {
   "cell_type": "code",
   "execution_count": null,
   "metadata": {},
   "outputs": [],
   "source": [
    "p=int(input())\n",
    "q=int(input())\n",
    "flag = True\n",
    "for i in range(p,q+1):\n",
    "    sq = i*i\n",
    "    s=str(sq)\n",
    "    if sq < 10:\n",
    "        s = '0'+s\n",
    "    l = s[0:int(len(s)/2)]\n",
    "    r = s[int(len(s)/2):]\n",
    "    if int(l)+int(r) == i:\n",
    "        print (i , end = ' ')\n",
    "        flag = False\n",
    "if flag:\n",
    "    print (\"INVALID RANGE\")"
   ]
  }
 ],
 "metadata": {
  "kernelspec": {
   "display_name": "Python 3",
   "language": "python",
   "name": "python3"
  },
  "language_info": {
   "codemirror_mode": {
    "name": "ipython",
    "version": 3
   },
   "file_extension": ".py",
   "mimetype": "text/x-python",
   "name": "python",
   "nbconvert_exporter": "python",
   "pygments_lexer": "ipython3",
   "version": "3.7.4"
  }
 },
 "nbformat": 4,
 "nbformat_minor": 2
}
