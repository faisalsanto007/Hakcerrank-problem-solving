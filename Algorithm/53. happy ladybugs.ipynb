{
 "cells": [
  {
   "cell_type": "code",
   "execution_count": 7,
   "metadata": {},
   "outputs": [
    {
     "name": "stdout",
     "output_type": "stream",
     "text": [
      "4\n",
      "7\n",
      "RBY_YBR\n",
      "YES\n",
      "6\n",
      "X-Y__X\n",
      "NO\n",
      "2\n",
      "__\n",
      "YES\n",
      "6\n",
      "B_RRBR\n",
      "YES\n"
     ]
    }
   ],
   "source": [
    "import sys\n",
    "from collections import Counter\n",
    "\n",
    "Q = int(input().strip())\n",
    "for a0 in range(Q):\n",
    "    n = int(input().strip())\n",
    "    b = input().strip()\n",
    "    #print(b)\n",
    "    counts = Counter(b)\n",
    "    #print (counts\n",
    "    flag = False\n",
    "    f = False;\n",
    "    cntS = 0\n",
    "    for k,v in counts.items():\n",
    "        if(k != '_' and v == 1):\n",
    "            print (\"NO\")\n",
    "            flag = True\n",
    "            break\n",
    "        elif(k == '_'):\n",
    "            cntS += 1\n",
    "    \n",
    "    if(cntS == n and flag == False):\n",
    "        print(\"YES\")\n",
    "        flag = True\n",
    "    elif(flag == False):\n",
    "        if(cntS == 0):\n",
    "            i = 0\n",
    "            while(i<n-1):\n",
    "                \n",
    "                if(b[i] == b[i+1]):\n",
    "                    while(i < n-1 and b[i] == b[i+1] ):\n",
    "                        #print(i)\n",
    "                        i += 1\n",
    "                else: \n",
    "                    print(\"NO\")\n",
    "                    f = True\n",
    "                    break\n",
    "                i += 1\n",
    "                \n",
    "    if(flag == False and f == False):\n",
    "        print(\"YES\")\n"
   ]
  }
 ],
 "metadata": {
  "kernelspec": {
   "display_name": "Python 3",
   "language": "python",
   "name": "python3"
  },
  "language_info": {
   "codemirror_mode": {
    "name": "ipython",
    "version": 3
   },
   "file_extension": ".py",
   "mimetype": "text/x-python",
   "name": "python",
   "nbconvert_exporter": "python",
   "pygments_lexer": "ipython3",
   "version": "3.7.4"
  }
 },
 "nbformat": 4,
 "nbformat_minor": 2
}
